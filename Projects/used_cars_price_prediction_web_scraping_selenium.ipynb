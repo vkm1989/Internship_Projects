{
 "cells": [
  {
   "attachments": {
    "image.png": {
     "image/png": "[encoded data removed]"
    }
   },
   "cell_type": "markdown",
   "id": "2ce3f173",
   "metadata": {},
   "source": [
    "   ![image.png](attachment:image.png)"
   ]
  },
  {
   "cell_type": "markdown",
   "id": "c5aca43e",
   "metadata": {},
   "source": [
    "**Name: Vikas Kumar Mishra**\n",
    "\n",
    "**Batch: Internship-32**\n",
    "\n",
    "**Id:44**"
   ]
  },
  {
   "cell_type": "markdown",
   "id": "0659f7cd",
   "metadata": {},
   "source": [
    "#                                                          PROJECT: CAR PRICE PREDICTION"
   ]
  },
  {
   "cell_type": "markdown",
   "id": "78b4087a",
   "metadata": {},
   "source": [
    "**With the covid 19 impact in the market, we have seen lot of changes in the car market. Now some cars are in demand hence making them costly and some are not in demand hence cheaper. One of our clients works with small traders, who sell used cars. With the change in market due to covid 19 impact, our client is facing problems with their previous car price valuation machine learning models. So, they are looking for new machine learning models from new data. We have to make car price valuation model.**"
   ]
  },
  {
   "cell_type": "markdown",
   "id": "ced45d34",
   "metadata": {},
   "source": [
    "**Data Collection Phase**"
   ]
  },
  {
   "cell_type": "markdown",
   "id": "d21fc6a8",
   "metadata": {},
   "source": [
    "**You have to scrape at least 5000 used cars data. You can scrape more data as well, it’s up to you. more the data better the model\n",
    "In this section You need to scrape the data of used cars from websites (Olx, cardekho, Cars24 etc.) You need web scraping for this. You have to fetch data for different locations. The number of\n",
    "columns for data doesn’t have limit, it’s up to you and your creativity. Generally, these columns are Brand, model, variant, manufacturing year, driven kilometers, fuel, number of owners, location and at last target variable Price of the car. This data is to give you a hint about important variables in used car model. You can make changes to it, you can add or you can remove some columns, it completely depends on the website from which you are fetching the data.\n",
    "Try to include all types of cars in your data for example- SUV, Sedans, Coupe, minivan, Hatchback.**"
   ]
  },
  {
   "cell_type": "markdown",
   "id": "de123e28",
   "metadata": {},
   "source": [
    "# 1.Web Scraping Data of Used Cars "
   ]
  },
  {
   "cell_type": "markdown",
   "id": "c96dc4c7",
   "metadata": {},
   "source": [
    "# 2.Data Cleaning"
   ]
  },
  {
   "cell_type": "markdown",
   "id": "4637868f",
   "metadata": {},
   "source": [
    "**Selenium will be used for webscraping data from cardheko.com**"
   ]
  },
  {
   "cell_type": "markdown",
   "id": "30ab77ce",
   "metadata": {},
   "source": [
    "# Scraping URLs of Used car from Cardheko.com"
   ]
  },
  {
   "cell_type": "markdown",
   "id": "710ca83d",
   "metadata": {},
   "source": [
    "**Import Required Libraries**"
   ]
  },
  {
   "cell_type": "code",
   "execution_count": 1,
   "id": "9d872f25",
   "metadata": {},
   "outputs": [],
   "source": [
    "import pandas as pd\n",
    "import numpy as np\n",
    "import time\n",
    "import selenium\n",
    "from selenium import webdriver\n",
    "from selenium.webdriver.common.by import By\n",
    "#from selenium.webdriver.common.keys import Keys\n",
    "from selenium.common.exceptions import StaleElementReferenceException, NoSuchElementException \n",
    "import warnings\n",
    "warnings.filterwarnings('ignore')"
   ]
  },
  {
   "cell_type": "markdown",
   "id": "b124a49e",
   "metadata": {},
   "source": [
    "**Import web-Driver**"
   ]
  },
  {
   "cell_type": "code",
   "execution_count": 26,
   "id": "2ac0fd6d",
   "metadata": {},
   "outputs": [],
   "source": [
    "driver=webdriver.Chrome(\"chromedriver.exe\")\n",
    "driver.maximize_window()"
   ]
  },
  {
   "cell_type": "markdown",
   "id": "f78b11ec",
   "metadata": {},
   "source": [
    "**Open The Website cardekho.com in Browser**"
   ]
  },
  {
   "cell_type": "code",
   "execution_count": 27,
   "id": "7da0d633",
   "metadata": {},
   "outputs": [],
   "source": [
    "url = \"https://www.cardekho.com/\"\n",
    "driver.get(url)\n",
    "time.sleep(3)"
   ]
  },
  {
   "cell_type": "code",
   "execution_count": 28,
   "id": "cc8b43fd",
   "metadata": {},
   "outputs": [],
   "source": [
    "Used_cars=driver.find_element(By.XPATH, '/html/body/div[2]/div/header/div[2]/div/div/nav/ul/li[2]/ul/li[2]/a').get_attribute('href')\n",
    "driver.get(Used_cars)\n",
    "time.sleep(3)"
   ]
  },
  {
   "cell_type": "markdown",
   "id": "7a898a64",
   "metadata": {},
   "source": [
    "**Collecting url of different City or location**"
   ]
  },
  {
   "cell_type": "markdown",
   "id": "e921d76c",
   "metadata": {},
   "source": [
    "**Data From Ahmedabad city**"
   ]
  },
  {
   "cell_type": "code",
   "execution_count": 29,
   "id": "8863e2dd",
   "metadata": {},
   "outputs": [],
   "source": [
    "url = \"https://www.cardekho.com/used-cars+in+ahmedabad\"\n",
    "driver.get(url)\n",
    "time.sleep(3)"
   ]
  },
  {
   "cell_type": "code",
   "execution_count": 33,
   "id": "2a983cad",
   "metadata": {},
   "outputs": [],
   "source": [
    "from tqdm import tqdm"
   ]
  },
  {
   "cell_type": "code",
   "execution_count": 34,
   "id": "ee8d19c9",
   "metadata": {},
   "outputs": [
    {
     "name": "stderr",
     "output_type": "stream",
     "text": [
      "100%|████████████████████████████████████████████████████████████████████████████████| 200/200 [07:42<00:00,  2.31s/it]\n"
     ]
    }
   ],
   "source": [
    "# Make a terminal progress bar using tqdm \n",
    "# Use \"_\" variable to indicate that the loop counter is not actually used in the loop.\n",
    "\n",
    "\n",
    "\n",
    "for _ in tqdm(range(0,200)):\n",
    "    time.sleep(1)\n",
    "    driver.execute_script(\"window.scrollBy(0,1000)\",\"\")\n",
    "    time.sleep(1)\n",
    "    driver.execute_script(\"window.scrollBy(0,-350)\")"
   ]
  },
  {
   "cell_type": "code",
   "execution_count": 35,
   "id": "ca300bb3",
   "metadata": {},
   "outputs": [
    {
     "name": "stderr",
     "output_type": "stream",
     "text": [
      "100%|████████████████████████████████████████████████████████████████████████████████| 920/920 [04:27<00:00,  3.44it/s]\n"
     ]
    }
   ],
   "source": [
    "Car_url_ahmbd = []\n",
    "car_url_ahmbd = driver.find_elements(By.XPATH, '//div[@class=\"gsc_col-xs-12 gsc_col-sm-6 gsc_col-md-4 cardColumn\"]/div[1]/div[2]/div/div/h3/a')   \n",
    "for i in tqdm(range(len(car_url_ahmbd))):\n",
    "    Car_url_ahmbd.append(car_url_ahmbd[i].get_attribute('href'))\n",
    "time.sleep(2)"
   ]
  },
  {
   "cell_type": "code",
   "execution_count": 78,
   "id": "64b52ee4",
   "metadata": {},
   "outputs": [
    {
     "data": {
      "text/plain": [
       "920"
      ]
     },
     "execution_count": 78,
     "metadata": {},
     "output_type": "execute_result"
    }
   ],
   "source": [
    "len(Car_url_ahmbd)"
   ]
  },
  {
   "cell_type": "code",
   "execution_count": 38,
   "id": "e913aca5",
   "metadata": {},
   "outputs": [],
   "source": [
    "#Car_url_ahmbd"
   ]
  },
  {
   "cell_type": "markdown",
   "id": "e4699ad3",
   "metadata": {},
   "source": [
    "**Data From Bangalore city**"
   ]
  },
  {
   "cell_type": "code",
   "execution_count": 39,
   "id": "b9b9d4b7",
   "metadata": {},
   "outputs": [],
   "source": [
    "url = \"https://www.cardekho.com/used-cars+in+bangalore\"\n",
    "driver.get(url)\n",
    "time.sleep(1)"
   ]
  },
  {
   "cell_type": "code",
   "execution_count": 44,
   "id": "d3e11240",
   "metadata": {},
   "outputs": [
    {
     "name": "stderr",
     "output_type": "stream",
     "text": [
      "100%|████████████████████████████████████████████████████████████████████████████████| 300/300 [06:13<00:00,  1.25s/it]\n"
     ]
    }
   ],
   "source": [
    "for _ in tqdm(range(0,300)):\n",
    "    time.sleep(0.5)\n",
    "    driver.execute_script(\"window.scrollBy(0,1000)\",\"\")\n",
    "    time.sleep(0.5)\n",
    "    driver.execute_script(\"window.scrollBy(0,-350)\")"
   ]
  },
  {
   "cell_type": "code",
   "execution_count": 45,
   "id": "dc283be7",
   "metadata": {},
   "outputs": [
    {
     "name": "stderr",
     "output_type": "stream",
     "text": [
      "100%|█████████████████████████████████████████████████████████████████████████████| 1602/1602 [00:13<00:00, 118.18it/s]\n"
     ]
    }
   ],
   "source": [
    "Car_url_bang = []\n",
    "car_url_bang = driver.find_elements(By.XPATH, '//div[@class=\"NewUcCompCard posR\"]/div[1]/div[2]/div/div/h3/a')   \n",
    "for i in tqdm(range(len(car_url_bang))):\n",
    "    Car_url_bang.append(car_url_bang[i].get_attribute('href'))\n",
    "time.sleep(2)"
   ]
  },
  {
   "cell_type": "code",
   "execution_count": 79,
   "id": "552a4626",
   "metadata": {},
   "outputs": [
    {
     "data": {
      "text/plain": [
       "1602"
      ]
     },
     "execution_count": 79,
     "metadata": {},
     "output_type": "execute_result"
    }
   ],
   "source": [
    "len(Car_url_bang)"
   ]
  },
  {
   "cell_type": "code",
   "execution_count": 48,
   "id": "7abe87be",
   "metadata": {},
   "outputs": [],
   "source": [
    "#Car_url_bang"
   ]
  },
  {
   "cell_type": "markdown",
   "id": "c1c84234",
   "metadata": {},
   "source": [
    "**Data From Chennai city**"
   ]
  },
  {
   "cell_type": "code",
   "execution_count": 50,
   "id": "756569d1",
   "metadata": {},
   "outputs": [],
   "source": [
    "url = \"https://www.cardekho.com/used-cars+in+chennai\"\n",
    "driver.get(url)\n",
    "time.sleep(2)"
   ]
  },
  {
   "cell_type": "code",
   "execution_count": 51,
   "id": "312dd9e0",
   "metadata": {},
   "outputs": [
    {
     "name": "stderr",
     "output_type": "stream",
     "text": [
      "100%|████████████████████████████████████████████████████████████████████████████████| 200/200 [03:38<00:00,  1.09s/it]\n"
     ]
    }
   ],
   "source": [
    "for _ in tqdm(range(0,200)):\n",
    "    time.sleep(0.5)\n",
    "    driver.execute_script(\"window.scrollBy(0,1000)\",\"\")\n",
    "    time.sleep(0.5)\n",
    "    driver.execute_script(\"window.scrollBy(0,-350)\")"
   ]
  },
  {
   "cell_type": "code",
   "execution_count": 52,
   "id": "ef5596ed",
   "metadata": {},
   "outputs": [
    {
     "name": "stderr",
     "output_type": "stream",
     "text": [
      "100%|█████████████████████████████████████████████████████████████████████████████| 1060/1060 [00:10<00:00, 102.14it/s]\n"
     ]
    }
   ],
   "source": [
    "Car_url_chen = []\n",
    "car_url_chen = driver.find_elements(By.XPATH, '//div[@class=\"gsc_col-xs-12 gsc_col-sm-6 gsc_col-md-4 cardColumn\"]/div[1]/div[2]/div/div/h3/a')   \n",
    "for i in tqdm(range(len(car_url_chen))):\n",
    "    Car_url_chen.append(car_url_chen[i].get_attribute('href'))\n",
    "time.sleep(2)"
   ]
  },
  {
   "cell_type": "code",
   "execution_count": 80,
   "id": "6f01adf0",
   "metadata": {},
   "outputs": [
    {
     "data": {
      "text/plain": [
       "1060"
      ]
     },
     "execution_count": 80,
     "metadata": {},
     "output_type": "execute_result"
    }
   ],
   "source": [
    "len(Car_url_chen)"
   ]
  },
  {
   "cell_type": "code",
   "execution_count": 55,
   "id": "d969842d",
   "metadata": {},
   "outputs": [],
   "source": [
    "#Car_url_chen"
   ]
  },
  {
   "cell_type": "markdown",
   "id": "82cccc32",
   "metadata": {},
   "source": [
    "**Data From Delhi/Ncr city**"
   ]
  },
  {
   "cell_type": "code",
   "execution_count": 56,
   "id": "4dd6ac6a",
   "metadata": {},
   "outputs": [],
   "source": [
    "url = \"https://www.cardekho.com/used-cars+in+delhi-ncr\"\n",
    "driver.get(url)\n",
    "time.sleep(2)"
   ]
  },
  {
   "cell_type": "code",
   "execution_count": 57,
   "id": "3fabce8b",
   "metadata": {},
   "outputs": [
    {
     "name": "stderr",
     "output_type": "stream",
     "text": [
      "100%|████████████████████████████████████████████████████████████████████████████████| 500/500 [22:04<00:00,  2.65s/it]\n"
     ]
    }
   ],
   "source": [
    "for _ in tqdm(range(0,500)):\n",
    "    time.sleep(0.5)\n",
    "    driver.execute_script(\"window.scrollBy(0,1000)\",\"\")\n",
    "    time.sleep(0.5)\n",
    "    driver.execute_script(\"window.scrollBy(0,-350)\")"
   ]
  },
  {
   "cell_type": "code",
   "execution_count": 58,
   "id": "263db1db",
   "metadata": {},
   "outputs": [
    {
     "name": "stderr",
     "output_type": "stream",
     "text": [
      "100%|██████████████████████████████████████████████████████████████████████████████| 1960/1960 [00:26<00:00, 73.46it/s]\n"
     ]
    }
   ],
   "source": [
    "Car_url_del = []\n",
    "car_url_del = driver.find_elements(By.XPATH, '//div[@class=\"gsc_col-xs-12 gsc_col-sm-6 gsc_col-md-4 cardColumn\"]/div[1]/div[2]/div/div/h3/a')   \n",
    "for i in tqdm(range(len(car_url_del))):\n",
    "    Car_url_del.append(car_url_del[i].get_attribute('href'))\n",
    "time.sleep(2)"
   ]
  },
  {
   "cell_type": "code",
   "execution_count": 81,
   "id": "a0393f32",
   "metadata": {},
   "outputs": [
    {
     "data": {
      "text/plain": [
       "1960"
      ]
     },
     "execution_count": 81,
     "metadata": {},
     "output_type": "execute_result"
    }
   ],
   "source": [
    "len(Car_url_del)"
   ]
  },
  {
   "cell_type": "code",
   "execution_count": 61,
   "id": "85766b55",
   "metadata": {
    "scrolled": true
   },
   "outputs": [],
   "source": [
    "#Car_url_del"
   ]
  },
  {
   "cell_type": "markdown",
   "id": "ef343a44",
   "metadata": {},
   "source": [
    "**Data From Maharashtra city**"
   ]
  },
  {
   "cell_type": "code",
   "execution_count": 72,
   "id": "de37e304",
   "metadata": {},
   "outputs": [],
   "source": [
    "url = \"https://www.cardekho.com/used-cars+in+maharashtra\"\n",
    "driver.get(url)\n",
    "time.sleep(2)"
   ]
  },
  {
   "cell_type": "code",
   "execution_count": 73,
   "id": "72f9373b",
   "metadata": {},
   "outputs": [
    {
     "name": "stderr",
     "output_type": "stream",
     "text": [
      "100%|████████████████████████████████████████████████████████████████████████████████| 500/500 [23:11<00:00,  2.78s/it]\n"
     ]
    }
   ],
   "source": [
    "for _ in tqdm(range(0,500)):\n",
    "    time.sleep(0.5)\n",
    "    driver.execute_script(\"window.scrollBy(0,1000)\",\"\")\n",
    "    time.sleep(0.5)\n",
    "    driver.execute_script(\"window.scrollBy(0,-350)\")"
   ]
  },
  {
   "cell_type": "code",
   "execution_count": 74,
   "id": "2fcf9d60",
   "metadata": {},
   "outputs": [
    {
     "name": "stderr",
     "output_type": "stream",
     "text": [
      "100%|████████████████████████████████████████████████████████████████████████████| 2320/2320 [1:35:34<00:00,  2.47s/it]\n"
     ]
    }
   ],
   "source": [
    "Car_url_mha = []\n",
    "car_url_mha = driver.find_elements(By.XPATH, '//div[@class=\"gsc_col-xs-12 gsc_col-sm-6 gsc_col-md-4 cardColumn\"]/div[1]/div[2]/div/div/h3/a')   \n",
    "for i in tqdm(range(len(car_url_mha))):\n",
    "    Car_url_mha.append(car_url_mha[i].get_attribute('href'))\n",
    "time.sleep(2)"
   ]
  },
  {
   "cell_type": "code",
   "execution_count": 82,
   "id": "e3932917",
   "metadata": {},
   "outputs": [
    {
     "data": {
      "text/plain": [
       "2320"
      ]
     },
     "execution_count": 82,
     "metadata": {},
     "output_type": "execute_result"
    }
   ],
   "source": [
    "len(Car_url_mha)"
   ]
  },
  {
   "cell_type": "code",
   "execution_count": 77,
   "id": "c0e4d983",
   "metadata": {},
   "outputs": [],
   "source": [
    "#Car_url_mha"
   ]
  },
  {
   "cell_type": "code",
   "execution_count": 83,
   "id": "5c1ab446",
   "metadata": {},
   "outputs": [],
   "source": [
    "All_Car_url=[]"
   ]
  },
  {
   "cell_type": "code",
   "execution_count": 84,
   "id": "52a6d826",
   "metadata": {},
   "outputs": [],
   "source": [
    "All_Car_url = Car_url_chen + Car_url_ahmbd + Car_url_bang + Car_url_del + Car_url_mha"
   ]
  },
  {
   "cell_type": "code",
   "execution_count": 85,
   "id": "ca8bc172",
   "metadata": {},
   "outputs": [
    {
     "data": {
      "text/plain": [
       "7862"
      ]
     },
     "execution_count": 85,
     "metadata": {},
     "output_type": "execute_result"
    }
   ],
   "source": [
    "len(All_Car_url)"
   ]
  },
  {
   "cell_type": "code",
   "execution_count": 92,
   "id": "dbf241a5",
   "metadata": {},
   "outputs": [],
   "source": [
    "#All_Car_url"
   ]
  },
  {
   "cell_type": "markdown",
   "id": "e0d0ad98",
   "metadata": {},
   "source": [
    "**Importing excel file contain URLs.**"
   ]
  },
  {
   "cell_type": "code",
   "execution_count": 4,
   "id": "6a27de45",
   "metadata": {},
   "outputs": [],
   "source": [
    "import pandas as pd"
   ]
  },
  {
   "cell_type": "code",
   "execution_count": 87,
   "id": "4bd3b447",
   "metadata": {},
   "outputs": [],
   "source": [
    "Car_link = pd.DataFrame({})\n",
    "Car_link['Urls'] = All_Car_url"
   ]
  },
  {
   "cell_type": "code",
   "execution_count": 88,
   "id": "53636e8c",
   "metadata": {},
   "outputs": [],
   "source": [
    "Car_link.to_excel('All_Car_url.xlsx', index = False)"
   ]
  },
  {
   "cell_type": "code",
   "execution_count": 56,
   "id": "bf4f26e5",
   "metadata": {},
   "outputs": [],
   "source": [
    "d_f=pd.read_excel('All_Car_url.xlsx')"
   ]
  },
  {
   "cell_type": "code",
   "execution_count": 57,
   "id": "45400049",
   "metadata": {
    "scrolled": false
   },
   "outputs": [
    {
     "data": {
      "text/html": [
       "<div>\n",
       "<style scoped>\n",
       "    .dataframe tbody tr th:only-of-type {\n",
       "        vertical-align: middle;\n",
       "    }\n",
       "\n",
       "    .dataframe tbody tr th {\n",
       "        vertical-align: top;\n",
       "    }\n",
       "\n",
       "    .dataframe thead th {\n",
       "        text-align: right;\n",
       "    }\n",
       "</style>\n",
       "<table border=\"1\" class=\"dataframe\">\n",
       "  <thead>\n",
       "    <tr style=\"text-align: right;\">\n",
       "      <th></th>\n",
       "      <th>Urls</th>\n",
       "    </tr>\n",
       "  </thead>\n",
       "  <tbody>\n",
       "    <tr>\n",
       "      <th>0</th>\n",
       "      <td>https://www.cardekho.com/used-car-details/used...</td>\n",
       "    </tr>\n",
       "    <tr>\n",
       "      <th>1</th>\n",
       "      <td>https://www.cardekho.com/used-car-details/used...</td>\n",
       "    </tr>\n",
       "    <tr>\n",
       "      <th>2</th>\n",
       "      <td>https://www.cardekho.com/used-car-details/used...</td>\n",
       "    </tr>\n",
       "    <tr>\n",
       "      <th>3</th>\n",
       "      <td>https://www.cardekho.com/used-car-details/used...</td>\n",
       "    </tr>\n",
       "    <tr>\n",
       "      <th>4</th>\n",
       "      <td>https://www.cardekho.com/used-car-details/used...</td>\n",
       "    </tr>\n",
       "    <tr>\n",
       "      <th>...</th>\n",
       "      <td>...</td>\n",
       "    </tr>\n",
       "    <tr>\n",
       "      <th>7857</th>\n",
       "      <td>https://www.cardekho.com/used-car-details/used...</td>\n",
       "    </tr>\n",
       "    <tr>\n",
       "      <th>7858</th>\n",
       "      <td>https://www.cardekho.com/used-car-details/used...</td>\n",
       "    </tr>\n",
       "    <tr>\n",
       "      <th>7859</th>\n",
       "      <td>https://www.cardekho.com/used-car-details/used...</td>\n",
       "    </tr>\n",
       "    <tr>\n",
       "      <th>7860</th>\n",
       "      <td>https://www.cardekho.com/used-car-details/used...</td>\n",
       "    </tr>\n",
       "    <tr>\n",
       "      <th>7861</th>\n",
       "      <td>https://www.cardekho.com/used-car-details/used...</td>\n",
       "    </tr>\n",
       "  </tbody>\n",
       "</table>\n",
       "<p>7862 rows × 1 columns</p>\n",
       "</div>"
      ],
      "text/plain": [
       "                                                   Urls\n",
       "0     https://www.cardekho.com/used-car-details/used...\n",
       "1     https://www.cardekho.com/used-car-details/used...\n",
       "2     https://www.cardekho.com/used-car-details/used...\n",
       "3     https://www.cardekho.com/used-car-details/used...\n",
       "4     https://www.cardekho.com/used-car-details/used...\n",
       "...                                                 ...\n",
       "7857  https://www.cardekho.com/used-car-details/used...\n",
       "7858  https://www.cardekho.com/used-car-details/used...\n",
       "7859  https://www.cardekho.com/used-car-details/used...\n",
       "7860  https://www.cardekho.com/used-car-details/used...\n",
       "7861  https://www.cardekho.com/used-car-details/used...\n",
       "\n",
       "[7862 rows x 1 columns]"
      ]
     },
     "execution_count": 57,
     "metadata": {},
     "output_type": "execute_result"
    }
   ],
   "source": [
    "d_f"
   ]
  },
  {
   "cell_type": "markdown",
   "id": "5ed4c40d",
   "metadata": {},
   "source": [
    "**WE HAVE SCRAP MORE THAN 7000 URLs.**"
   ]
  },
  {
   "cell_type": "markdown",
   "id": "462c4768",
   "metadata": {},
   "source": [
    "# **Extract Cars Model Data**"
   ]
  },
  {
   "cell_type": "code",
   "execution_count": 6,
   "id": "dff7d311",
   "metadata": {},
   "outputs": [],
   "source": [
    "# Empty List\n",
    "\n",
    "Model=[]\n",
    "Model_1=[]\n",
    "Model_2=[]\n",
    "Model_3=[]\n",
    "Model_4=[]\n",
    "Model_5=[]"
   ]
  },
  {
   "cell_type": "code",
   "execution_count": 245,
   "id": "40d84439",
   "metadata": {},
   "outputs": [],
   "source": [
    "driver=webdriver.Chrome(\"chromedriver.exe\")\n",
    "driver.maximize_window()"
   ]
  },
  {
   "cell_type": "code",
   "execution_count": 7,
   "id": "dc808241",
   "metadata": {},
   "outputs": [
    {
     "name": "stderr",
     "output_type": "stream",
     "text": [
      "100%|██████████████████████████████████████████████████████████████████████████████| 1000/1000 [16:43<00:00,  1.00s/it]\n"
     ]
    }
   ],
   "source": [
    "from tqdm import tqdm\n",
    "\n",
    "for j in tqdm(df['Urls'][0:1000]):\n",
    "    driver.get(j)\n",
    "    time.sleep(0.5)\n",
    "    # Extracting Car Model via xpath\n",
    "    try:\n",
    "        model = driver.find_element(By.XPATH, '/html/body/div[2]/div/div[1]/div/div/div/div[1]/div[2]/div[1]/div/div[1]')\n",
    "        Model.append(model.text.split()[1:])\n",
    "        \n",
    "    except NoSuchElementException:\n",
    "    \n",
    "        \n",
    "        try:\n",
    "            model = driver.find_element(By.XPATH, '//div[@class=\"gsc_col-xs-12 gsc_col-md-4 stickyPos topChange\"]/div[1]/div/div')\n",
    "            Model.append(model.text.split()[1:])  \n",
    "        except NoSuchElementException:\n",
    "            pass\n",
    "        \n",
    "    "
   ]
  },
  {
   "cell_type": "code",
   "execution_count": 8,
   "id": "191847a7",
   "metadata": {},
   "outputs": [
    {
     "data": {
      "text/plain": [
       "935"
      ]
     },
     "execution_count": 8,
     "metadata": {},
     "output_type": "execute_result"
    }
   ],
   "source": [
    "len(Model)"
   ]
  },
  {
   "cell_type": "code",
   "execution_count": 146,
   "id": "f7180de0",
   "metadata": {},
   "outputs": [],
   "source": [
    "#Model"
   ]
  },
  {
   "cell_type": "code",
   "execution_count": 9,
   "id": "c4626df8",
   "metadata": {},
   "outputs": [
    {
     "name": "stderr",
     "output_type": "stream",
     "text": [
      "100%|██████████████████████████████████████████████████████████████████████████████| 1000/1000 [17:13<00:00,  1.03s/it]\n"
     ]
    }
   ],
   "source": [
    "from tqdm import tqdm\n",
    "\n",
    "for j in tqdm(df['Urls'][1001:2001]):\n",
    "    driver.get(j)\n",
    "    time.sleep(0.5)\n",
    "    # Extracting Car Model via xpath\n",
    "    try:\n",
    "        model_1 = driver.find_element(By.XPATH, '/html/body/div[2]/div/div[1]/div/div/div/div[1]/div[2]/div[1]/div/div[1]')\n",
    "        Model_1.append(model_1.text.split()[1:])\n",
    "        \n",
    "    except NoSuchElementException:\n",
    "    \n",
    "        \n",
    "        try:\n",
    "            model_1 = driver.find_element(By.XPATH, '//div[@class=\"gsc_col-xs-12 gsc_col-md-4 stickyPos topChange\"]/div[1]/div/div')\n",
    "            Model_1.append(model_1.text.split()[1:])  \n",
    "        except NoSuchElementException:\n",
    "            pass"
   ]
  },
  {
   "cell_type": "code",
   "execution_count": 10,
   "id": "c73eba90",
   "metadata": {},
   "outputs": [
    {
     "data": {
      "text/plain": [
       "893"
      ]
     },
     "execution_count": 10,
     "metadata": {},
     "output_type": "execute_result"
    }
   ],
   "source": [
    "len(Model_1)"
   ]
  },
  {
   "cell_type": "code",
   "execution_count": 148,
   "id": "8fa38bd4",
   "metadata": {},
   "outputs": [],
   "source": [
    "#Model_1"
   ]
  },
  {
   "cell_type": "code",
   "execution_count": 11,
   "id": "5ee338d9",
   "metadata": {},
   "outputs": [
    {
     "name": "stderr",
     "output_type": "stream",
     "text": [
      "100%|██████████████████████████████████████████████████████████████████████████████| 1001/1001 [17:05<00:00,  1.02s/it]\n"
     ]
    }
   ],
   "source": [
    "from tqdm import tqdm\n",
    "\n",
    "for j in tqdm(df['Urls'][2002:3003]):\n",
    "    driver.get(j)\n",
    "    time.sleep(0.5)\n",
    "    # Extracting Car Model via xpath\n",
    "    try:\n",
    "        model_2 = driver.find_element(By.XPATH, '/html/body/div[2]/div/div[1]/div/div/div/div[1]/div[2]/div[1]/div/div[1]')\n",
    "        Model_2.append(model_2.text.split()[1:])\n",
    "        \n",
    "    except NoSuchElementException:\n",
    "    \n",
    "        \n",
    "        try:\n",
    "            model_2 = driver.find_element(By.XPATH, '//div[@class=\"gsc_col-xs-12 gsc_col-md-4 stickyPos topChange\"]/div[1]/div/div')\n",
    "            Model_2.append(model_2.text.split()[1:])  \n",
    "        except NoSuchElementException:\n",
    "            pass"
   ]
  },
  {
   "cell_type": "code",
   "execution_count": 12,
   "id": "2d262bf6",
   "metadata": {},
   "outputs": [
    {
     "name": "stderr",
     "output_type": "stream",
     "text": [
      "100%|██████████████████████████████████████████████████████████████████████████████| 1001/1001 [17:16<00:00,  1.04s/it]\n"
     ]
    }
   ],
   "source": [
    "from tqdm import tqdm\n",
    "\n",
    "for j in tqdm(df['Urls'][3004:4005]):\n",
    "    driver.get(j)\n",
    "    time.sleep(0.5)\n",
    "    # Extracting Car Model via xpath\n",
    "    try:\n",
    "        model_3 = driver.find_element(By.XPATH, '/html/body/div[2]/div/div[1]/div/div/div/div[1]/div[2]/div[1]/div/div[1]')\n",
    "        Model_3.append(model_3.text.split()[1:])\n",
    "        \n",
    "    except NoSuchElementException:\n",
    "    \n",
    "        \n",
    "        try:\n",
    "            model_3 = driver.find_element(By.XPATH, '//div[@class=\"gsc_col-xs-12 gsc_col-md-4 stickyPos topChange\"]/div[1]/div/div')\n",
    "            Model_3.append(model_3.text.split()[1:])  \n",
    "        except NoSuchElementException:\n",
    "            pass"
   ]
  },
  {
   "cell_type": "code",
   "execution_count": 13,
   "id": "932bf8dd",
   "metadata": {},
   "outputs": [
    {
     "name": "stderr",
     "output_type": "stream",
     "text": [
      "100%|██████████████████████████████████████████████████████████████████████████████| 1001/1001 [18:10<00:00,  1.09s/it]\n"
     ]
    }
   ],
   "source": [
    "from tqdm import tqdm\n",
    "\n",
    "for j in tqdm(df['Urls'][4006:5007]):\n",
    "    driver.get(j)\n",
    "    time.sleep(0.5)\n",
    "    # Extracting Car Model via xpath\n",
    "    try:\n",
    "        model_4 = driver.find_element(By.XPATH, '/html/body/div[2]/div/div[1]/div/div/div/div[1]/div[2]/div[1]/div/div[1]')\n",
    "        Model_4.append(model_4.text.split()[1:])\n",
    "        \n",
    "    except NoSuchElementException:\n",
    "    \n",
    "        \n",
    "        try:\n",
    "            model_4 = driver.find_element(By.XPATH, '//div[@class=\"gsc_col-xs-12 gsc_col-md-4 stickyPos topChange\"]/div[1]/div/div')\n",
    "            Model_4.append(model_4.text.split()[1:])  \n",
    "        except NoSuchElementException:\n",
    "            pass"
   ]
  },
  {
   "cell_type": "code",
   "execution_count": 14,
   "id": "fbf59290",
   "metadata": {},
   "outputs": [
    {
     "name": "stderr",
     "output_type": "stream",
     "text": [
      "100%|██████████████████████████████████████████████████████████████████████████████| 1000/1000 [17:07<00:00,  1.03s/it]\n"
     ]
    }
   ],
   "source": [
    "from tqdm import tqdm\n",
    "\n",
    "for j in tqdm(df['Urls'][6001:7001]):\n",
    "    driver.get(j)\n",
    "    time.sleep(0.5)\n",
    "    # Extracting Car Model via xpath\n",
    "    try:\n",
    "        model_5 = driver.find_element(By.XPATH, '/html/body/div[2]/div/div[1]/div/div/div/div[1]/div[2]/div[1]/div/div[1]')\n",
    "        Model_5.append(model_5.text.split()[1:])\n",
    "        \n",
    "    except NoSuchElementException:\n",
    "    \n",
    "        \n",
    "        try:\n",
    "            model_5 = driver.find_element(By.XPATH, '//div[@class=\"gsc_col-xs-12 gsc_col-md-4 stickyPos topChange\"]/div[1]/div/div')\n",
    "            Model_5.append(model_5.text.split()[1:])  \n",
    "        except NoSuchElementException:\n",
    "            pass"
   ]
  },
  {
   "cell_type": "markdown",
   "id": "ba203749",
   "metadata": {},
   "source": [
    "**Cheking length Of Cars Model**"
   ]
  },
  {
   "cell_type": "code",
   "execution_count": 15,
   "id": "1659eb4d",
   "metadata": {},
   "outputs": [
    {
     "name": "stdout",
     "output_type": "stream",
     "text": [
      "935 893 921 917 864 936\n"
     ]
    }
   ],
   "source": [
    "print(len(Model), len(Model_1), len(Model_2), len(Model_3), len(Model_4), len(Model_5))"
   ]
  },
  {
   "cell_type": "code",
   "execution_count": 16,
   "id": "bb923225",
   "metadata": {},
   "outputs": [],
   "source": [
    "Car_Model=[]"
   ]
  },
  {
   "cell_type": "code",
   "execution_count": 17,
   "id": "b9d55e55",
   "metadata": {},
   "outputs": [],
   "source": [
    "Car_Model = Model + Model_1 + Model_2 + Model_3 + Model_4 + Model_5"
   ]
  },
  {
   "cell_type": "code",
   "execution_count": 18,
   "id": "bef2fcbf",
   "metadata": {},
   "outputs": [
    {
     "data": {
      "text/plain": [
       "5466"
      ]
     },
     "execution_count": 18,
     "metadata": {},
     "output_type": "execute_result"
    }
   ],
   "source": [
    "len(Car_Model)"
   ]
  },
  {
   "cell_type": "code",
   "execution_count": 32,
   "id": "880f2c21",
   "metadata": {},
   "outputs": [],
   "source": [
    "#Car_Model"
   ]
  },
  {
   "cell_type": "markdown",
   "id": "a2c270a7",
   "metadata": {},
   "source": [
    "# **Extract Cars Price Data**"
   ]
  },
  {
   "cell_type": "code",
   "execution_count": 246,
   "id": "8be89abc",
   "metadata": {},
   "outputs": [],
   "source": [
    "Price=[]\n",
    "Price_1=[]\n",
    "Price_2=[]\n",
    "Price_3=[]\n",
    "Price_4=[]\n",
    "Price_5=[]"
   ]
  },
  {
   "cell_type": "code",
   "execution_count": 178,
   "id": "abf3f8b1",
   "metadata": {},
   "outputs": [],
   "source": [
    "import re"
   ]
  },
  {
   "cell_type": "code",
   "execution_count": 247,
   "id": "c65fff01",
   "metadata": {},
   "outputs": [
    {
     "name": "stderr",
     "output_type": "stream",
     "text": [
      "100%|██████████████████████████████████████████████████████████████████████████████████| 20/20 [00:25<00:00,  1.26s/it]\n"
     ]
    }
   ],
   "source": [
    "from tqdm import tqdm\n",
    "\n",
    "for j in tqdm(df['Urls'][0:20]):\n",
    "    driver.get(j)\n",
    "    time.sleep(0.5)\n",
    "    \n",
    "    try :\n",
    "        \n",
    "        price = driver.find_element(By.XPATH, '//div[@class=\"vehicle-description \"]/div/div[3]/span')\n",
    "        Price.append(price.text.replace(\"''\", \"\"))\n",
    "    except NoSuchElementException:\n",
    "        \n",
    "        try :\n",
    "            \n",
    "            price = driver.find_element(By.XPATH, '/html/body/div[2]/div/div[1]/div/div/div/div[1]/div[2]/div[1]/div/div[3]/span')\n",
    "            Price.append(price.text.replace(\"''\", \"\"))\n",
    "        except NoSuchElementException:\n",
    "                pass\n",
    "                \n",
    "                "
   ]
  },
  {
   "cell_type": "code",
   "execution_count": 81,
   "id": "858ae085",
   "metadata": {},
   "outputs": [
    {
     "name": "stderr",
     "output_type": "stream",
     "text": [
      "100%|██████████████████████████████████████████████████████████████████████████████| 1000/1000 [21:38<00:00,  1.30s/it]\n"
     ]
    }
   ],
   "source": [
    "from tqdm import tqdm\n",
    "\n",
    "for j in tqdm(df['Urls'][1001:2001]):\n",
    "    driver.get(j)\n",
    "    time.sleep(0.5)\n",
    "    \n",
    "    try :\n",
    "        \n",
    "        price_1 = driver.find_element(By.XPATH, '//div[@class=\"vehicle-description \"]/div/div[3]/span')\n",
    "        Price_1.append(price_1.text.split()[1:])\n",
    "    except NoSuchElementException:\n",
    "        \n",
    "        try :\n",
    "            \n",
    "            price_1 = driver.find_element(By.XPATH, '/html/body/div[2]/div/div[1]/div/div/div/div[1]/div[2]/div[1]/div/div[3]/span')\n",
    "            Price_1.append(price_1.text.split()[1:])\n",
    "        except NoSuchElementException:\n",
    "                pass\n",
    "                "
   ]
  },
  {
   "cell_type": "code",
   "execution_count": 82,
   "id": "ff41b652",
   "metadata": {},
   "outputs": [
    {
     "name": "stderr",
     "output_type": "stream",
     "text": [
      "100%|██████████████████████████████████████████████████████████████████████████████| 1001/1001 [21:13<00:00,  1.27s/it]\n"
     ]
    }
   ],
   "source": [
    "from tqdm import tqdm\n",
    "\n",
    "for j in tqdm(df['Urls'][2002:3003]):\n",
    "    driver.get(j)\n",
    "    time.sleep(0.5)\n",
    "    \n",
    "    try :\n",
    "        \n",
    "        price_2 = driver.find_element(By.XPATH, '//div[@class=\"vehicle-description \"]/div/div[3]/span')\n",
    "        Price_2.append(price_2.text.split()[1:])\n",
    "    except NoSuchElementException:\n",
    "        \n",
    "        try :\n",
    "            \n",
    "            price_2 = driver.find_element(By.XPATH, '/html/body/div[2]/div/div[1]/div/div/div/div[1]/div[2]/div[1]/div/div[3]/span')\n",
    "            Price_2.append(price_2.text.split()[1:])\n",
    "        except NoSuchElementException:\n",
    "                pass\n",
    "                "
   ]
  },
  {
   "cell_type": "code",
   "execution_count": 83,
   "id": "66b16ef0",
   "metadata": {},
   "outputs": [
    {
     "data": {
      "text/plain": [
       "883"
      ]
     },
     "execution_count": 83,
     "metadata": {},
     "output_type": "execute_result"
    }
   ],
   "source": [
    "len(Price_2)"
   ]
  },
  {
   "cell_type": "code",
   "execution_count": 85,
   "id": "382da391",
   "metadata": {},
   "outputs": [
    {
     "name": "stderr",
     "output_type": "stream",
     "text": [
      "100%|██████████████████████████████████████████████████████████████████████████████| 1001/1001 [18:31<00:00,  1.11s/it]\n"
     ]
    }
   ],
   "source": [
    "from tqdm import tqdm\n",
    "\n",
    "for j in tqdm(df['Urls'][3004:4005]):\n",
    "    driver.get(j)\n",
    "    time.sleep(0.5)\n",
    "    \n",
    "    try :\n",
    "        \n",
    "        price_3 = driver.find_element(By.XPATH, '//div[@class=\"vehicle-description \"]/div/div[3]/span')\n",
    "        Price_3.append(price_3.text.split()[1:])\n",
    "    except NoSuchElementException:\n",
    "        \n",
    "        try :\n",
    "            \n",
    "            price_3 = driver.find_element(By.XPATH, '/html/body/div[2]/div/div[1]/div/div/div/div[1]/div[2]/div[1]/div/div[3]/span')\n",
    "            Price_3.append(price_3.text.split()[1:])\n",
    "        except NoSuchElementException:\n",
    "                pass\n",
    "                "
   ]
  },
  {
   "cell_type": "code",
   "execution_count": 86,
   "id": "58e1c243",
   "metadata": {},
   "outputs": [
    {
     "data": {
      "text/plain": [
       "899"
      ]
     },
     "execution_count": 86,
     "metadata": {},
     "output_type": "execute_result"
    }
   ],
   "source": [
    "len(Price_3)"
   ]
  },
  {
   "cell_type": "code",
   "execution_count": 87,
   "id": "4fcdd97a",
   "metadata": {},
   "outputs": [
    {
     "name": "stderr",
     "output_type": "stream",
     "text": [
      "100%|██████████████████████████████████████████████████████████████████████████████| 1001/1001 [18:21<00:00,  1.10s/it]\n"
     ]
    }
   ],
   "source": [
    "from tqdm import tqdm\n",
    "\n",
    "for j in tqdm(df['Urls'][4006:5007]):\n",
    "    driver.get(j)\n",
    "    time.sleep(0.5)\n",
    "    \n",
    "    try :\n",
    "        \n",
    "        price_4 = driver.find_element(By.XPATH, '//div[@class=\"vehicle-description \"]/div/div[3]/span')\n",
    "        Price_4.append(price_4.text.split()[1:])\n",
    "    except NoSuchElementException:\n",
    "        \n",
    "        try :\n",
    "            \n",
    "            price_4 = driver.find_element(By.XPATH, '/html/body/div[2]/div/div[1]/div/div/div/div[1]/div[2]/div[1]/div/div[3]/span')\n",
    "            Price_4.append(price_4.text.split()[1:])\n",
    "        except NoSuchElementException:\n",
    "                pass\n",
    "                "
   ]
  },
  {
   "cell_type": "code",
   "execution_count": 88,
   "id": "3a328c8d",
   "metadata": {},
   "outputs": [
    {
     "data": {
      "text/plain": [
       "856"
      ]
     },
     "execution_count": 88,
     "metadata": {},
     "output_type": "execute_result"
    }
   ],
   "source": [
    "len(Price_4)"
   ]
  },
  {
   "cell_type": "code",
   "execution_count": 89,
   "id": "00205b23",
   "metadata": {},
   "outputs": [
    {
     "name": "stderr",
     "output_type": "stream",
     "text": [
      "100%|██████████████████████████████████████████████████████████████████████████████| 1000/1000 [20:31<00:00,  1.23s/it]\n"
     ]
    }
   ],
   "source": [
    "from tqdm import tqdm\n",
    "\n",
    "for j in tqdm(df['Urls'][6001:7001]):\n",
    "    driver.get(j)\n",
    "    time.sleep(0.5)\n",
    "    \n",
    "    try :\n",
    "        \n",
    "        price_5 = driver.find_element(By.XPATH, '//div[@class=\"vehicle-description \"]/div/div[3]/span')\n",
    "        Price_5.append(price_5.text.split()[1:])\n",
    "    except NoSuchElementException:\n",
    "        \n",
    "        try :\n",
    "            \n",
    "            price_5 = driver.find_element(By.XPATH, '/html/body/div[2]/div/div[1]/div/div/div/div[1]/div[2]/div[1]/div/div[3]/span')\n",
    "            Price_5.append(price_5.text.split()[1:])\n",
    "        except NoSuchElementException:\n",
    "                pass\n",
    "                "
   ]
  },
  {
   "cell_type": "markdown",
   "id": "3dfada42",
   "metadata": {},
   "source": [
    "**Cheking Length Of Car Price**"
   ]
  },
  {
   "cell_type": "code",
   "execution_count": 90,
   "id": "8fcdb79e",
   "metadata": {},
   "outputs": [
    {
     "name": "stdout",
     "output_type": "stream",
     "text": [
      "935 889 883 899 856 924\n"
     ]
    }
   ],
   "source": [
    "print(len(Price), len(Price_1), len(Price_2), len(Price_3), len(Price_4), len(Price_5))"
   ]
  },
  {
   "cell_type": "code",
   "execution_count": 91,
   "id": "e15026e2",
   "metadata": {},
   "outputs": [],
   "source": [
    "Car_Price=[]"
   ]
  },
  {
   "cell_type": "code",
   "execution_count": 92,
   "id": "7d097194",
   "metadata": {},
   "outputs": [],
   "source": [
    "Car_Price = Price + Price_1 + Price_2 + Price_3 + Price_4 + Price_5"
   ]
  },
  {
   "cell_type": "code",
   "execution_count": 93,
   "id": "9050792b",
   "metadata": {},
   "outputs": [
    {
     "data": {
      "text/plain": [
       "5386"
      ]
     },
     "execution_count": 93,
     "metadata": {},
     "output_type": "execute_result"
    }
   ],
   "source": [
    "len(Car_Price)"
   ]
  },
  {
   "cell_type": "code",
   "execution_count": 367,
   "id": "a419aeea",
   "metadata": {},
   "outputs": [],
   "source": [
    "Price_data=pd.DataFrame({'CAR_PRICE(Rs)':Car_Price[0:5100]})"
   ]
  },
  {
   "cell_type": "code",
   "execution_count": 368,
   "id": "af48bd0b",
   "metadata": {},
   "outputs": [
    {
     "data": {
      "text/html": [
       "<div>\n",
       "<style scoped>\n",
       "    .dataframe tbody tr th:only-of-type {\n",
       "        vertical-align: middle;\n",
       "    }\n",
       "\n",
       "    .dataframe tbody tr th {\n",
       "        vertical-align: top;\n",
       "    }\n",
       "\n",
       "    .dataframe thead th {\n",
       "        text-align: right;\n",
       "    }\n",
       "</style>\n",
       "<table border=\"1\" class=\"dataframe\">\n",
       "  <thead>\n",
       "    <tr style=\"text-align: right;\">\n",
       "      <th></th>\n",
       "      <th>CAR_PRICE(Rs)</th>\n",
       "    </tr>\n",
       "  </thead>\n",
       "  <tbody>\n",
       "    <tr>\n",
       "      <th>0</th>\n",
       "      <td>[10.95, Lakh]</td>\n",
       "    </tr>\n",
       "    <tr>\n",
       "      <th>1</th>\n",
       "      <td>[17.50, Lakh]</td>\n",
       "    </tr>\n",
       "    <tr>\n",
       "      <th>2</th>\n",
       "      <td>[4.40, Lakh]</td>\n",
       "    </tr>\n",
       "    <tr>\n",
       "      <th>3</th>\n",
       "      <td>[3.10, Lakh]</td>\n",
       "    </tr>\n",
       "    <tr>\n",
       "      <th>4</th>\n",
       "      <td>[7, Lakh]</td>\n",
       "    </tr>\n",
       "    <tr>\n",
       "      <th>...</th>\n",
       "      <td>...</td>\n",
       "    </tr>\n",
       "    <tr>\n",
       "      <th>5095</th>\n",
       "      <td>[4.30, Lakh]</td>\n",
       "    </tr>\n",
       "    <tr>\n",
       "      <th>5096</th>\n",
       "      <td>[4.50, Lakh]</td>\n",
       "    </tr>\n",
       "    <tr>\n",
       "      <th>5097</th>\n",
       "      <td>[3.35, Lakh]</td>\n",
       "    </tr>\n",
       "    <tr>\n",
       "      <th>5098</th>\n",
       "      <td>[9.75, Lakh]</td>\n",
       "    </tr>\n",
       "    <tr>\n",
       "      <th>5099</th>\n",
       "      <td>[2.35, Lakh]</td>\n",
       "    </tr>\n",
       "  </tbody>\n",
       "</table>\n",
       "<p>5100 rows × 1 columns</p>\n",
       "</div>"
      ],
      "text/plain": [
       "      CAR_PRICE(Rs)\n",
       "0     [10.95, Lakh]\n",
       "1     [17.50, Lakh]\n",
       "2      [4.40, Lakh]\n",
       "3      [3.10, Lakh]\n",
       "4         [7, Lakh]\n",
       "...             ...\n",
       "5095   [4.30, Lakh]\n",
       "5096   [4.50, Lakh]\n",
       "5097   [3.35, Lakh]\n",
       "5098   [9.75, Lakh]\n",
       "5099   [2.35, Lakh]\n",
       "\n",
       "[5100 rows x 1 columns]"
      ]
     },
     "execution_count": 368,
     "metadata": {},
     "output_type": "execute_result"
    }
   ],
   "source": [
    "Price_data"
   ]
  },
  {
   "cell_type": "code",
   "execution_count": 369,
   "id": "1cfbc13c",
   "metadata": {},
   "outputs": [],
   "source": [
    "Price_data.to_excel('car_prc_new.xlsx', index=False)"
   ]
  },
  {
   "cell_type": "code",
   "execution_count": 370,
   "id": "6e71b836",
   "metadata": {},
   "outputs": [
    {
     "data": {
      "text/html": [
       "<div>\n",
       "<style scoped>\n",
       "    .dataframe tbody tr th:only-of-type {\n",
       "        vertical-align: middle;\n",
       "    }\n",
       "\n",
       "    .dataframe tbody tr th {\n",
       "        vertical-align: top;\n",
       "    }\n",
       "\n",
       "    .dataframe thead th {\n",
       "        text-align: right;\n",
       "    }\n",
       "</style>\n",
       "<table border=\"1\" class=\"dataframe\">\n",
       "  <thead>\n",
       "    <tr style=\"text-align: right;\">\n",
       "      <th></th>\n",
       "      <th>CAR_PRICE(Rs)</th>\n",
       "    </tr>\n",
       "  </thead>\n",
       "  <tbody>\n",
       "    <tr>\n",
       "      <th>0</th>\n",
       "      <td>['10.95', 'Lakh']</td>\n",
       "    </tr>\n",
       "    <tr>\n",
       "      <th>1</th>\n",
       "      <td>['17.50', 'Lakh']</td>\n",
       "    </tr>\n",
       "    <tr>\n",
       "      <th>2</th>\n",
       "      <td>['4.40', 'Lakh']</td>\n",
       "    </tr>\n",
       "    <tr>\n",
       "      <th>3</th>\n",
       "      <td>['3.10', 'Lakh']</td>\n",
       "    </tr>\n",
       "    <tr>\n",
       "      <th>4</th>\n",
       "      <td>['7', 'Lakh']</td>\n",
       "    </tr>\n",
       "    <tr>\n",
       "      <th>...</th>\n",
       "      <td>...</td>\n",
       "    </tr>\n",
       "    <tr>\n",
       "      <th>5095</th>\n",
       "      <td>['4.30', 'Lakh']</td>\n",
       "    </tr>\n",
       "    <tr>\n",
       "      <th>5096</th>\n",
       "      <td>['4.50', 'Lakh']</td>\n",
       "    </tr>\n",
       "    <tr>\n",
       "      <th>5097</th>\n",
       "      <td>['3.35', 'Lakh']</td>\n",
       "    </tr>\n",
       "    <tr>\n",
       "      <th>5098</th>\n",
       "      <td>['9.75', 'Lakh']</td>\n",
       "    </tr>\n",
       "    <tr>\n",
       "      <th>5099</th>\n",
       "      <td>['2.35', 'Lakh']</td>\n",
       "    </tr>\n",
       "  </tbody>\n",
       "</table>\n",
       "<p>5100 rows × 1 columns</p>\n",
       "</div>"
      ],
      "text/plain": [
       "          CAR_PRICE(Rs)\n",
       "0     ['10.95', 'Lakh']\n",
       "1     ['17.50', 'Lakh']\n",
       "2      ['4.40', 'Lakh']\n",
       "3      ['3.10', 'Lakh']\n",
       "4         ['7', 'Lakh']\n",
       "...                 ...\n",
       "5095   ['4.30', 'Lakh']\n",
       "5096   ['4.50', 'Lakh']\n",
       "5097   ['3.35', 'Lakh']\n",
       "5098   ['9.75', 'Lakh']\n",
       "5099   ['2.35', 'Lakh']\n",
       "\n",
       "[5100 rows x 1 columns]"
      ]
     },
     "execution_count": 370,
     "metadata": {},
     "output_type": "execute_result"
    }
   ],
   "source": [
    "prs_new1=pd.read_excel('car_prc_3.xlsx')\n",
    "prs_new1"
   ]
  },
  {
   "cell_type": "markdown",
   "id": "4dafff72",
   "metadata": {},
   "source": [
    "**Replace Unwanted Character**"
   ]
  },
  {
   "cell_type": "code",
   "execution_count": 371,
   "id": "5662496f",
   "metadata": {},
   "outputs": [],
   "source": [
    "prs_new1['CAR_PRICE(Rs)'] = prs_new1['CAR_PRICE(Rs)'].str.replace('Lakh*','100000')\n",
    "prs_new1['CAR_PRICE(Rs)'] = prs_new1['CAR_PRICE(Rs)'].str.replace('Crore*','100000')\n",
    "#prs_new['CAR_PRICE(Rs)'] = prs_new['CAR_PRICE(Rs)'].str.replace('ore','')\n",
    "prs_new1['CAR_PRICE(Rs)'] = prs_new1['CAR_PRICE(Rs)'].str.replace(',','')\n",
    "prs_new1['CAR_PRICE(Rs)'] = prs_new1['CAR_PRICE(Rs)'].str.replace('*','')\n",
    "prs_new1['CAR_PRICE(Rs)'] = prs_new1['CAR_PRICE(Rs)'].str.replace('[','')\n",
    "prs_new1['CAR_PRICE(Rs)'] = prs_new1['CAR_PRICE(Rs)'].str.replace(']','')\n",
    "prs_new1['CAR_PRICE(Rs)'] = prs_new1['CAR_PRICE(Rs)'].str.replace(\"'\", \"\")\n"
   ]
  },
  {
   "cell_type": "code",
   "execution_count": 372,
   "id": "90833e3f",
   "metadata": {},
   "outputs": [
    {
     "data": {
      "text/html": [
       "<div>\n",
       "<style scoped>\n",
       "    .dataframe tbody tr th:only-of-type {\n",
       "        vertical-align: middle;\n",
       "    }\n",
       "\n",
       "    .dataframe tbody tr th {\n",
       "        vertical-align: top;\n",
       "    }\n",
       "\n",
       "    .dataframe thead th {\n",
       "        text-align: right;\n",
       "    }\n",
       "</style>\n",
       "<table border=\"1\" class=\"dataframe\">\n",
       "  <thead>\n",
       "    <tr style=\"text-align: right;\">\n",
       "      <th></th>\n",
       "      <th>CAR_PRICE(Rs)</th>\n",
       "    </tr>\n",
       "  </thead>\n",
       "  <tbody>\n",
       "    <tr>\n",
       "      <th>0</th>\n",
       "      <td>10.95 100000</td>\n",
       "    </tr>\n",
       "    <tr>\n",
       "      <th>1</th>\n",
       "      <td>17.50 100000</td>\n",
       "    </tr>\n",
       "    <tr>\n",
       "      <th>2</th>\n",
       "      <td>4.40 100000</td>\n",
       "    </tr>\n",
       "    <tr>\n",
       "      <th>3</th>\n",
       "      <td>3.10 100000</td>\n",
       "    </tr>\n",
       "    <tr>\n",
       "      <th>4</th>\n",
       "      <td>7 100000</td>\n",
       "    </tr>\n",
       "    <tr>\n",
       "      <th>...</th>\n",
       "      <td>...</td>\n",
       "    </tr>\n",
       "    <tr>\n",
       "      <th>5095</th>\n",
       "      <td>4.30 100000</td>\n",
       "    </tr>\n",
       "    <tr>\n",
       "      <th>5096</th>\n",
       "      <td>4.50 100000</td>\n",
       "    </tr>\n",
       "    <tr>\n",
       "      <th>5097</th>\n",
       "      <td>3.35 100000</td>\n",
       "    </tr>\n",
       "    <tr>\n",
       "      <th>5098</th>\n",
       "      <td>9.75 100000</td>\n",
       "    </tr>\n",
       "    <tr>\n",
       "      <th>5099</th>\n",
       "      <td>2.35 100000</td>\n",
       "    </tr>\n",
       "  </tbody>\n",
       "</table>\n",
       "<p>5100 rows × 1 columns</p>\n",
       "</div>"
      ],
      "text/plain": [
       "     CAR_PRICE(Rs)\n",
       "0     10.95 100000\n",
       "1     17.50 100000\n",
       "2      4.40 100000\n",
       "3      3.10 100000\n",
       "4         7 100000\n",
       "...            ...\n",
       "5095   4.30 100000\n",
       "5096   4.50 100000\n",
       "5097   3.35 100000\n",
       "5098   9.75 100000\n",
       "5099   2.35 100000\n",
       "\n",
       "[5100 rows x 1 columns]"
      ]
     },
     "execution_count": 372,
     "metadata": {},
     "output_type": "execute_result"
    }
   ],
   "source": [
    "prs_new1"
   ]
  },
  {
   "cell_type": "markdown",
   "id": "2397bacf",
   "metadata": {},
   "source": [
    "**Convert Car Price Column Data In To Float Data Type**"
   ]
  },
  {
   "cell_type": "code",
   "execution_count": 374,
   "id": "df411e5e",
   "metadata": {},
   "outputs": [],
   "source": [
    "prs_new1[['a','b']] = prs_new1['CAR_PRICE(Rs)'].str.split(expand=True)\n",
    "prs_new1['a'] = prs_new1['a'].astype(\"float\")\n",
    "prs_new1['b'] = prs_new1['b'].astype(\"float\")"
   ]
  },
  {
   "cell_type": "code",
   "execution_count": 375,
   "id": "3feea575",
   "metadata": {},
   "outputs": [],
   "source": [
    "prs_new1['b'] = prs_new1['b'].fillna(value = 1)\n",
    "prs_new1[\"CAR_PRICE(RS.)\"] = prs_new1['a'] * prs_new1['b']"
   ]
  },
  {
   "cell_type": "code",
   "execution_count": 376,
   "id": "1c73c2e2",
   "metadata": {},
   "outputs": [
    {
     "data": {
      "text/html": [
       "<div>\n",
       "<style scoped>\n",
       "    .dataframe tbody tr th:only-of-type {\n",
       "        vertical-align: middle;\n",
       "    }\n",
       "\n",
       "    .dataframe tbody tr th {\n",
       "        vertical-align: top;\n",
       "    }\n",
       "\n",
       "    .dataframe thead th {\n",
       "        text-align: right;\n",
       "    }\n",
       "</style>\n",
       "<table border=\"1\" class=\"dataframe\">\n",
       "  <thead>\n",
       "    <tr style=\"text-align: right;\">\n",
       "      <th></th>\n",
       "      <th>CAR_PRICE(Rs)</th>\n",
       "      <th>a</th>\n",
       "      <th>b</th>\n",
       "      <th>CAR_PRICE(RS.)</th>\n",
       "    </tr>\n",
       "  </thead>\n",
       "  <tbody>\n",
       "    <tr>\n",
       "      <th>0</th>\n",
       "      <td>10.95 100000</td>\n",
       "      <td>10.95</td>\n",
       "      <td>100000.0</td>\n",
       "      <td>1095000.0</td>\n",
       "    </tr>\n",
       "    <tr>\n",
       "      <th>1</th>\n",
       "      <td>17.50 100000</td>\n",
       "      <td>17.50</td>\n",
       "      <td>100000.0</td>\n",
       "      <td>1750000.0</td>\n",
       "    </tr>\n",
       "    <tr>\n",
       "      <th>2</th>\n",
       "      <td>4.40 100000</td>\n",
       "      <td>4.40</td>\n",
       "      <td>100000.0</td>\n",
       "      <td>440000.0</td>\n",
       "    </tr>\n",
       "    <tr>\n",
       "      <th>3</th>\n",
       "      <td>3.10 100000</td>\n",
       "      <td>3.10</td>\n",
       "      <td>100000.0</td>\n",
       "      <td>310000.0</td>\n",
       "    </tr>\n",
       "    <tr>\n",
       "      <th>4</th>\n",
       "      <td>7 100000</td>\n",
       "      <td>7.00</td>\n",
       "      <td>100000.0</td>\n",
       "      <td>700000.0</td>\n",
       "    </tr>\n",
       "    <tr>\n",
       "      <th>...</th>\n",
       "      <td>...</td>\n",
       "      <td>...</td>\n",
       "      <td>...</td>\n",
       "      <td>...</td>\n",
       "    </tr>\n",
       "    <tr>\n",
       "      <th>5095</th>\n",
       "      <td>4.30 100000</td>\n",
       "      <td>4.30</td>\n",
       "      <td>100000.0</td>\n",
       "      <td>430000.0</td>\n",
       "    </tr>\n",
       "    <tr>\n",
       "      <th>5096</th>\n",
       "      <td>4.50 100000</td>\n",
       "      <td>4.50</td>\n",
       "      <td>100000.0</td>\n",
       "      <td>450000.0</td>\n",
       "    </tr>\n",
       "    <tr>\n",
       "      <th>5097</th>\n",
       "      <td>3.35 100000</td>\n",
       "      <td>3.35</td>\n",
       "      <td>100000.0</td>\n",
       "      <td>335000.0</td>\n",
       "    </tr>\n",
       "    <tr>\n",
       "      <th>5098</th>\n",
       "      <td>9.75 100000</td>\n",
       "      <td>9.75</td>\n",
       "      <td>100000.0</td>\n",
       "      <td>975000.0</td>\n",
       "    </tr>\n",
       "    <tr>\n",
       "      <th>5099</th>\n",
       "      <td>2.35 100000</td>\n",
       "      <td>2.35</td>\n",
       "      <td>100000.0</td>\n",
       "      <td>235000.0</td>\n",
       "    </tr>\n",
       "  </tbody>\n",
       "</table>\n",
       "<p>5100 rows × 4 columns</p>\n",
       "</div>"
      ],
      "text/plain": [
       "     CAR_PRICE(Rs)      a         b  CAR_PRICE(RS.)\n",
       "0     10.95 100000  10.95  100000.0       1095000.0\n",
       "1     17.50 100000  17.50  100000.0       1750000.0\n",
       "2      4.40 100000   4.40  100000.0        440000.0\n",
       "3      3.10 100000   3.10  100000.0        310000.0\n",
       "4         7 100000   7.00  100000.0        700000.0\n",
       "...            ...    ...       ...             ...\n",
       "5095   4.30 100000   4.30  100000.0        430000.0\n",
       "5096   4.50 100000   4.50  100000.0        450000.0\n",
       "5097   3.35 100000   3.35  100000.0        335000.0\n",
       "5098   9.75 100000   9.75  100000.0        975000.0\n",
       "5099   2.35 100000   2.35  100000.0        235000.0\n",
       "\n",
       "[5100 rows x 4 columns]"
      ]
     },
     "execution_count": 376,
     "metadata": {},
     "output_type": "execute_result"
    }
   ],
   "source": [
    "prs_new1"
   ]
  },
  {
   "cell_type": "markdown",
   "id": "dd0eeff6",
   "metadata": {},
   "source": [
    "**Drop Unwanted Columns**"
   ]
  },
  {
   "cell_type": "code",
   "execution_count": 377,
   "id": "8e8b6976",
   "metadata": {},
   "outputs": [],
   "source": [
    "prs_new1.drop(columns=['CAR_PRICE(Rs)','a','b'], inplace = True)"
   ]
  },
  {
   "cell_type": "code",
   "execution_count": 378,
   "id": "78545f90",
   "metadata": {},
   "outputs": [
    {
     "data": {
      "text/html": [
       "<div>\n",
       "<style scoped>\n",
       "    .dataframe tbody tr th:only-of-type {\n",
       "        vertical-align: middle;\n",
       "    }\n",
       "\n",
       "    .dataframe tbody tr th {\n",
       "        vertical-align: top;\n",
       "    }\n",
       "\n",
       "    .dataframe thead th {\n",
       "        text-align: right;\n",
       "    }\n",
       "</style>\n",
       "<table border=\"1\" class=\"dataframe\">\n",
       "  <thead>\n",
       "    <tr style=\"text-align: right;\">\n",
       "      <th></th>\n",
       "      <th>CAR_PRICE(RS.)</th>\n",
       "    </tr>\n",
       "  </thead>\n",
       "  <tbody>\n",
       "    <tr>\n",
       "      <th>0</th>\n",
       "      <td>1095000.0</td>\n",
       "    </tr>\n",
       "    <tr>\n",
       "      <th>1</th>\n",
       "      <td>1750000.0</td>\n",
       "    </tr>\n",
       "    <tr>\n",
       "      <th>2</th>\n",
       "      <td>440000.0</td>\n",
       "    </tr>\n",
       "    <tr>\n",
       "      <th>3</th>\n",
       "      <td>310000.0</td>\n",
       "    </tr>\n",
       "    <tr>\n",
       "      <th>4</th>\n",
       "      <td>700000.0</td>\n",
       "    </tr>\n",
       "    <tr>\n",
       "      <th>...</th>\n",
       "      <td>...</td>\n",
       "    </tr>\n",
       "    <tr>\n",
       "      <th>5095</th>\n",
       "      <td>430000.0</td>\n",
       "    </tr>\n",
       "    <tr>\n",
       "      <th>5096</th>\n",
       "      <td>450000.0</td>\n",
       "    </tr>\n",
       "    <tr>\n",
       "      <th>5097</th>\n",
       "      <td>335000.0</td>\n",
       "    </tr>\n",
       "    <tr>\n",
       "      <th>5098</th>\n",
       "      <td>975000.0</td>\n",
       "    </tr>\n",
       "    <tr>\n",
       "      <th>5099</th>\n",
       "      <td>235000.0</td>\n",
       "    </tr>\n",
       "  </tbody>\n",
       "</table>\n",
       "<p>5100 rows × 1 columns</p>\n",
       "</div>"
      ],
      "text/plain": [
       "      CAR_PRICE(RS.)\n",
       "0          1095000.0\n",
       "1          1750000.0\n",
       "2           440000.0\n",
       "3           310000.0\n",
       "4           700000.0\n",
       "...              ...\n",
       "5095        430000.0\n",
       "5096        450000.0\n",
       "5097        335000.0\n",
       "5098        975000.0\n",
       "5099        235000.0\n",
       "\n",
       "[5100 rows x 1 columns]"
      ]
     },
     "execution_count": 378,
     "metadata": {},
     "output_type": "execute_result"
    }
   ],
   "source": [
    "prs_new1"
   ]
  },
  {
   "cell_type": "markdown",
   "id": "068396f6",
   "metadata": {},
   "source": [
    "**Convert New Price Data In To Excel File**"
   ]
  },
  {
   "cell_type": "code",
   "execution_count": 379,
   "id": "2195dd68",
   "metadata": {},
   "outputs": [],
   "source": [
    "prs_new1.to_excel('final_car_price.xlsx', index=False)"
   ]
  },
  {
   "cell_type": "markdown",
   "id": "f1dcad60",
   "metadata": {},
   "source": [
    "# **Extract Cars Age Data**"
   ]
  },
  {
   "cell_type": "code",
   "execution_count": 19,
   "id": "c6d2a6eb",
   "metadata": {},
   "outputs": [],
   "source": [
    "Make_year=[]\n",
    "Make_year_1=[]\n",
    "Make_year_2=[]\n",
    "Make_year_3=[]\n",
    "Make_year_4=[]\n",
    "Make_year_5=[]\n"
   ]
  },
  {
   "cell_type": "code",
   "execution_count": 20,
   "id": "bfb07338",
   "metadata": {},
   "outputs": [
    {
     "name": "stderr",
     "output_type": "stream",
     "text": [
      "100%|██████████████████████████████████████████████████████████████████████████████| 1000/1000 [18:16<00:00,  1.10s/it]\n"
     ]
    }
   ],
   "source": [
    "from tqdm import tqdm\n",
    "\n",
    "for j in tqdm(df['Urls'][0:1000]):\n",
    "    driver.get(j)\n",
    "    time.sleep(0.5)\n",
    "    \n",
    "    \n",
    "    \n",
    "# Extracting Car Make Year via xpath\n",
    "    try :\n",
    "        year = driver.find_element(By.XPATH, '/html/body/div[2]/div/div[1]/div/div/div/div[1]/div[1]/div[3]/ul/li[10]/div/div/span')\n",
    "        Make_year.append(year.text)      \n",
    "    except NoSuchElementException:\n",
    "        \n",
    "        try :\n",
    "            year = driver.find_element(By.XPATH, '//ul[@class=\"gsc_row detailsList\"]/li[10]')\n",
    "            Make_year.append(year.text)\n",
    "        except NoSuchElementException:\n",
    "            \n",
    "            pass"
   ]
  },
  {
   "cell_type": "code",
   "execution_count": 34,
   "id": "b48d7a06",
   "metadata": {},
   "outputs": [
    {
     "data": {
      "text/plain": [
       "842"
      ]
     },
     "execution_count": 34,
     "metadata": {},
     "output_type": "execute_result"
    }
   ],
   "source": [
    "len(Make_year)"
   ]
  },
  {
   "cell_type": "code",
   "execution_count": 21,
   "id": "5ffc44a8",
   "metadata": {},
   "outputs": [
    {
     "name": "stderr",
     "output_type": "stream",
     "text": [
      "100%|██████████████████████████████████████████████████████████████████████████████| 1000/1000 [17:47<00:00,  1.07s/it]\n"
     ]
    }
   ],
   "source": [
    "from tqdm import tqdm\n",
    "\n",
    "for j in tqdm(df['Urls'][1001:2001]):\n",
    "    driver.get(j)\n",
    "    time.sleep(0.5)\n",
    "    \n",
    "    \n",
    "    \n",
    "# Extracting Car Make Year via xpath\n",
    "    try :\n",
    "        year_1 = driver.find_element(By.XPATH, '/html/body/div[2]/div/div[1]/div/div/div/div[1]/div[1]/div[3]/ul/li[10]/div/div/span')\n",
    "        Make_year_1.append(year_1.text)      \n",
    "    except NoSuchElementException:\n",
    "        \n",
    "        try :\n",
    "            year_1 = driver.find_element(By.XPATH, '//ul[@class=\"gsc_row detailsList\"]/li[10]')\n",
    "            Make_year_1.append(year_1.text)\n",
    "        except NoSuchElementException:\n",
    "            \n",
    "            pass"
   ]
  },
  {
   "cell_type": "code",
   "execution_count": 33,
   "id": "e9f85ee2",
   "metadata": {},
   "outputs": [
    {
     "data": {
      "text/plain": [
       "795"
      ]
     },
     "execution_count": 33,
     "metadata": {},
     "output_type": "execute_result"
    }
   ],
   "source": [
    "len(Make_year_1)"
   ]
  },
  {
   "cell_type": "code",
   "execution_count": 36,
   "id": "d35f7178",
   "metadata": {},
   "outputs": [
    {
     "name": "stderr",
     "output_type": "stream",
     "text": [
      "100%|██████████████████████████████████████████████████████████████████████████████| 1001/1001 [17:58<00:00,  1.08s/it]\n"
     ]
    }
   ],
   "source": [
    "from tqdm import tqdm\n",
    "\n",
    "for j in tqdm(df['Urls'][2002:3003]):\n",
    "    driver.get(j)\n",
    "    time.sleep(0.5)\n",
    "    \n",
    "    \n",
    "    \n",
    "# Extracting Car Make Year via xpath\n",
    "    try :\n",
    "        year_2 = driver.find_element(By.XPATH, '/html/body/div[2]/div/div[1]/div/div/div/div[1]/div[1]/div[3]/ul/li[10]/div/div/span')\n",
    "        Make_year_2.append(year_2.text)      \n",
    "    except NoSuchElementException:\n",
    "        \n",
    "        try :\n",
    "            year_2 = driver.find_element(By.XPATH, '//ul[@class=\"gsc_row detailsList\"]/li[10]')\n",
    "            Make_year_2.append(year_2.text)\n",
    "        except NoSuchElementException:\n",
    "            \n",
    "            pass"
   ]
  },
  {
   "cell_type": "code",
   "execution_count": 37,
   "id": "28ee82e4",
   "metadata": {},
   "outputs": [
    {
     "data": {
      "text/plain": [
       "825"
      ]
     },
     "execution_count": 37,
     "metadata": {},
     "output_type": "execute_result"
    }
   ],
   "source": [
    "len(Make_year_2)"
   ]
  },
  {
   "cell_type": "code",
   "execution_count": 22,
   "id": "89ee8374",
   "metadata": {},
   "outputs": [
    {
     "name": "stderr",
     "output_type": "stream",
     "text": [
      "100%|██████████████████████████████████████████████████████████████████████████████| 1001/1001 [17:23<00:00,  1.04s/it]\n"
     ]
    }
   ],
   "source": [
    "from tqdm import tqdm\n",
    "\n",
    "for j in tqdm(df['Urls'][3004:4005]):\n",
    "    driver.get(j)\n",
    "    time.sleep(0.5)\n",
    "    \n",
    "    \n",
    "    \n",
    "# Extracting Car Make Year via xpath\n",
    "    try :\n",
    "        year_3 = driver.find_element(By.XPATH, '/html/body/div[2]/div/div[1]/div/div/div/div[1]/div[1]/div[3]/ul/li[10]/div/div/span')\n",
    "        Make_year_3.append(year_3.text)      \n",
    "    except NoSuchElementException:\n",
    "        \n",
    "        try :\n",
    "            year_3 = driver.find_element(By.XPATH, '//ul[@class=\"gsc_row detailsList\"]/li[10]')\n",
    "            Make_year_3.append(year_3.text)\n",
    "        except NoSuchElementException:\n",
    "            \n",
    "            pass"
   ]
  },
  {
   "cell_type": "code",
   "execution_count": 38,
   "id": "51e3de5c",
   "metadata": {},
   "outputs": [
    {
     "data": {
      "text/plain": [
       "814"
      ]
     },
     "execution_count": 38,
     "metadata": {},
     "output_type": "execute_result"
    }
   ],
   "source": [
    "len(Make_year_3)"
   ]
  },
  {
   "cell_type": "code",
   "execution_count": 39,
   "id": "ff135e74",
   "metadata": {},
   "outputs": [
    {
     "name": "stderr",
     "output_type": "stream",
     "text": [
      "100%|██████████████████████████████████████████████████████████████████████████████| 1001/1001 [18:44<00:00,  1.12s/it]\n"
     ]
    }
   ],
   "source": [
    "from tqdm import tqdm\n",
    "\n",
    "for j in tqdm(df['Urls'][4006:5007]):\n",
    "    driver.get(j)\n",
    "    time.sleep(0.5)\n",
    "    \n",
    "    \n",
    "    \n",
    "# Extracting Car Make Year via xpath\n",
    "    try :\n",
    "        year_4 = driver.find_element(By.XPATH, '/html/body/div[2]/div/div[1]/div/div/div/div[1]/div[1]/div[3]/ul/li[10]/div/div/span')\n",
    "        Make_year_4.append(year_4.text)      \n",
    "    except NoSuchElementException:\n",
    "        \n",
    "        try :\n",
    "            year_4 = driver.find_element(By.XPATH, '//ul[@class=\"gsc_row detailsList\"]/li[10]')\n",
    "            Make_year_4.append(year_4.text)\n",
    "        except NoSuchElementException:\n",
    "            \n",
    "            pass"
   ]
  },
  {
   "cell_type": "code",
   "execution_count": 40,
   "id": "b8e6ad07",
   "metadata": {},
   "outputs": [
    {
     "data": {
      "text/plain": [
       "605"
      ]
     },
     "execution_count": 40,
     "metadata": {},
     "output_type": "execute_result"
    }
   ],
   "source": [
    "len(Make_year_4)"
   ]
  },
  {
   "cell_type": "code",
   "execution_count": 41,
   "id": "0ccfb557",
   "metadata": {},
   "outputs": [
    {
     "name": "stderr",
     "output_type": "stream",
     "text": [
      "100%|██████████████████████████████████████████████████████████████████████████████| 1000/1000 [18:33<00:00,  1.11s/it]\n"
     ]
    }
   ],
   "source": [
    "from tqdm import tqdm\n",
    "\n",
    "for j in tqdm(df['Urls'][6001:7001]):\n",
    "    driver.get(j)\n",
    "    time.sleep(0.5)\n",
    "    \n",
    "    \n",
    "    \n",
    "# Extracting Car Make Year via xpath\n",
    "    try :\n",
    "        year_5 = driver.find_element(By.XPATH, '/html/body/div[2]/div/div[1]/div/div/div/div[1]/div[1]/div[3]/ul/li[10]/div/div/span')\n",
    "        Make_year_5.append(year_5.text)      \n",
    "    except NoSuchElementException:\n",
    "        \n",
    "        try :\n",
    "            year_5 = driver.find_element(By.XPATH, '//ul[@class=\"gsc_row detailsList\"]/li[10]')\n",
    "            Make_year_5.append(year_5.text)\n",
    "        except NoSuchElementException:\n",
    "            \n",
    "            pass"
   ]
  },
  {
   "cell_type": "code",
   "execution_count": 54,
   "id": "a3e47ee7",
   "metadata": {},
   "outputs": [],
   "source": [
    "Make_year_6=[]"
   ]
  },
  {
   "cell_type": "code",
   "execution_count": 55,
   "id": "a00db096",
   "metadata": {},
   "outputs": [
    {
     "name": "stderr",
     "output_type": "stream",
     "text": [
      "100%|████████████████████████████████████████████████████████████████████████████████| 798/798 [13:02<00:00,  1.02it/s]\n"
     ]
    }
   ],
   "source": [
    "\n",
    "\n",
    "from tqdm import tqdm\n",
    "\n",
    "for j in tqdm(df['Urls'][7002:7800]):\n",
    "    driver.get(j)\n",
    "    time.sleep(0.5)\n",
    "    \n",
    "    \n",
    "    \n",
    "# Extracting Car Make Year via xpath\n",
    "    try :\n",
    "        year_6 = driver.find_element(By.XPATH, '/html/body/div[2]/div/div[1]/div/div/div/div[1]/div[1]/div[3]/ul/li[10]/div/div/span')\n",
    "        Make_year_6.append(year_6.text)      \n",
    "    except NoSuchElementException:\n",
    "        \n",
    "        try :\n",
    "            year_6 = driver.find_element(By.XPATH, '//ul[@class=\"gsc_row detailsList\"]/li[10]')\n",
    "            Make_year_6.append(year_6.text)\n",
    "        except NoSuchElementException:\n",
    "            pass\n",
    "            "
   ]
  },
  {
   "cell_type": "code",
   "execution_count": 65,
   "id": "95550b55",
   "metadata": {},
   "outputs": [],
   "source": [
    "Make_year_7=[]"
   ]
  },
  {
   "cell_type": "code",
   "execution_count": 66,
   "id": "802f51de",
   "metadata": {},
   "outputs": [
    {
     "name": "stderr",
     "output_type": "stream",
     "text": [
      "100%|████████████████████████████████████████████████████████████████████████████████| 982/982 [20:44<00:00,  1.27s/it]\n"
     ]
    }
   ],
   "source": [
    "from tqdm import tqdm\n",
    "\n",
    "for j in tqdm(df['Urls'][5008:5990]):\n",
    "    driver.get(j)\n",
    "    time.sleep(0.5)\n",
    "    \n",
    "    \n",
    "    \n",
    "# Extracting Car Make Year via xpath\n",
    "    try :\n",
    "        year_7 = driver.find_element(By.XPATH, '/html/body/div[2]/div/div[1]/div/div/div/div[1]/div[1]/div[3]/ul/li[10]/div/div/span')\n",
    "        Make_year_7.append(year_7.text)      \n",
    "    except NoSuchElementException:\n",
    "        \n",
    "        try :\n",
    "            year_7 = driver.find_element(By.XPATH, '//ul[@class=\"gsc_row detailsList\"]/li[10]')\n",
    "            Make_year_7.append(year_7.text)\n",
    "        except NoSuchElementException:\n",
    "            pass"
   ]
  },
  {
   "cell_type": "code",
   "execution_count": 67,
   "id": "cd22cfb0",
   "metadata": {},
   "outputs": [
    {
     "data": {
      "text/plain": [
       "823"
      ]
     },
     "execution_count": 67,
     "metadata": {},
     "output_type": "execute_result"
    }
   ],
   "source": [
    "len(Make_year_7)"
   ]
  },
  {
   "cell_type": "markdown",
   "id": "dfe56bb5",
   "metadata": {},
   "source": [
    "**Cheking Length of cars Age**"
   ]
  },
  {
   "cell_type": "code",
   "execution_count": 68,
   "id": "2e14de5d",
   "metadata": {},
   "outputs": [
    {
     "name": "stdout",
     "output_type": "stream",
     "text": [
      "842 795 825 814 605 823 584 201\n"
     ]
    }
   ],
   "source": [
    "print(len(Make_year), len(Make_year_1), len(Make_year_2), len(Make_year_3), len(Make_year_4), len(Make_year_7), len(Make_year_5), len(Make_year_6) )"
   ]
  },
  {
   "cell_type": "code",
   "execution_count": 69,
   "id": "d7ecf2d5",
   "metadata": {},
   "outputs": [],
   "source": [
    "Car_Age=[]"
   ]
  },
  {
   "cell_type": "code",
   "execution_count": 70,
   "id": "fbaed2f7",
   "metadata": {},
   "outputs": [],
   "source": [
    "Car_Age = Make_year + Make_year_1 + Make_year_2 + Make_year_3 + Make_year_4 + Make_year_7 + Make_year_5 + Make_year_6  "
   ]
  },
  {
   "cell_type": "code",
   "execution_count": 71,
   "id": "0829c1d6",
   "metadata": {},
   "outputs": [
    {
     "data": {
      "text/plain": [
       "5489"
      ]
     },
     "execution_count": 71,
     "metadata": {},
     "output_type": "execute_result"
    }
   ],
   "source": [
    "len(Car_Age)"
   ]
  },
  {
   "cell_type": "code",
   "execution_count": 72,
   "id": "707f4544",
   "metadata": {},
   "outputs": [],
   "source": [
    "#Make_year_6"
   ]
  },
  {
   "cell_type": "code",
   "execution_count": 61,
   "id": "96a231d1",
   "metadata": {},
   "outputs": [],
   "source": [
    "driver=webdriver.Chrome(\"chromedriver.exe\")\n",
    "driver.maximize_window()"
   ]
  },
  {
   "cell_type": "code",
   "execution_count": 185,
   "id": "8a3dcd81",
   "metadata": {},
   "outputs": [],
   "source": []
  },
  {
   "cell_type": "markdown",
   "id": "7f76f5d3",
   "metadata": {},
   "source": [
    "**Make Data Frame of Car Age And Car Model Data**"
   ]
  },
  {
   "cell_type": "code",
   "execution_count": 72,
   "id": "211f29c1",
   "metadata": {},
   "outputs": [],
   "source": [
    "import pandas as pd"
   ]
  },
  {
   "cell_type": "code",
   "execution_count": 380,
   "id": "8f93bcdb",
   "metadata": {},
   "outputs": [],
   "source": [
    "car_data=pd.DataFrame({'CAR_MODEL':Car_Model[0:5100], 'CAR_AGE':Car_Age[0:5100]})\n"
   ]
  },
  {
   "cell_type": "code",
   "execution_count": 381,
   "id": "f6ac0c3e",
   "metadata": {},
   "outputs": [
    {
     "data": {
      "text/html": [
       "<div>\n",
       "<style scoped>\n",
       "    .dataframe tbody tr th:only-of-type {\n",
       "        vertical-align: middle;\n",
       "    }\n",
       "\n",
       "    .dataframe tbody tr th {\n",
       "        vertical-align: top;\n",
       "    }\n",
       "\n",
       "    .dataframe thead th {\n",
       "        text-align: right;\n",
       "    }\n",
       "</style>\n",
       "<table border=\"1\" class=\"dataframe\">\n",
       "  <thead>\n",
       "    <tr style=\"text-align: right;\">\n",
       "      <th></th>\n",
       "      <th>CAR_MODEL</th>\n",
       "      <th>CAR_AGE</th>\n",
       "    </tr>\n",
       "  </thead>\n",
       "  <tbody>\n",
       "    <tr>\n",
       "      <th>0</th>\n",
       "      <td>[Hyundai, Venue, SX, Plus, Turbo, DCT, BSIV]</td>\n",
       "      <td>2019</td>\n",
       "    </tr>\n",
       "    <tr>\n",
       "      <th>1</th>\n",
       "      <td>[Isuzu, MU-X, 2WD]</td>\n",
       "      <td>2017</td>\n",
       "    </tr>\n",
       "    <tr>\n",
       "      <th>2</th>\n",
       "      <td>[Honda, Amaze, S, i-Vtech]</td>\n",
       "      <td>2015</td>\n",
       "    </tr>\n",
       "    <tr>\n",
       "      <th>3</th>\n",
       "      <td>[Hyundai, EON, D, Lite]</td>\n",
       "      <td>2013</td>\n",
       "    </tr>\n",
       "    <tr>\n",
       "      <th>4</th>\n",
       "      <td>[Maruti, Swift, VXI]</td>\n",
       "      <td>2020</td>\n",
       "    </tr>\n",
       "    <tr>\n",
       "      <th>...</th>\n",
       "      <td>...</td>\n",
       "      <td>...</td>\n",
       "    </tr>\n",
       "    <tr>\n",
       "      <th>5095</th>\n",
       "      <td>[Honda, City, i, VTEC, CVT, VX]</td>\n",
       "      <td>2017</td>\n",
       "    </tr>\n",
       "    <tr>\n",
       "      <th>5096</th>\n",
       "      <td>[Maruti, Alto, LXi, BSIII]</td>\n",
       "      <td>2015</td>\n",
       "    </tr>\n",
       "    <tr>\n",
       "      <th>5097</th>\n",
       "      <td>[Maruti, Ertiga, SHVS, VDI]</td>\n",
       "      <td>2015</td>\n",
       "    </tr>\n",
       "    <tr>\n",
       "      <th>5098</th>\n",
       "      <td>[Hyundai, Xcent, 1.2, VTVT, SX, Option]</td>\n",
       "      <td>2020</td>\n",
       "    </tr>\n",
       "    <tr>\n",
       "      <th>5099</th>\n",
       "      <td>[Maruti, Swift, 1.3, LXI]</td>\n",
       "      <td>2014</td>\n",
       "    </tr>\n",
       "  </tbody>\n",
       "</table>\n",
       "<p>5100 rows × 2 columns</p>\n",
       "</div>"
      ],
      "text/plain": [
       "                                         CAR_MODEL CAR_AGE\n",
       "0     [Hyundai, Venue, SX, Plus, Turbo, DCT, BSIV]    2019\n",
       "1                               [Isuzu, MU-X, 2WD]    2017\n",
       "2                       [Honda, Amaze, S, i-Vtech]    2015\n",
       "3                          [Hyundai, EON, D, Lite]    2013\n",
       "4                             [Maruti, Swift, VXI]    2020\n",
       "...                                            ...     ...\n",
       "5095               [Honda, City, i, VTEC, CVT, VX]    2017\n",
       "5096                    [Maruti, Alto, LXi, BSIII]    2015\n",
       "5097                   [Maruti, Ertiga, SHVS, VDI]    2015\n",
       "5098       [Hyundai, Xcent, 1.2, VTVT, SX, Option]    2020\n",
       "5099                     [Maruti, Swift, 1.3, LXI]    2014\n",
       "\n",
       "[5100 rows x 2 columns]"
      ]
     },
     "execution_count": 381,
     "metadata": {},
     "output_type": "execute_result"
    }
   ],
   "source": [
    "car_data"
   ]
  },
  {
   "cell_type": "code",
   "execution_count": 75,
   "id": "767bed4b",
   "metadata": {},
   "outputs": [],
   "source": [
    "car_data.to_excel('Car_Data.xlsx', index=False)"
   ]
  },
  {
   "cell_type": "code",
   "execution_count": 76,
   "id": "7d5f6786",
   "metadata": {
    "scrolled": true
   },
   "outputs": [
    {
     "data": {
      "text/html": [
       "<div>\n",
       "<style scoped>\n",
       "    .dataframe tbody tr th:only-of-type {\n",
       "        vertical-align: middle;\n",
       "    }\n",
       "\n",
       "    .dataframe tbody tr th {\n",
       "        vertical-align: top;\n",
       "    }\n",
       "\n",
       "    .dataframe thead th {\n",
       "        text-align: right;\n",
       "    }\n",
       "</style>\n",
       "<table border=\"1\" class=\"dataframe\">\n",
       "  <thead>\n",
       "    <tr style=\"text-align: right;\">\n",
       "      <th></th>\n",
       "      <th>CAR_MODEL</th>\n",
       "      <th>CAR_AGE</th>\n",
       "    </tr>\n",
       "  </thead>\n",
       "  <tbody>\n",
       "    <tr>\n",
       "      <th>0</th>\n",
       "      <td>['Hyundai', 'Venue', 'SX', 'Plus', 'Turbo', 'D...</td>\n",
       "      <td>2019</td>\n",
       "    </tr>\n",
       "    <tr>\n",
       "      <th>1</th>\n",
       "      <td>['Isuzu', 'MU-X', '2WD']</td>\n",
       "      <td>2017</td>\n",
       "    </tr>\n",
       "    <tr>\n",
       "      <th>2</th>\n",
       "      <td>['Honda', 'Amaze', 'S', 'i-Vtech']</td>\n",
       "      <td>2015</td>\n",
       "    </tr>\n",
       "    <tr>\n",
       "      <th>3</th>\n",
       "      <td>['Hyundai', 'EON', 'D', 'Lite']</td>\n",
       "      <td>2013</td>\n",
       "    </tr>\n",
       "    <tr>\n",
       "      <th>4</th>\n",
       "      <td>['Maruti', 'Swift', 'VXI']</td>\n",
       "      <td>2020</td>\n",
       "    </tr>\n",
       "    <tr>\n",
       "      <th>...</th>\n",
       "      <td>...</td>\n",
       "      <td>...</td>\n",
       "    </tr>\n",
       "    <tr>\n",
       "      <th>5095</th>\n",
       "      <td>['Honda', 'City', 'i', 'VTEC', 'CVT', 'VX']</td>\n",
       "      <td>2017</td>\n",
       "    </tr>\n",
       "    <tr>\n",
       "      <th>5096</th>\n",
       "      <td>['Maruti', 'Alto', 'LXi', 'BSIII']</td>\n",
       "      <td>2015</td>\n",
       "    </tr>\n",
       "    <tr>\n",
       "      <th>5097</th>\n",
       "      <td>['Maruti', 'Ertiga', 'SHVS', 'VDI']</td>\n",
       "      <td>2015</td>\n",
       "    </tr>\n",
       "    <tr>\n",
       "      <th>5098</th>\n",
       "      <td>['Hyundai', 'Xcent', '1.2', 'VTVT', 'SX', 'Opt...</td>\n",
       "      <td>2020</td>\n",
       "    </tr>\n",
       "    <tr>\n",
       "      <th>5099</th>\n",
       "      <td>['Maruti', 'Swift', '1.3', 'LXI']</td>\n",
       "      <td>2014</td>\n",
       "    </tr>\n",
       "  </tbody>\n",
       "</table>\n",
       "<p>5100 rows × 2 columns</p>\n",
       "</div>"
      ],
      "text/plain": [
       "                                              CAR_MODEL  CAR_AGE\n",
       "0     ['Hyundai', 'Venue', 'SX', 'Plus', 'Turbo', 'D...     2019\n",
       "1                              ['Isuzu', 'MU-X', '2WD']     2017\n",
       "2                    ['Honda', 'Amaze', 'S', 'i-Vtech']     2015\n",
       "3                       ['Hyundai', 'EON', 'D', 'Lite']     2013\n",
       "4                            ['Maruti', 'Swift', 'VXI']     2020\n",
       "...                                                 ...      ...\n",
       "5095        ['Honda', 'City', 'i', 'VTEC', 'CVT', 'VX']     2017\n",
       "5096                 ['Maruti', 'Alto', 'LXi', 'BSIII']     2015\n",
       "5097                ['Maruti', 'Ertiga', 'SHVS', 'VDI']     2015\n",
       "5098  ['Hyundai', 'Xcent', '1.2', 'VTVT', 'SX', 'Opt...     2020\n",
       "5099                  ['Maruti', 'Swift', '1.3', 'LXI']     2014\n",
       "\n",
       "[5100 rows x 2 columns]"
      ]
     },
     "execution_count": 76,
     "metadata": {},
     "output_type": "execute_result"
    }
   ],
   "source": [
    "cd=pd.read_excel('Car_Data.xlsx')\n",
    "cd"
   ]
  },
  {
   "cell_type": "markdown",
   "id": "24b7b7ca",
   "metadata": {},
   "source": [
    "**Replace Unwanted Character from Car Model Column**"
   ]
  },
  {
   "cell_type": "code",
   "execution_count": 384,
   "id": "07ce2df5",
   "metadata": {},
   "outputs": [],
   "source": [
    "cd['CAR_MODEL'] = cd['CAR_MODEL'].str.replace('[','')\n",
    "cd['CAR_MODEL'] = cd['CAR_MODEL'].str.replace(']','')\n",
    "cd['CAR_MODEL'] = cd['CAR_MODEL'].str.replace(\"'\",\"\")\n",
    "cd['CAR_MODEL'] = cd['CAR_MODEL'].str.replace(',','')\n",
    "cd['CAR_MODEL'] = cd['CAR_MODEL'].str.replace('-','')"
   ]
  },
  {
   "cell_type": "code",
   "execution_count": 386,
   "id": "c0fa8671",
   "metadata": {},
   "outputs": [
    {
     "data": {
      "text/html": [
       "<div>\n",
       "<style scoped>\n",
       "    .dataframe tbody tr th:only-of-type {\n",
       "        vertical-align: middle;\n",
       "    }\n",
       "\n",
       "    .dataframe tbody tr th {\n",
       "        vertical-align: top;\n",
       "    }\n",
       "\n",
       "    .dataframe thead th {\n",
       "        text-align: right;\n",
       "    }\n",
       "</style>\n",
       "<table border=\"1\" class=\"dataframe\">\n",
       "  <thead>\n",
       "    <tr style=\"text-align: right;\">\n",
       "      <th></th>\n",
       "      <th>CAR_MODEL</th>\n",
       "      <th>CAR_AGE</th>\n",
       "    </tr>\n",
       "  </thead>\n",
       "  <tbody>\n",
       "    <tr>\n",
       "      <th>0</th>\n",
       "      <td>Hyundai Venue SX Plus Turbo DCT BSIV</td>\n",
       "      <td>2019</td>\n",
       "    </tr>\n",
       "    <tr>\n",
       "      <th>1</th>\n",
       "      <td>Isuzu MUX 2WD</td>\n",
       "      <td>2017</td>\n",
       "    </tr>\n",
       "    <tr>\n",
       "      <th>2</th>\n",
       "      <td>Honda Amaze S iVtech</td>\n",
       "      <td>2015</td>\n",
       "    </tr>\n",
       "    <tr>\n",
       "      <th>3</th>\n",
       "      <td>Hyundai EON D Lite</td>\n",
       "      <td>2013</td>\n",
       "    </tr>\n",
       "    <tr>\n",
       "      <th>4</th>\n",
       "      <td>Maruti Swift VXI</td>\n",
       "      <td>2020</td>\n",
       "    </tr>\n",
       "    <tr>\n",
       "      <th>5</th>\n",
       "      <td>Hyundai i20 Asta 1.2</td>\n",
       "      <td>2015</td>\n",
       "    </tr>\n",
       "    <tr>\n",
       "      <th>6</th>\n",
       "      <td>Toyota Fortuner 4x2 AT</td>\n",
       "      <td>2014</td>\n",
       "    </tr>\n",
       "    <tr>\n",
       "      <th>7</th>\n",
       "      <td>Renault Duster 85PS Diesel RxE</td>\n",
       "      <td>2014</td>\n",
       "    </tr>\n",
       "    <tr>\n",
       "      <th>8</th>\n",
       "      <td>Maruti Swift Dzire VXi AT</td>\n",
       "      <td>2016</td>\n",
       "    </tr>\n",
       "    <tr>\n",
       "      <th>9</th>\n",
       "      <td>Honda Jazz ZX</td>\n",
       "      <td>2021</td>\n",
       "    </tr>\n",
       "    <tr>\n",
       "      <th>10</th>\n",
       "      <td>Honda Jazz 1.2 S i VTEC</td>\n",
       "      <td>2017</td>\n",
       "    </tr>\n",
       "    <tr>\n",
       "      <th>11</th>\n",
       "      <td>Hyundai i10 Sportz AT</td>\n",
       "      <td>2013</td>\n",
       "    </tr>\n",
       "    <tr>\n",
       "      <th>12</th>\n",
       "      <td>Volkswagen Polo 1.2 MPI Comfortline</td>\n",
       "      <td>2013</td>\n",
       "    </tr>\n",
       "    <tr>\n",
       "      <th>13</th>\n",
       "      <td>Maruti Swift VXi BSIV</td>\n",
       "      <td>2011</td>\n",
       "    </tr>\n",
       "    <tr>\n",
       "      <th>14</th>\n",
       "      <td>Maruti Alto K10 20102014 VXI</td>\n",
       "      <td>2013</td>\n",
       "    </tr>\n",
       "    <tr>\n",
       "      <th>15</th>\n",
       "      <td>Maruti Ritz VDi</td>\n",
       "      <td>2010</td>\n",
       "    </tr>\n",
       "    <tr>\n",
       "      <th>16</th>\n",
       "      <td>Maruti Swift VXI</td>\n",
       "      <td>2011</td>\n",
       "    </tr>\n",
       "    <tr>\n",
       "      <th>17</th>\n",
       "      <td>Chevrolet Cruze LTZ AT</td>\n",
       "      <td>2016</td>\n",
       "    </tr>\n",
       "    <tr>\n",
       "      <th>18</th>\n",
       "      <td>Honda City i VTEC VX Option</td>\n",
       "      <td>2016</td>\n",
       "    </tr>\n",
       "    <tr>\n",
       "      <th>19</th>\n",
       "      <td>Hyundai Grand i10 1.2 Kappa Magna BSIV</td>\n",
       "      <td>2018</td>\n",
       "    </tr>\n",
       "  </tbody>\n",
       "</table>\n",
       "</div>"
      ],
      "text/plain": [
       "                                 CAR_MODEL  CAR_AGE\n",
       "0     Hyundai Venue SX Plus Turbo DCT BSIV     2019\n",
       "1                            Isuzu MUX 2WD     2017\n",
       "2                     Honda Amaze S iVtech     2015\n",
       "3                       Hyundai EON D Lite     2013\n",
       "4                         Maruti Swift VXI     2020\n",
       "5                     Hyundai i20 Asta 1.2     2015\n",
       "6                   Toyota Fortuner 4x2 AT     2014\n",
       "7           Renault Duster 85PS Diesel RxE     2014\n",
       "8                Maruti Swift Dzire VXi AT     2016\n",
       "9                            Honda Jazz ZX     2021\n",
       "10                 Honda Jazz 1.2 S i VTEC     2017\n",
       "11                   Hyundai i10 Sportz AT     2013\n",
       "12     Volkswagen Polo 1.2 MPI Comfortline     2013\n",
       "13                   Maruti Swift VXi BSIV     2011\n",
       "14            Maruti Alto K10 20102014 VXI     2013\n",
       "15                         Maruti Ritz VDi     2010\n",
       "16                        Maruti Swift VXI     2011\n",
       "17                  Chevrolet Cruze LTZ AT     2016\n",
       "18             Honda City i VTEC VX Option     2016\n",
       "19  Hyundai Grand i10 1.2 Kappa Magna BSIV     2018"
      ]
     },
     "execution_count": 386,
     "metadata": {},
     "output_type": "execute_result"
    }
   ],
   "source": [
    "cd.head(20)"
   ]
  },
  {
   "cell_type": "markdown",
   "id": "6dab7efd",
   "metadata": {},
   "source": [
    "**Convert Data In To Excel File**"
   ]
  },
  {
   "cell_type": "code",
   "execution_count": 388,
   "id": "12727394",
   "metadata": {},
   "outputs": [],
   "source": [
    "cd.to_excel('col_2_Car_Data.xlsx', index=False)"
   ]
  },
  {
   "cell_type": "markdown",
   "id": "e6c7a1e4",
   "metadata": {},
   "source": [
    "# **Extracr Cars KMS Data**"
   ]
  },
  {
   "cell_type": "code",
   "execution_count": 25,
   "id": "5b0a00ab",
   "metadata": {},
   "outputs": [],
   "source": [
    "# Empty List\n",
    "\n",
    "KMs_driven=[]\n",
    "KMs_driven_1=[]\n",
    "KMs_driven_2=[]\n",
    "KMs_driven_3=[]\n",
    "KMs_driven_4=[]\n",
    "KMs_driven_5=[]"
   ]
  },
  {
   "cell_type": "code",
   "execution_count": 26,
   "id": "dcc8cd4a",
   "metadata": {},
   "outputs": [
    {
     "name": "stderr",
     "output_type": "stream",
     "text": [
      "100%|██████████████████████████████████████████████████████████████████████████████| 1000/1000 [16:56<00:00,  1.02s/it]\n"
     ]
    }
   ],
   "source": [
    "from tqdm import tqdm\n",
    "\n",
    "for j in tqdm(df['Urls'][0:1000]):\n",
    "    driver.get(j)\n",
    "    time.sleep(0.5)\n",
    "    \n",
    "    \n",
    "    \n",
    "# Extracting KMS driven via xpath\n",
    "\n",
    "    try :\n",
    "        kms = driver.find_element(By.XPATH, '/html/body/div[2]/div/div[1]/div/div/div/div[1]/div[2]/div[1]/div/div[2]')\n",
    "        KMs_driven.append(kms.text.split()[0])\n",
    "    except NoSuchElementException:\n",
    "        \n",
    "        pass"
   ]
  },
  {
   "cell_type": "code",
   "execution_count": 27,
   "id": "c9332052",
   "metadata": {},
   "outputs": [
    {
     "data": {
      "text/plain": [
       "964"
      ]
     },
     "execution_count": 27,
     "metadata": {},
     "output_type": "execute_result"
    }
   ],
   "source": [
    "len(KMs_driven)"
   ]
  },
  {
   "cell_type": "code",
   "execution_count": 11,
   "id": "be795ebf",
   "metadata": {},
   "outputs": [],
   "source": [
    "#KMs_driven"
   ]
  },
  {
   "cell_type": "code",
   "execution_count": 28,
   "id": "61044a5b",
   "metadata": {},
   "outputs": [
    {
     "name": "stderr",
     "output_type": "stream",
     "text": [
      "100%|██████████████████████████████████████████████████████████████████████████████| 1000/1000 [18:00<00:00,  1.08s/it]\n"
     ]
    }
   ],
   "source": [
    "from tqdm import tqdm\n",
    "\n",
    "for j in tqdm(df['Urls'][1001:2001]):\n",
    "    driver.get(j)\n",
    "    time.sleep(0.5)\n",
    "    \n",
    "    \n",
    "    \n",
    "# Extracting KMS driven via xpath\n",
    "\n",
    "    try :\n",
    "        kms_1 = driver.find_element(By.XPATH, '/html/body/div[2]/div/div[1]/div/div/div/div[1]/div[2]/div[1]/div/div[2]')\n",
    "        KMs_driven_1.append(kms_1.text.split()[0])\n",
    "    except NoSuchElementException:\n",
    "        \n",
    "        pass"
   ]
  },
  {
   "cell_type": "code",
   "execution_count": 29,
   "id": "2965f8c5",
   "metadata": {},
   "outputs": [
    {
     "data": {
      "text/plain": [
       "908"
      ]
     },
     "execution_count": 29,
     "metadata": {},
     "output_type": "execute_result"
    }
   ],
   "source": [
    "len(KMs_driven_1)"
   ]
  },
  {
   "cell_type": "code",
   "execution_count": 31,
   "id": "5f6142b5",
   "metadata": {},
   "outputs": [],
   "source": [
    "#KMs_driven_1"
   ]
  },
  {
   "cell_type": "code",
   "execution_count": 32,
   "id": "62462fe2",
   "metadata": {},
   "outputs": [
    {
     "name": "stderr",
     "output_type": "stream",
     "text": [
      "100%|██████████████████████████████████████████████████████████████████████████████| 1001/1001 [17:56<00:00,  1.08s/it]\n"
     ]
    }
   ],
   "source": [
    "from tqdm import tqdm\n",
    "\n",
    "for j in tqdm(df['Urls'][2002:3003]):\n",
    "    driver.get(j)\n",
    "    time.sleep(0.5)\n",
    "    \n",
    "    \n",
    "    \n",
    "# Extracting KMS driven via xpath\n",
    "\n",
    "    try :\n",
    "        kms_2 = driver.find_element(By.XPATH, '/html/body/div[2]/div/div[1]/div/div/div/div[1]/div[2]/div[1]/div/div[2]')\n",
    "        KMs_driven_2.append(kms_2.text.split()[0])\n",
    "    except NoSuchElementException:\n",
    "        \n",
    "        pass"
   ]
  },
  {
   "cell_type": "code",
   "execution_count": 33,
   "id": "2f2c332d",
   "metadata": {},
   "outputs": [
    {
     "data": {
      "text/plain": [
       "945"
      ]
     },
     "execution_count": 33,
     "metadata": {},
     "output_type": "execute_result"
    }
   ],
   "source": [
    "len(KMs_driven_2)"
   ]
  },
  {
   "cell_type": "code",
   "execution_count": 35,
   "id": "96e2b129",
   "metadata": {},
   "outputs": [],
   "source": [
    "#KMs_driven_2"
   ]
  },
  {
   "cell_type": "code",
   "execution_count": 36,
   "id": "e1a2c32f",
   "metadata": {},
   "outputs": [
    {
     "name": "stderr",
     "output_type": "stream",
     "text": [
      "100%|██████████████████████████████████████████████████████████████████████████████| 1001/1001 [21:27<00:00,  1.29s/it]\n"
     ]
    }
   ],
   "source": [
    "from tqdm import tqdm\n",
    "\n",
    "for j in tqdm(df['Urls'][3004:4005]):\n",
    "    driver.get(j)\n",
    "    time.sleep(0.5)\n",
    "    \n",
    "    \n",
    "    \n",
    "# Extracting KMS driven via xpath\n",
    "\n",
    "    try :\n",
    "        kms_3 = driver.find_element(By.XPATH, '/html/body/div[2]/div/div[1]/div/div/div/div[1]/div[2]/div[1]/div/div[2]')\n",
    "        KMs_driven_3.append(kms_3.text.split()[0])\n",
    "    except NoSuchElementException:\n",
    "        \n",
    "        pass"
   ]
  },
  {
   "cell_type": "code",
   "execution_count": 37,
   "id": "ccb509e9",
   "metadata": {},
   "outputs": [
    {
     "data": {
      "text/plain": [
       "947"
      ]
     },
     "execution_count": 37,
     "metadata": {},
     "output_type": "execute_result"
    }
   ],
   "source": [
    "len(KMs_driven_3)"
   ]
  },
  {
   "cell_type": "code",
   "execution_count": 39,
   "id": "f3fa2e00",
   "metadata": {},
   "outputs": [],
   "source": [
    "#KMs_driven_3"
   ]
  },
  {
   "cell_type": "code",
   "execution_count": 40,
   "id": "6502aa8a",
   "metadata": {},
   "outputs": [
    {
     "name": "stderr",
     "output_type": "stream",
     "text": [
      "100%|██████████████████████████████████████████████████████████████████████████████| 1001/1001 [18:01<00:00,  1.08s/it]\n"
     ]
    }
   ],
   "source": [
    "from tqdm import tqdm\n",
    "\n",
    "for j in tqdm(df['Urls'][4006:5007]):\n",
    "    driver.get(j)\n",
    "    time.sleep(0.5)\n",
    "    \n",
    "    \n",
    "    \n",
    "# Extracting KMS driven via xpath\n",
    "\n",
    "    try :\n",
    "        kms_4 = driver.find_element(By.XPATH, '/html/body/div[2]/div/div[1]/div/div/div/div[1]/div[2]/div[1]/div/div[2]')\n",
    "        KMs_driven_4.append(kms_4.text.split()[0])\n",
    "    except NoSuchElementException:\n",
    "        \n",
    "        pass"
   ]
  },
  {
   "cell_type": "code",
   "execution_count": 41,
   "id": "5e7ee220",
   "metadata": {},
   "outputs": [
    {
     "data": {
      "text/plain": [
       "897"
      ]
     },
     "execution_count": 41,
     "metadata": {},
     "output_type": "execute_result"
    }
   ],
   "source": [
    "len(KMs_driven_4)"
   ]
  },
  {
   "cell_type": "code",
   "execution_count": 42,
   "id": "90b14066",
   "metadata": {},
   "outputs": [
    {
     "name": "stderr",
     "output_type": "stream",
     "text": [
      "100%|██████████████████████████████████████████████████████████████████████████████| 1000/1000 [17:28<00:00,  1.05s/it]\n"
     ]
    }
   ],
   "source": [
    "from tqdm import tqdm\n",
    "\n",
    "for j in tqdm(df['Urls'][6001:7001]):\n",
    "    driver.get(j)\n",
    "    time.sleep(0.5)\n",
    "    \n",
    "    \n",
    "    \n",
    "# Extracting KMS driven via xpath\n",
    "\n",
    "    try :\n",
    "        kms_5 = driver.find_element(By.XPATH, '/html/body/div[2]/div/div[1]/div/div/div/div[1]/div[2]/div[1]/div/div[2]')\n",
    "        KMs_driven_5.append(kms_5.text.split()[0])\n",
    "    except NoSuchElementException:\n",
    "        \n",
    "        pass"
   ]
  },
  {
   "cell_type": "code",
   "execution_count": 43,
   "id": "626998b5",
   "metadata": {},
   "outputs": [
    {
     "data": {
      "text/plain": [
       "953"
      ]
     },
     "execution_count": 43,
     "metadata": {},
     "output_type": "execute_result"
    }
   ],
   "source": [
    "len(KMs_driven_5)"
   ]
  },
  {
   "cell_type": "code",
   "execution_count": 44,
   "id": "0bfff855",
   "metadata": {},
   "outputs": [],
   "source": [
    "KMS_Run = []"
   ]
  },
  {
   "cell_type": "code",
   "execution_count": 45,
   "id": "da78f80d",
   "metadata": {},
   "outputs": [],
   "source": [
    "KMS_Run = KMs_driven + KMs_driven_1 + KMs_driven_2 + KMs_driven_3 + KMs_driven_4 + KMs_driven_5"
   ]
  },
  {
   "cell_type": "code",
   "execution_count": 46,
   "id": "2d005df6",
   "metadata": {},
   "outputs": [
    {
     "data": {
      "text/plain": [
       "5614"
      ]
     },
     "execution_count": 46,
     "metadata": {},
     "output_type": "execute_result"
    }
   ],
   "source": [
    "len(KMS_Run)"
   ]
  },
  {
   "cell_type": "code",
   "execution_count": 48,
   "id": "0ccf344a",
   "metadata": {},
   "outputs": [],
   "source": [
    "#KMS_Run"
   ]
  },
  {
   "cell_type": "markdown",
   "id": "81c5d345",
   "metadata": {},
   "source": [
    "# **Car Transmission Data**"
   ]
  },
  {
   "cell_type": "code",
   "execution_count": 62,
   "id": "6c7fdc9e",
   "metadata": {},
   "outputs": [],
   "source": [
    "Transmission=[]\n",
    "Transmission_1=[]\n",
    "Transmission_2=[]\n",
    "Transmission_3=[]\n",
    "Transmission_4=[]\n",
    "Transmission_5=[]"
   ]
  },
  {
   "cell_type": "code",
   "execution_count": 63,
   "id": "7372525c",
   "metadata": {},
   "outputs": [
    {
     "name": "stderr",
     "output_type": "stream",
     "text": [
      "100%|██████████████████████████████████████████████████████████████████████████████| 1000/1000 [18:42<00:00,  1.12s/it]\n"
     ]
    }
   ],
   "source": [
    "from tqdm import tqdm\n",
    "\n",
    "for j in tqdm(df['Urls'][0:1000]):\n",
    "    driver.get(j)\n",
    "    time.sleep(0.5)\n",
    "    \n",
    "    # Extracting Transmission via xpath\n",
    "    try :\n",
    "        transmission = driver.find_element(By.XPATH, '/html/body/div[2]/div/div[1]/div/div/div/div[1]/div[2]/div[1]/div/div[2]')\n",
    "        Transmission.append(transmission.text.split()[5])\n",
    "    except NoSuchElementException:\n",
    "        pass"
   ]
  },
  {
   "cell_type": "code",
   "execution_count": 64,
   "id": "737afcee",
   "metadata": {},
   "outputs": [
    {
     "data": {
      "text/plain": [
       "963"
      ]
     },
     "execution_count": 64,
     "metadata": {},
     "output_type": "execute_result"
    }
   ],
   "source": [
    "len(Transmission)"
   ]
  },
  {
   "cell_type": "code",
   "execution_count": 65,
   "id": "4b5d0aa0",
   "metadata": {},
   "outputs": [
    {
     "name": "stderr",
     "output_type": "stream",
     "text": [
      "100%|██████████████████████████████████████████████████████████████████████████████| 1000/1000 [19:12<00:00,  1.15s/it]\n"
     ]
    }
   ],
   "source": [
    "\n",
    "\n",
    "from tqdm import tqdm\n",
    "\n",
    "for j in tqdm(df['Urls'][1001:2001]):\n",
    "    driver.get(j)\n",
    "    time.sleep(0.5)\n",
    "    \n",
    "    # Extracting Transmission via xpath\n",
    "    try :\n",
    "        transmission_1 = driver.find_element(By.XPATH, '/html/body/div[2]/div/div[1]/div/div/div/div[1]/div[2]/div[1]/div/div[2]')\n",
    "        Transmission_1.append(transmission_1.text.split()[5])\n",
    "    except NoSuchElementException:\n",
    "        pass"
   ]
  },
  {
   "cell_type": "code",
   "execution_count": 66,
   "id": "01bb0b9b",
   "metadata": {},
   "outputs": [
    {
     "data": {
      "text/plain": [
       "906"
      ]
     },
     "execution_count": 66,
     "metadata": {},
     "output_type": "execute_result"
    }
   ],
   "source": [
    "len(Transmission_1)"
   ]
  },
  {
   "cell_type": "code",
   "execution_count": 67,
   "id": "18617f43",
   "metadata": {},
   "outputs": [
    {
     "name": "stderr",
     "output_type": "stream",
     "text": [
      "100%|██████████████████████████████████████████████████████████████████████████████| 1001/1001 [19:06<00:00,  1.15s/it]\n"
     ]
    }
   ],
   "source": [
    "from tqdm import tqdm\n",
    "\n",
    "for j in tqdm(df['Urls'][2002:3003]):\n",
    "    driver.get(j)\n",
    "    time.sleep(0.5)\n",
    "    \n",
    "    # Extracting Transmission via xpath\n",
    "    try :\n",
    "        transmission_2 = driver.find_element(By.XPATH, '/html/body/div[2]/div/div[1]/div/div/div/div[1]/div[2]/div[1]/div/div[2]')\n",
    "        Transmission_2.append(transmission_2.text.split()[5])\n",
    "    except NoSuchElementException:\n",
    "        pass"
   ]
  },
  {
   "cell_type": "code",
   "execution_count": 68,
   "id": "339a5b80",
   "metadata": {},
   "outputs": [
    {
     "name": "stderr",
     "output_type": "stream",
     "text": [
      "100%|██████████████████████████████████████████████████████████████████████████████| 1001/1001 [18:39<00:00,  1.12s/it]\n"
     ]
    }
   ],
   "source": [
    "from tqdm import tqdm\n",
    "\n",
    "for j in tqdm(df['Urls'][3004:4005]):\n",
    "    driver.get(j)\n",
    "    time.sleep(0.5)\n",
    "    \n",
    "    # Extracting Transmission via xpath\n",
    "    try :\n",
    "        transmission_3 = driver.find_element(By.XPATH, '/html/body/div[2]/div/div[1]/div/div/div/div[1]/div[2]/div[1]/div/div[2]')\n",
    "        Transmission_3.append(transmission_3.text.split()[5])\n",
    "    except NoSuchElementException:\n",
    "        pass"
   ]
  },
  {
   "cell_type": "code",
   "execution_count": 69,
   "id": "7043783f",
   "metadata": {},
   "outputs": [
    {
     "name": "stderr",
     "output_type": "stream",
     "text": [
      "100%|██████████████████████████████████████████████████████████████████████████████| 1001/1001 [19:41<00:00,  1.18s/it]\n"
     ]
    }
   ],
   "source": [
    "from tqdm import tqdm\n",
    "\n",
    "for j in tqdm(df['Urls'][4006:5007]):\n",
    "    driver.get(j)\n",
    "    time.sleep(0.5)\n",
    "    \n",
    "    # Extracting Transmission via xpath\n",
    "    try :\n",
    "        transmission_4 = driver.find_element(By.XPATH, '/html/body/div[2]/div/div[1]/div/div/div/div[1]/div[2]/div[1]/div/div[2]')\n",
    "        Transmission_4.append(transmission_4.text.split()[5])\n",
    "    except NoSuchElementException:\n",
    "        pass"
   ]
  },
  {
   "cell_type": "code",
   "execution_count": 70,
   "id": "2659ecf3",
   "metadata": {},
   "outputs": [
    {
     "name": "stderr",
     "output_type": "stream",
     "text": [
      "100%|██████████████████████████████████████████████████████████████████████████████| 1000/1000 [18:58<00:00,  1.14s/it]\n"
     ]
    }
   ],
   "source": [
    "from tqdm import tqdm\n",
    "\n",
    "for j in tqdm(df['Urls'][6001:7001]):\n",
    "    driver.get(j)\n",
    "    time.sleep(0.5)\n",
    "    \n",
    "    # Extracting Transmission via xpath\n",
    "    try :\n",
    "        transmission_5 = driver.find_element(By.XPATH, '/html/body/div[2]/div/div[1]/div/div/div/div[1]/div[2]/div[1]/div/div[2]')\n",
    "        Transmission_5.append(transmission_5.text.split()[5])\n",
    "    except NoSuchElementException:\n",
    "        pass"
   ]
  },
  {
   "cell_type": "code",
   "execution_count": 71,
   "id": "7f7a8ada",
   "metadata": {},
   "outputs": [],
   "source": [
    "Car_Trans=[]"
   ]
  },
  {
   "cell_type": "code",
   "execution_count": 72,
   "id": "41f1136e",
   "metadata": {},
   "outputs": [],
   "source": [
    "Car_Trans = Transmission + Transmission_1 + Transmission_2 + Transmission_3 + Transmission_4 + Transmission_5"
   ]
  },
  {
   "cell_type": "code",
   "execution_count": 112,
   "id": "d20f2f45",
   "metadata": {},
   "outputs": [
    {
     "data": {
      "text/plain": [
       "5596"
      ]
     },
     "execution_count": 112,
     "metadata": {},
     "output_type": "execute_result"
    }
   ],
   "source": [
    "len(Car_Trans)"
   ]
  },
  {
   "cell_type": "markdown",
   "id": "76670d6c",
   "metadata": {},
   "source": [
    "# **Car Fuel Type Data**"
   ]
  },
  {
   "cell_type": "code",
   "execution_count": 84,
   "id": "dd13faa6",
   "metadata": {},
   "outputs": [],
   "source": [
    "Fuel_Type=[]\n",
    "Fuel_Type_1=[]\n",
    "Fuel_Type_2=[]\n",
    "Fuel_Type_3=[]\n",
    "Fuel_Type_4=[]\n",
    "Fuel_Type_5=[]\n"
   ]
  },
  {
   "cell_type": "code",
   "execution_count": 85,
   "id": "68fcf49b",
   "metadata": {},
   "outputs": [
    {
     "name": "stderr",
     "output_type": "stream",
     "text": [
      "100%|██████████████████████████████████████████████████████████████████████████████| 1000/1000 [19:11<00:00,  1.15s/it]\n"
     ]
    }
   ],
   "source": [
    "from tqdm import tqdm\n",
    "\n",
    "for j in tqdm(df['Urls'][0:1000]):\n",
    "    driver.get(j)\n",
    "    time.sleep(0.5)\n",
    "\n",
    "\n",
    "# Extracting Car Fuel Type via xpath\n",
    "    try :\n",
    "        fuel = driver.find_element(By.XPATH, '/html/body/div[2]/div/div[1]/div/div/div/div[1]/div[2]/div[1]/div/div[2]')\n",
    "        Fuel_Type.append(fuel.text.split()[3])\n",
    "    except NoSuchElementException:\n",
    "        pass"
   ]
  },
  {
   "cell_type": "code",
   "execution_count": 86,
   "id": "27fecce2",
   "metadata": {},
   "outputs": [
    {
     "data": {
      "text/plain": [
       "944"
      ]
     },
     "execution_count": 86,
     "metadata": {},
     "output_type": "execute_result"
    }
   ],
   "source": [
    "len(Fuel_Type)"
   ]
  },
  {
   "cell_type": "code",
   "execution_count": 87,
   "id": "26e79271",
   "metadata": {},
   "outputs": [
    {
     "name": "stderr",
     "output_type": "stream",
     "text": [
      "100%|██████████████████████████████████████████████████████████████████████████████| 1000/1000 [17:57<00:00,  1.08s/it]\n"
     ]
    }
   ],
   "source": [
    "from tqdm import tqdm\n",
    "\n",
    "for j in tqdm(df['Urls'][1001:2001]):\n",
    "    driver.get(j)\n",
    "    time.sleep(0.5)\n",
    "\n",
    "\n",
    "# Extracting Car Fuel Type via xpath\n",
    "    try :\n",
    "        fuel_1 = driver.find_element(By.XPATH, '/html/body/div[2]/div/div[1]/div/div/div/div[1]/div[2]/div[1]/div/div[2]')\n",
    "        Fuel_Type_1.append(fuel_1.text.split()[3])\n",
    "    except NoSuchElementException:\n",
    "        pass"
   ]
  },
  {
   "cell_type": "code",
   "execution_count": 88,
   "id": "35a70b16",
   "metadata": {},
   "outputs": [
    {
     "name": "stderr",
     "output_type": "stream",
     "text": [
      "100%|██████████████████████████████████████████████████████████████████████████████| 1001/1001 [18:08<00:00,  1.09s/it]\n"
     ]
    }
   ],
   "source": [
    "from tqdm import tqdm\n",
    "\n",
    "for j in tqdm(df['Urls'][2002:3003]):\n",
    "    driver.get(j)\n",
    "    time.sleep(0.5)\n",
    "\n",
    "\n",
    "# Extracting Car Fuel Type via xpath\n",
    "    try :\n",
    "        fuel_2 = driver.find_element(By.XPATH, '/html/body/div[2]/div/div[1]/div/div/div/div[1]/div[2]/div[1]/div/div[2]')\n",
    "        Fuel_Type_2.append(fuel_2.text.split()[3])\n",
    "    except NoSuchElementException:\n",
    "        pass"
   ]
  },
  {
   "cell_type": "code",
   "execution_count": 89,
   "id": "f207e382",
   "metadata": {},
   "outputs": [
    {
     "name": "stderr",
     "output_type": "stream",
     "text": [
      "100%|██████████████████████████████████████████████████████████████████████████████| 1001/1001 [19:07<00:00,  1.15s/it]\n"
     ]
    }
   ],
   "source": [
    "from tqdm import tqdm\n",
    "\n",
    "for j in tqdm(df['Urls'][3004:4005]):\n",
    "    driver.get(j)\n",
    "    time.sleep(0.5)\n",
    "\n",
    "\n",
    "# Extracting Car Fuel Type via xpath\n",
    "    try :\n",
    "        fuel_3 = driver.find_element(By.XPATH, '/html/body/div[2]/div/div[1]/div/div/div/div[1]/div[2]/div[1]/div/div[2]')\n",
    "        Fuel_Type_3.append(fuel_3.text.split()[3])\n",
    "    except NoSuchElementException:\n",
    "        pass"
   ]
  },
  {
   "cell_type": "code",
   "execution_count": 90,
   "id": "d78a2a2a",
   "metadata": {},
   "outputs": [
    {
     "name": "stderr",
     "output_type": "stream",
     "text": [
      "100%|██████████████████████████████████████████████████████████████████████████████| 1001/1001 [18:45<00:00,  1.12s/it]\n"
     ]
    }
   ],
   "source": [
    "from tqdm import tqdm\n",
    "\n",
    "for j in tqdm(df['Urls'][4006:5007]):\n",
    "    driver.get(j)\n",
    "    time.sleep(0.5)\n",
    "\n",
    "\n",
    "# Extracting Car Fuel Type via xpath\n",
    "    try :\n",
    "        fuel_4 = driver.find_element(By.XPATH, '/html/body/div[2]/div/div[1]/div/div/div/div[1]/div[2]/div[1]/div/div[2]')\n",
    "        Fuel_Type_4.append(fuel_4.text.split()[3])\n",
    "    except NoSuchElementException:\n",
    "        pass"
   ]
  },
  {
   "cell_type": "code",
   "execution_count": 91,
   "id": "e45a918d",
   "metadata": {},
   "outputs": [
    {
     "name": "stderr",
     "output_type": "stream",
     "text": [
      "100%|██████████████████████████████████████████████████████████████████████████████| 1000/1000 [19:58<00:00,  1.20s/it]\n"
     ]
    }
   ],
   "source": [
    "from tqdm import tqdm\n",
    "\n",
    "for j in tqdm(df['Urls'][6001:7001]):\n",
    "    driver.get(j)\n",
    "    time.sleep(0.5)\n",
    "\n",
    "\n",
    "# Extracting Car Fuel Type via xpath\n",
    "    try :\n",
    "        fuel_5 = driver.find_element(By.XPATH, '/html/body/div[2]/div/div[1]/div/div/div/div[1]/div[2]/div[1]/div/div[2]')\n",
    "        Fuel_Type_5.append(fuel_5.text.split()[3])\n",
    "    except NoSuchElementException:\n",
    "        pass"
   ]
  },
  {
   "cell_type": "code",
   "execution_count": 92,
   "id": "1a7cc933",
   "metadata": {},
   "outputs": [],
   "source": [
    "Car_fuel=[]"
   ]
  },
  {
   "cell_type": "code",
   "execution_count": 93,
   "id": "72b0bb40",
   "metadata": {},
   "outputs": [],
   "source": [
    "Car_fuel = Fuel_Type + Fuel_Type_1 + Fuel_Type_2 + Fuel_Type_3 + Fuel_Type_4 + Fuel_Type_5"
   ]
  },
  {
   "cell_type": "code",
   "execution_count": 113,
   "id": "7174a969",
   "metadata": {},
   "outputs": [
    {
     "data": {
      "text/plain": [
       "5547"
      ]
     },
     "execution_count": 113,
     "metadata": {},
     "output_type": "execute_result"
    }
   ],
   "source": [
    "len(Car_fuel)"
   ]
  },
  {
   "cell_type": "code",
   "execution_count": 96,
   "id": "9a46a939",
   "metadata": {},
   "outputs": [],
   "source": [
    "#Car_fuel"
   ]
  },
  {
   "cell_type": "markdown",
   "id": "8358164e",
   "metadata": {},
   "source": [
    "# **Car Owners Data**"
   ]
  },
  {
   "cell_type": "code",
   "execution_count": 111,
   "id": "12bd6c32",
   "metadata": {},
   "outputs": [],
   "source": [
    "driver=webdriver.Chrome(\"chromedriver.exe\")\n",
    "driver.maximize_window()"
   ]
  },
  {
   "cell_type": "code",
   "execution_count": 114,
   "id": "9a1aefb6",
   "metadata": {},
   "outputs": [],
   "source": [
    "Owner=[]\n",
    "Owner_1=[]\n",
    "Owner_2=[]\n",
    "Owner_3=[]\n",
    "Owner_4=[]\n",
    "Owner_5=[]"
   ]
  },
  {
   "cell_type": "code",
   "execution_count": 115,
   "id": "f4bcf6ed",
   "metadata": {},
   "outputs": [
    {
     "name": "stderr",
     "output_type": "stream",
     "text": [
      "100%|██████████████████████████████████████████████████████████████████████████████| 1000/1000 [17:59<00:00,  1.08s/it]\n"
     ]
    }
   ],
   "source": [
    "from tqdm import tqdm\n",
    "\n",
    "for j in tqdm(df['Urls'][0:1000]):\n",
    "    driver.get(j)\n",
    "    time.sleep(0.5)\n",
    "\n",
    "\n",
    "# Extracting Car Owner via xpath\n",
    "    try :\n",
    "        onr = driver.find_element(By.XPATH, '/html/body/div[2]/div/div[1]/div/div/div/div[1]/div[2]/div[1]/div/div[2]')\n",
    "        Owner.append(onr.text.split()[7])\n",
    "    except NoSuchElementException:\n",
    "        pass"
   ]
  },
  {
   "cell_type": "code",
   "execution_count": 116,
   "id": "f694eda6",
   "metadata": {},
   "outputs": [
    {
     "data": {
      "text/plain": [
       "936"
      ]
     },
     "execution_count": 116,
     "metadata": {},
     "output_type": "execute_result"
    }
   ],
   "source": [
    "len(Owner)"
   ]
  },
  {
   "cell_type": "code",
   "execution_count": 118,
   "id": "bc683e7a",
   "metadata": {},
   "outputs": [],
   "source": [
    "#Owner"
   ]
  },
  {
   "cell_type": "code",
   "execution_count": 119,
   "id": "4586b0dc",
   "metadata": {},
   "outputs": [
    {
     "name": "stderr",
     "output_type": "stream",
     "text": [
      "100%|██████████████████████████████████████████████████████████████████████████████| 1000/1000 [19:55<00:00,  1.20s/it]\n"
     ]
    }
   ],
   "source": [
    "from tqdm import tqdm\n",
    "\n",
    "for j in tqdm(df['Urls'][1001:2001]):\n",
    "    driver.get(j)\n",
    "    time.sleep(0.5)\n",
    "\n",
    "\n",
    "# Extracting Car Owner via xpath\n",
    "    try :\n",
    "        onr_1 = driver.find_element(By.XPATH, '/html/body/div[2]/div/div[1]/div/div/div/div[1]/div[2]/div[1]/div/div[2]')\n",
    "        Owner_1.append(onr_1.text.split()[7])\n",
    "    except NoSuchElementException:\n",
    "        pass"
   ]
  },
  {
   "cell_type": "code",
   "execution_count": 121,
   "id": "b6141d61",
   "metadata": {},
   "outputs": [
    {
     "name": "stderr",
     "output_type": "stream",
     "text": [
      "100%|██████████████████████████████████████████████████████████████████████████████| 1001/1001 [18:24<00:00,  1.10s/it]\n"
     ]
    }
   ],
   "source": [
    "from tqdm import tqdm\n",
    "\n",
    "for j in tqdm(df['Urls'][2002:3003]):\n",
    "    driver.get(j)\n",
    "    time.sleep(0.5)\n",
    "\n",
    "\n",
    "# Extracting Car Owner via xpath\n",
    "    try :\n",
    "        onr_2 = driver.find_element(By.XPATH, '/html/body/div[2]/div/div[1]/div/div/div/div[1]/div[2]/div[1]/div/div[2]')\n",
    "        Owner_2.append(onr_2.text.split()[7])\n",
    "    except NoSuchElementException:\n",
    "        pass"
   ]
  },
  {
   "cell_type": "code",
   "execution_count": 122,
   "id": "e0ee034a",
   "metadata": {},
   "outputs": [
    {
     "name": "stderr",
     "output_type": "stream",
     "text": [
      "100%|██████████████████████████████████████████████████████████████████████████████| 1001/1001 [17:37<00:00,  1.06s/it]\n"
     ]
    }
   ],
   "source": [
    "from tqdm import tqdm\n",
    "\n",
    "for j in tqdm(df['Urls'][3004:4005]):\n",
    "    driver.get(j)\n",
    "    time.sleep(0.5)\n",
    "\n",
    "\n",
    "# Extracting Car Owner via xpath\n",
    "    try :\n",
    "        onr_3 = driver.find_element(By.XPATH, '/html/body/div[2]/div/div[1]/div/div/div/div[1]/div[2]/div[1]/div/div[2]')\n",
    "        Owner_3.append(onr_3.text.split()[7])\n",
    "    except NoSuchElementException:\n",
    "        pass"
   ]
  },
  {
   "cell_type": "code",
   "execution_count": 123,
   "id": "a2de48d6",
   "metadata": {},
   "outputs": [
    {
     "name": "stderr",
     "output_type": "stream",
     "text": [
      "100%|██████████████████████████████████████████████████████████████████████████████| 1001/1001 [18:46<00:00,  1.13s/it]\n"
     ]
    }
   ],
   "source": [
    "from tqdm import tqdm\n",
    "\n",
    "for j in tqdm(df['Urls'][4006:5007]):\n",
    "    driver.get(j)\n",
    "    time.sleep(0.5)\n",
    "\n",
    "\n",
    "# Extracting Car Owner via xpath\n",
    "    try :\n",
    "        onr_4 = driver.find_element(By.XPATH, '/html/body/div[2]/div/div[1]/div/div/div/div[1]/div[2]/div[1]/div/div[2]')\n",
    "        Owner_4.append(onr_4.text.split()[7])\n",
    "    except NoSuchElementException:\n",
    "        pass"
   ]
  },
  {
   "cell_type": "code",
   "execution_count": 124,
   "id": "b14bd1b3",
   "metadata": {},
   "outputs": [
    {
     "name": "stderr",
     "output_type": "stream",
     "text": [
      "100%|██████████████████████████████████████████████████████████████████████████████| 1001/1001 [17:22<00:00,  1.04s/it]\n"
     ]
    }
   ],
   "source": [
    "from tqdm import tqdm\n",
    "\n",
    "for j in tqdm(df['Urls'][6000:7001]):\n",
    "    driver.get(j)\n",
    "    time.sleep(0.5)\n",
    "\n",
    "\n",
    "# Extracting Car Owner via xpath\n",
    "    try :\n",
    "        onr_5 = driver.find_element(By.XPATH, '/html/body/div[2]/div/div[1]/div/div/div/div[1]/div[2]/div[1]/div/div[2]')\n",
    "        Owner_5.append(onr_5.text.split()[7])\n",
    "    except NoSuchElementException:\n",
    "        pass"
   ]
  },
  {
   "cell_type": "code",
   "execution_count": 125,
   "id": "565ea70c",
   "metadata": {},
   "outputs": [],
   "source": [
    "Car_owners=[]"
   ]
  },
  {
   "cell_type": "code",
   "execution_count": 126,
   "id": "f1c8dea1",
   "metadata": {},
   "outputs": [],
   "source": [
    "Car_owners = Owner + Owner_1 + Owner_2 + Owner_3 + Owner_4 + Owner_5"
   ]
  },
  {
   "cell_type": "code",
   "execution_count": 127,
   "id": "442def11",
   "metadata": {},
   "outputs": [
    {
     "data": {
      "text/plain": [
       "5503"
      ]
     },
     "execution_count": 127,
     "metadata": {},
     "output_type": "execute_result"
    }
   ],
   "source": [
    "len(Car_owners)"
   ]
  },
  {
   "cell_type": "markdown",
   "id": "b83d773c",
   "metadata": {},
   "source": [
    "**Make 2nd Data Frame**"
   ]
  },
  {
   "cell_type": "code",
   "execution_count": 5,
   "id": "d9550255",
   "metadata": {},
   "outputs": [],
   "source": [
    "import pandas as pd"
   ]
  },
  {
   "cell_type": "code",
   "execution_count": 131,
   "id": "1c15e1cb",
   "metadata": {},
   "outputs": [],
   "source": [
    "car_data_1=pd.DataFrame({'CAR_KMS':KMS_Run[0:5100], 'TRANSMISSION':Car_Trans[0:5100], 'FUEL_TYPE':Car_fuel[0:5100], 'CAR_OWNERS':Car_owners[0:5100]})\n"
   ]
  },
  {
   "cell_type": "code",
   "execution_count": 132,
   "id": "6ffa6d18",
   "metadata": {},
   "outputs": [
    {
     "data": {
      "text/html": [
       "<div>\n",
       "<style scoped>\n",
       "    .dataframe tbody tr th:only-of-type {\n",
       "        vertical-align: middle;\n",
       "    }\n",
       "\n",
       "    .dataframe tbody tr th {\n",
       "        vertical-align: top;\n",
       "    }\n",
       "\n",
       "    .dataframe thead th {\n",
       "        text-align: right;\n",
       "    }\n",
       "</style>\n",
       "<table border=\"1\" class=\"dataframe\">\n",
       "  <thead>\n",
       "    <tr style=\"text-align: right;\">\n",
       "      <th></th>\n",
       "      <th>CAR_KMS</th>\n",
       "      <th>TRANSMISSION</th>\n",
       "      <th>FUEL_TYPE</th>\n",
       "      <th>CAR_OWNERS</th>\n",
       "    </tr>\n",
       "  </thead>\n",
       "  <tbody>\n",
       "    <tr>\n",
       "      <th>0</th>\n",
       "      <td>32,000</td>\n",
       "      <td>Automatic</td>\n",
       "      <td>Petrol</td>\n",
       "      <td>1st</td>\n",
       "    </tr>\n",
       "    <tr>\n",
       "      <th>1</th>\n",
       "      <td>1,39,000</td>\n",
       "      <td>Automatic</td>\n",
       "      <td>Diesel</td>\n",
       "      <td>1st</td>\n",
       "    </tr>\n",
       "    <tr>\n",
       "      <th>2</th>\n",
       "      <td>59,534</td>\n",
       "      <td>Manual</td>\n",
       "      <td>Petrol</td>\n",
       "      <td>2nd</td>\n",
       "    </tr>\n",
       "    <tr>\n",
       "      <th>3</th>\n",
       "      <td>13,000</td>\n",
       "      <td>Manual</td>\n",
       "      <td>Petrol</td>\n",
       "      <td>1st</td>\n",
       "    </tr>\n",
       "    <tr>\n",
       "      <th>4</th>\n",
       "      <td>50,000</td>\n",
       "      <td>Manual</td>\n",
       "      <td>Petrol</td>\n",
       "      <td>1st</td>\n",
       "    </tr>\n",
       "    <tr>\n",
       "      <th>...</th>\n",
       "      <td>...</td>\n",
       "      <td>...</td>\n",
       "      <td>...</td>\n",
       "      <td>...</td>\n",
       "    </tr>\n",
       "    <tr>\n",
       "      <th>5095</th>\n",
       "      <td>19,979</td>\n",
       "      <td>Manual</td>\n",
       "      <td>Diesel</td>\n",
       "      <td>1st</td>\n",
       "    </tr>\n",
       "    <tr>\n",
       "      <th>5096</th>\n",
       "      <td>1,11,000</td>\n",
       "      <td>Manual</td>\n",
       "      <td>Petrol</td>\n",
       "      <td>1st</td>\n",
       "    </tr>\n",
       "    <tr>\n",
       "      <th>5097</th>\n",
       "      <td>55,000</td>\n",
       "      <td>Manual</td>\n",
       "      <td>Petrol</td>\n",
       "      <td>1st</td>\n",
       "    </tr>\n",
       "    <tr>\n",
       "      <th>5098</th>\n",
       "      <td>41,900</td>\n",
       "      <td>Automatic</td>\n",
       "      <td>Petrol</td>\n",
       "      <td>1st</td>\n",
       "    </tr>\n",
       "    <tr>\n",
       "      <th>5099</th>\n",
       "      <td>46,000</td>\n",
       "      <td>Manual</td>\n",
       "      <td>Diesel</td>\n",
       "      <td>1st</td>\n",
       "    </tr>\n",
       "  </tbody>\n",
       "</table>\n",
       "<p>5100 rows × 4 columns</p>\n",
       "</div>"
      ],
      "text/plain": [
       "       CAR_KMS TRANSMISSION FUEL_TYPE CAR_OWNERS\n",
       "0       32,000    Automatic    Petrol        1st\n",
       "1     1,39,000    Automatic    Diesel        1st\n",
       "2       59,534       Manual    Petrol        2nd\n",
       "3       13,000       Manual    Petrol        1st\n",
       "4       50,000       Manual    Petrol        1st\n",
       "...        ...          ...       ...        ...\n",
       "5095    19,979       Manual    Diesel        1st\n",
       "5096  1,11,000       Manual    Petrol        1st\n",
       "5097    55,000       Manual    Petrol        1st\n",
       "5098    41,900    Automatic    Petrol        1st\n",
       "5099    46,000       Manual    Diesel        1st\n",
       "\n",
       "[5100 rows x 4 columns]"
      ]
     },
     "execution_count": 132,
     "metadata": {},
     "output_type": "execute_result"
    }
   ],
   "source": [
    "car_data_1"
   ]
  },
  {
   "cell_type": "code",
   "execution_count": 133,
   "id": "63b9cb91",
   "metadata": {},
   "outputs": [],
   "source": [
    "car_data_1.to_excel('All_Car_data.xlsx', index=False)"
   ]
  },
  {
   "cell_type": "code",
   "execution_count": 8,
   "id": "137fc2eb",
   "metadata": {},
   "outputs": [
    {
     "data": {
      "text/html": [
       "<div>\n",
       "<style scoped>\n",
       "    .dataframe tbody tr th:only-of-type {\n",
       "        vertical-align: middle;\n",
       "    }\n",
       "\n",
       "    .dataframe tbody tr th {\n",
       "        vertical-align: top;\n",
       "    }\n",
       "\n",
       "    .dataframe thead th {\n",
       "        text-align: right;\n",
       "    }\n",
       "</style>\n",
       "<table border=\"1\" class=\"dataframe\">\n",
       "  <thead>\n",
       "    <tr style=\"text-align: right;\">\n",
       "      <th></th>\n",
       "      <th>CAR_KMS</th>\n",
       "      <th>TRANSMISSION</th>\n",
       "      <th>FUEL_TYPE</th>\n",
       "      <th>CAR_OWNERS</th>\n",
       "    </tr>\n",
       "  </thead>\n",
       "  <tbody>\n",
       "    <tr>\n",
       "      <th>0</th>\n",
       "      <td>32,000</td>\n",
       "      <td>Automatic</td>\n",
       "      <td>Petrol</td>\n",
       "      <td>1st</td>\n",
       "    </tr>\n",
       "    <tr>\n",
       "      <th>1</th>\n",
       "      <td>1,39,000</td>\n",
       "      <td>Automatic</td>\n",
       "      <td>Diesel</td>\n",
       "      <td>1st</td>\n",
       "    </tr>\n",
       "    <tr>\n",
       "      <th>2</th>\n",
       "      <td>59,534</td>\n",
       "      <td>Manual</td>\n",
       "      <td>Petrol</td>\n",
       "      <td>2nd</td>\n",
       "    </tr>\n",
       "    <tr>\n",
       "      <th>3</th>\n",
       "      <td>13,000</td>\n",
       "      <td>Manual</td>\n",
       "      <td>Petrol</td>\n",
       "      <td>1st</td>\n",
       "    </tr>\n",
       "    <tr>\n",
       "      <th>4</th>\n",
       "      <td>50,000</td>\n",
       "      <td>Manual</td>\n",
       "      <td>Petrol</td>\n",
       "      <td>1st</td>\n",
       "    </tr>\n",
       "    <tr>\n",
       "      <th>...</th>\n",
       "      <td>...</td>\n",
       "      <td>...</td>\n",
       "      <td>...</td>\n",
       "      <td>...</td>\n",
       "    </tr>\n",
       "    <tr>\n",
       "      <th>5095</th>\n",
       "      <td>19,979</td>\n",
       "      <td>Manual</td>\n",
       "      <td>Diesel</td>\n",
       "      <td>1st</td>\n",
       "    </tr>\n",
       "    <tr>\n",
       "      <th>5096</th>\n",
       "      <td>1,11,000</td>\n",
       "      <td>Manual</td>\n",
       "      <td>Petrol</td>\n",
       "      <td>1st</td>\n",
       "    </tr>\n",
       "    <tr>\n",
       "      <th>5097</th>\n",
       "      <td>55,000</td>\n",
       "      <td>Manual</td>\n",
       "      <td>Petrol</td>\n",
       "      <td>1st</td>\n",
       "    </tr>\n",
       "    <tr>\n",
       "      <th>5098</th>\n",
       "      <td>41,900</td>\n",
       "      <td>Automatic</td>\n",
       "      <td>Petrol</td>\n",
       "      <td>1st</td>\n",
       "    </tr>\n",
       "    <tr>\n",
       "      <th>5099</th>\n",
       "      <td>46,000</td>\n",
       "      <td>Manual</td>\n",
       "      <td>Diesel</td>\n",
       "      <td>1st</td>\n",
       "    </tr>\n",
       "  </tbody>\n",
       "</table>\n",
       "<p>5100 rows × 4 columns</p>\n",
       "</div>"
      ],
      "text/plain": [
       "       CAR_KMS TRANSMISSION FUEL_TYPE CAR_OWNERS\n",
       "0       32,000    Automatic    Petrol        1st\n",
       "1     1,39,000    Automatic    Diesel        1st\n",
       "2       59,534       Manual    Petrol        2nd\n",
       "3       13,000       Manual    Petrol        1st\n",
       "4       50,000       Manual    Petrol        1st\n",
       "...        ...          ...       ...        ...\n",
       "5095    19,979       Manual    Diesel        1st\n",
       "5096  1,11,000       Manual    Petrol        1st\n",
       "5097    55,000       Manual    Petrol        1st\n",
       "5098    41,900    Automatic    Petrol        1st\n",
       "5099    46,000       Manual    Diesel        1st\n",
       "\n",
       "[5100 rows x 4 columns]"
      ]
     },
     "execution_count": 8,
     "metadata": {},
     "output_type": "execute_result"
    }
   ],
   "source": [
    "cd_4=pd.read_excel('All_Car_data.xlsx')\n",
    "cd_4"
   ]
  },
  {
   "cell_type": "markdown",
   "id": "0cf77927",
   "metadata": {},
   "source": [
    "**Cheking Data Types Of Column**"
   ]
  },
  {
   "cell_type": "code",
   "execution_count": 9,
   "id": "ee0907f3",
   "metadata": {},
   "outputs": [
    {
     "data": {
      "text/plain": [
       "CAR_KMS         object\n",
       "TRANSMISSION    object\n",
       "FUEL_TYPE       object\n",
       "CAR_OWNERS      object\n",
       "dtype: object"
      ]
     },
     "execution_count": 9,
     "metadata": {},
     "output_type": "execute_result"
    }
   ],
   "source": [
    "cd_4.dtypes"
   ]
  },
  {
   "cell_type": "markdown",
   "id": "7442944a",
   "metadata": {},
   "source": [
    "**Convert CAR_KMS Column To Integer Type**"
   ]
  },
  {
   "cell_type": "code",
   "execution_count": 11,
   "id": "e553a571",
   "metadata": {},
   "outputs": [],
   "source": [
    "cd_4['CAR_KMS'] = cd_4['CAR_KMS'].map(lambda x : x.split(' ')[0])"
   ]
  },
  {
   "cell_type": "code",
   "execution_count": 13,
   "id": "9ee97abb",
   "metadata": {},
   "outputs": [],
   "source": [
    "cd_4['CAR_KMS'] = cd_4['CAR_KMS'].map(lambda x : x.replace(',', ''))"
   ]
  },
  {
   "cell_type": "code",
   "execution_count": 14,
   "id": "7f419cdf",
   "metadata": {},
   "outputs": [],
   "source": [
    "cd_4['CAR_KMS'] = pd.to_numeric(cd_4['CAR_KMS'])"
   ]
  },
  {
   "cell_type": "code",
   "execution_count": 15,
   "id": "024a05e3",
   "metadata": {},
   "outputs": [
    {
     "data": {
      "text/plain": [
       "dtype('int64')"
      ]
     },
     "execution_count": 15,
     "metadata": {},
     "output_type": "execute_result"
    }
   ],
   "source": [
    "cd_4['CAR_KMS'].dtypes"
   ]
  },
  {
   "cell_type": "markdown",
   "id": "303ac39b",
   "metadata": {},
   "source": [
    "**Replace Unwanted Characters From Columns**"
   ]
  },
  {
   "cell_type": "code",
   "execution_count": 16,
   "id": "3aade7e8",
   "metadata": {},
   "outputs": [],
   "source": [
    "cd_4['TRANSMISSION'] = cd_4['TRANSMISSION'].str.replace(',', '')\n",
    "cd_4['TRANSMISSION'] = cd_4['TRANSMISSION'].str.replace('[', '')\n",
    "cd_4['TRANSMISSION'] = cd_4['TRANSMISSION'].str.replace(']', '')\n",
    "cd_4['TRANSMISSION'] = cd_4['TRANSMISSION'].str.replace(\"'\", \"\")"
   ]
  },
  {
   "cell_type": "code",
   "execution_count": 17,
   "id": "719fbe1f",
   "metadata": {},
   "outputs": [],
   "source": [
    "cd_4['FUEL_TYPE'] = cd_4['FUEL_TYPE'].str.replace(',', '')\n",
    "cd_4['FUEL_TYPE'] = cd_4['FUEL_TYPE'].str.replace('[', '')\n",
    "cd_4['FUEL_TYPE'] = cd_4['FUEL_TYPE'].str.replace(']', '')\n",
    "cd_4['FUEL_TYPE'] = cd_4['FUEL_TYPE'].str.replace(\"'\", \"\")"
   ]
  },
  {
   "cell_type": "code",
   "execution_count": 18,
   "id": "44748450",
   "metadata": {},
   "outputs": [],
   "source": [
    "cd_4['CAR_OWNERS'] = cd_4['CAR_OWNERS'].str.replace(',', '')\n",
    "cd_4['CAR_OWNERS'] = cd_4['CAR_OWNERS'].str.replace('[', '')\n",
    "cd_4['CAR_OWNERS'] = cd_4['CAR_OWNERS'].str.replace(']', '')\n",
    "cd_4['CAR_OWNERS'] = cd_4['CAR_OWNERS'].str.replace('st', '')\n",
    "cd_4['CAR_OWNERS'] = cd_4['CAR_OWNERS'].str.replace('nd', '')\n",
    "cd_4['CAR_OWNERS'] = cd_4['CAR_OWNERS'].str.replace('rd', '')\n",
    "cd_4['CAR_OWNERS'] = cd_4['CAR_OWNERS'].str.replace('th', '')\n",
    "cd_4['CAR_OWNERS'] = cd_4['CAR_OWNERS'].str.replace(\"'\", \"\")"
   ]
  },
  {
   "cell_type": "code",
   "execution_count": 20,
   "id": "3cf28076",
   "metadata": {},
   "outputs": [
    {
     "data": {
      "text/html": [
       "<div>\n",
       "<style scoped>\n",
       "    .dataframe tbody tr th:only-of-type {\n",
       "        vertical-align: middle;\n",
       "    }\n",
       "\n",
       "    .dataframe tbody tr th {\n",
       "        vertical-align: top;\n",
       "    }\n",
       "\n",
       "    .dataframe thead th {\n",
       "        text-align: right;\n",
       "    }\n",
       "</style>\n",
       "<table border=\"1\" class=\"dataframe\">\n",
       "  <thead>\n",
       "    <tr style=\"text-align: right;\">\n",
       "      <th></th>\n",
       "      <th>CAR_KMS</th>\n",
       "      <th>TRANSMISSION</th>\n",
       "      <th>FUEL_TYPE</th>\n",
       "      <th>CAR_OWNERS</th>\n",
       "    </tr>\n",
       "  </thead>\n",
       "  <tbody>\n",
       "    <tr>\n",
       "      <th>0</th>\n",
       "      <td>32000</td>\n",
       "      <td>Automatic</td>\n",
       "      <td>Petrol</td>\n",
       "      <td>1</td>\n",
       "    </tr>\n",
       "    <tr>\n",
       "      <th>1</th>\n",
       "      <td>139000</td>\n",
       "      <td>Automatic</td>\n",
       "      <td>Diesel</td>\n",
       "      <td>1</td>\n",
       "    </tr>\n",
       "    <tr>\n",
       "      <th>2</th>\n",
       "      <td>59534</td>\n",
       "      <td>Manual</td>\n",
       "      <td>Petrol</td>\n",
       "      <td>2</td>\n",
       "    </tr>\n",
       "    <tr>\n",
       "      <th>3</th>\n",
       "      <td>13000</td>\n",
       "      <td>Manual</td>\n",
       "      <td>Petrol</td>\n",
       "      <td>1</td>\n",
       "    </tr>\n",
       "    <tr>\n",
       "      <th>4</th>\n",
       "      <td>50000</td>\n",
       "      <td>Manual</td>\n",
       "      <td>Petrol</td>\n",
       "      <td>1</td>\n",
       "    </tr>\n",
       "    <tr>\n",
       "      <th>5</th>\n",
       "      <td>45000</td>\n",
       "      <td>Manual</td>\n",
       "      <td>Petrol</td>\n",
       "      <td>1</td>\n",
       "    </tr>\n",
       "    <tr>\n",
       "      <th>6</th>\n",
       "      <td>160000</td>\n",
       "      <td>Automatic</td>\n",
       "      <td>Diesel</td>\n",
       "      <td>1</td>\n",
       "    </tr>\n",
       "    <tr>\n",
       "      <th>7</th>\n",
       "      <td>42000</td>\n",
       "      <td>Manual</td>\n",
       "      <td>Diesel</td>\n",
       "      <td>1</td>\n",
       "    </tr>\n",
       "    <tr>\n",
       "      <th>8</th>\n",
       "      <td>112728</td>\n",
       "      <td>Automatic</td>\n",
       "      <td>Petrol</td>\n",
       "      <td>1</td>\n",
       "    </tr>\n",
       "    <tr>\n",
       "      <th>9</th>\n",
       "      <td>24774</td>\n",
       "      <td>Manual</td>\n",
       "      <td>Petrol</td>\n",
       "      <td>1</td>\n",
       "    </tr>\n",
       "    <tr>\n",
       "      <th>10</th>\n",
       "      <td>76858</td>\n",
       "      <td>Manual</td>\n",
       "      <td>Petrol</td>\n",
       "      <td>1</td>\n",
       "    </tr>\n",
       "    <tr>\n",
       "      <th>11</th>\n",
       "      <td>77100</td>\n",
       "      <td>Automatic</td>\n",
       "      <td>Petrol</td>\n",
       "      <td>2</td>\n",
       "    </tr>\n",
       "    <tr>\n",
       "      <th>12</th>\n",
       "      <td>88845</td>\n",
       "      <td>Manual</td>\n",
       "      <td>Petrol</td>\n",
       "      <td>1</td>\n",
       "    </tr>\n",
       "    <tr>\n",
       "      <th>13</th>\n",
       "      <td>86482</td>\n",
       "      <td>Manual</td>\n",
       "      <td>Petrol</td>\n",
       "      <td>1</td>\n",
       "    </tr>\n",
       "    <tr>\n",
       "      <th>14</th>\n",
       "      <td>45050</td>\n",
       "      <td>Manual</td>\n",
       "      <td>Petrol</td>\n",
       "      <td>1</td>\n",
       "    </tr>\n",
       "    <tr>\n",
       "      <th>15</th>\n",
       "      <td>108634</td>\n",
       "      <td>Manual</td>\n",
       "      <td>Diesel</td>\n",
       "      <td>1</td>\n",
       "    </tr>\n",
       "    <tr>\n",
       "      <th>16</th>\n",
       "      <td>61000</td>\n",
       "      <td>Manual</td>\n",
       "      <td>Petrol</td>\n",
       "      <td>2</td>\n",
       "    </tr>\n",
       "    <tr>\n",
       "      <th>17</th>\n",
       "      <td>90000</td>\n",
       "      <td>Automatic</td>\n",
       "      <td>Diesel</td>\n",
       "      <td>2</td>\n",
       "    </tr>\n",
       "    <tr>\n",
       "      <th>18</th>\n",
       "      <td>70000</td>\n",
       "      <td>Manual</td>\n",
       "      <td>Petrol</td>\n",
       "      <td>1</td>\n",
       "    </tr>\n",
       "    <tr>\n",
       "      <th>19</th>\n",
       "      <td>51000</td>\n",
       "      <td>Manual</td>\n",
       "      <td>Petrol</td>\n",
       "      <td>1</td>\n",
       "    </tr>\n",
       "  </tbody>\n",
       "</table>\n",
       "</div>"
      ],
      "text/plain": [
       "    CAR_KMS TRANSMISSION FUEL_TYPE CAR_OWNERS\n",
       "0     32000    Automatic    Petrol          1\n",
       "1    139000    Automatic    Diesel          1\n",
       "2     59534       Manual    Petrol          2\n",
       "3     13000       Manual    Petrol          1\n",
       "4     50000       Manual    Petrol          1\n",
       "5     45000       Manual    Petrol          1\n",
       "6    160000    Automatic    Diesel          1\n",
       "7     42000       Manual    Diesel          1\n",
       "8    112728    Automatic    Petrol          1\n",
       "9     24774       Manual    Petrol          1\n",
       "10    76858       Manual    Petrol          1\n",
       "11    77100    Automatic    Petrol          2\n",
       "12    88845       Manual    Petrol          1\n",
       "13    86482       Manual    Petrol          1\n",
       "14    45050       Manual    Petrol          1\n",
       "15   108634       Manual    Diesel          1\n",
       "16    61000       Manual    Petrol          2\n",
       "17    90000    Automatic    Diesel          2\n",
       "18    70000       Manual    Petrol          1\n",
       "19    51000       Manual    Petrol          1"
      ]
     },
     "execution_count": 20,
     "metadata": {},
     "output_type": "execute_result"
    }
   ],
   "source": [
    "cd_4.head(20)"
   ]
  },
  {
   "cell_type": "code",
   "execution_count": 21,
   "id": "7f207758",
   "metadata": {},
   "outputs": [
    {
     "data": {
      "text/plain": [
       "CAR_KMS          int64\n",
       "TRANSMISSION    object\n",
       "FUEL_TYPE       object\n",
       "CAR_OWNERS      object\n",
       "dtype: object"
      ]
     },
     "execution_count": 21,
     "metadata": {},
     "output_type": "execute_result"
    }
   ],
   "source": [
    "cd_4.dtypes"
   ]
  },
  {
   "cell_type": "markdown",
   "id": "983ca0d1",
   "metadata": {},
   "source": [
    "**Convert In To Final Excel file**"
   ]
  },
  {
   "cell_type": "code",
   "execution_count": 22,
   "id": "d2c2dcbf",
   "metadata": {},
   "outputs": [],
   "source": [
    "cd_4.to_excel('Col_4_Car_data.xlsx', index=False)"
   ]
  },
  {
   "cell_type": "code",
   "execution_count": 23,
   "id": "cbdeafcc",
   "metadata": {},
   "outputs": [],
   "source": [
    "df_4=pd.read_excel('Col_4_Car_data.xlsx')"
   ]
  },
  {
   "cell_type": "code",
   "execution_count": 24,
   "id": "85896217",
   "metadata": {},
   "outputs": [
    {
     "data": {
      "text/html": [
       "<div>\n",
       "<style scoped>\n",
       "    .dataframe tbody tr th:only-of-type {\n",
       "        vertical-align: middle;\n",
       "    }\n",
       "\n",
       "    .dataframe tbody tr th {\n",
       "        vertical-align: top;\n",
       "    }\n",
       "\n",
       "    .dataframe thead th {\n",
       "        text-align: right;\n",
       "    }\n",
       "</style>\n",
       "<table border=\"1\" class=\"dataframe\">\n",
       "  <thead>\n",
       "    <tr style=\"text-align: right;\">\n",
       "      <th></th>\n",
       "      <th>CAR_KMS</th>\n",
       "      <th>TRANSMISSION</th>\n",
       "      <th>FUEL_TYPE</th>\n",
       "      <th>CAR_OWNERS</th>\n",
       "    </tr>\n",
       "  </thead>\n",
       "  <tbody>\n",
       "    <tr>\n",
       "      <th>0</th>\n",
       "      <td>32000</td>\n",
       "      <td>Automatic</td>\n",
       "      <td>Petrol</td>\n",
       "      <td>1</td>\n",
       "    </tr>\n",
       "    <tr>\n",
       "      <th>1</th>\n",
       "      <td>139000</td>\n",
       "      <td>Automatic</td>\n",
       "      <td>Diesel</td>\n",
       "      <td>1</td>\n",
       "    </tr>\n",
       "    <tr>\n",
       "      <th>2</th>\n",
       "      <td>59534</td>\n",
       "      <td>Manual</td>\n",
       "      <td>Petrol</td>\n",
       "      <td>2</td>\n",
       "    </tr>\n",
       "    <tr>\n",
       "      <th>3</th>\n",
       "      <td>13000</td>\n",
       "      <td>Manual</td>\n",
       "      <td>Petrol</td>\n",
       "      <td>1</td>\n",
       "    </tr>\n",
       "    <tr>\n",
       "      <th>4</th>\n",
       "      <td>50000</td>\n",
       "      <td>Manual</td>\n",
       "      <td>Petrol</td>\n",
       "      <td>1</td>\n",
       "    </tr>\n",
       "    <tr>\n",
       "      <th>...</th>\n",
       "      <td>...</td>\n",
       "      <td>...</td>\n",
       "      <td>...</td>\n",
       "      <td>...</td>\n",
       "    </tr>\n",
       "    <tr>\n",
       "      <th>5095</th>\n",
       "      <td>19979</td>\n",
       "      <td>Manual</td>\n",
       "      <td>Diesel</td>\n",
       "      <td>1</td>\n",
       "    </tr>\n",
       "    <tr>\n",
       "      <th>5096</th>\n",
       "      <td>111000</td>\n",
       "      <td>Manual</td>\n",
       "      <td>Petrol</td>\n",
       "      <td>1</td>\n",
       "    </tr>\n",
       "    <tr>\n",
       "      <th>5097</th>\n",
       "      <td>55000</td>\n",
       "      <td>Manual</td>\n",
       "      <td>Petrol</td>\n",
       "      <td>1</td>\n",
       "    </tr>\n",
       "    <tr>\n",
       "      <th>5098</th>\n",
       "      <td>41900</td>\n",
       "      <td>Automatic</td>\n",
       "      <td>Petrol</td>\n",
       "      <td>1</td>\n",
       "    </tr>\n",
       "    <tr>\n",
       "      <th>5099</th>\n",
       "      <td>46000</td>\n",
       "      <td>Manual</td>\n",
       "      <td>Diesel</td>\n",
       "      <td>1</td>\n",
       "    </tr>\n",
       "  </tbody>\n",
       "</table>\n",
       "<p>5100 rows × 4 columns</p>\n",
       "</div>"
      ],
      "text/plain": [
       "      CAR_KMS TRANSMISSION FUEL_TYPE  CAR_OWNERS\n",
       "0       32000    Automatic    Petrol           1\n",
       "1      139000    Automatic    Diesel           1\n",
       "2       59534       Manual    Petrol           2\n",
       "3       13000       Manual    Petrol           1\n",
       "4       50000       Manual    Petrol           1\n",
       "...       ...          ...       ...         ...\n",
       "5095    19979       Manual    Diesel           1\n",
       "5096   111000       Manual    Petrol           1\n",
       "5097    55000       Manual    Petrol           1\n",
       "5098    41900    Automatic    Petrol           1\n",
       "5099    46000       Manual    Diesel           1\n",
       "\n",
       "[5100 rows x 4 columns]"
      ]
     },
     "execution_count": 24,
     "metadata": {},
     "output_type": "execute_result"
    }
   ],
   "source": [
    "df_4"
   ]
  },
  {
   "cell_type": "code",
   "execution_count": 25,
   "id": "43c51fd2",
   "metadata": {},
   "outputs": [
    {
     "data": {
      "text/plain": [
       "CAR_KMS          int64\n",
       "TRANSMISSION    object\n",
       "FUEL_TYPE       object\n",
       "CAR_OWNERS       int64\n",
       "dtype: object"
      ]
     },
     "execution_count": 25,
     "metadata": {},
     "output_type": "execute_result"
    }
   ],
   "source": [
    "df_4.dtypes"
   ]
  },
  {
   "cell_type": "markdown",
   "id": "1dffe445",
   "metadata": {},
   "source": [
    "# CAR SEATS DATA"
   ]
  },
  {
   "cell_type": "code",
   "execution_count": 139,
   "id": "d6646957",
   "metadata": {},
   "outputs": [],
   "source": [
    "driver=webdriver.Chrome(\"chromedriver.exe\")\n",
    "driver.maximize_window()"
   ]
  },
  {
   "cell_type": "code",
   "execution_count": 111,
   "id": "1aaa1e28",
   "metadata": {},
   "outputs": [],
   "source": [
    "Seats=[]\n",
    "Seats_1=[]\n",
    "Seats_2=[]\n",
    "Seats_3=[]\n",
    "Seats_4=[]\n",
    "Seats_5=[]"
   ]
  },
  {
   "cell_type": "code",
   "execution_count": 112,
   "id": "ba25a3fc",
   "metadata": {},
   "outputs": [
    {
     "name": "stderr",
     "output_type": "stream",
     "text": [
      "100%|██████████████████████████████████████████████████████████████████████████████| 1000/1000 [21:28<00:00,  1.29s/it]\n"
     ]
    }
   ],
   "source": [
    "from tqdm import tqdm\n",
    "for j in tqdm(df['Urls'][0:1000]):\n",
    "    driver.get(j)\n",
    "    time.sleep(0.5)\n",
    "    \n",
    "      # Extracting Seating capacity via xpath\n",
    "    try :\n",
    "        seats = driver.find_element(By.XPATH, '//*[text()=\"Seats\"]/following-sibling::span')\n",
    "        Seats.append(seats.text.replace('Seats', ''))\n",
    "        \n",
    "    except NoSuchElementException:\n",
    "        Seats.append('-')\n",
    "        "
   ]
  },
  {
   "cell_type": "code",
   "execution_count": 116,
   "id": "52e7d4ee",
   "metadata": {},
   "outputs": [
    {
     "name": "stderr",
     "output_type": "stream",
     "text": [
      "100%|██████████████████████████████████████████████████████████████████████████████| 1000/1000 [19:16<00:00,  1.16s/it]\n"
     ]
    }
   ],
   "source": [
    "from tqdm import tqdm\n",
    "for j in tqdm(df['Urls'][1001:2001]):\n",
    "    driver.get(j)\n",
    "    time.sleep(0.5)\n",
    "    \n",
    "      # Extracting Seating capacity via xpath\n",
    "    try :\n",
    "        seats_1 = driver.find_element(By.XPATH, '//*[text()=\"Seats\"]/following-sibling::span')\n",
    "        Seats_1.append(seats_1.text)\n",
    "        \n",
    "    except NoSuchElementException:\n",
    "        Seats.append('-')"
   ]
  },
  {
   "cell_type": "code",
   "execution_count": 117,
   "id": "e45addaa",
   "metadata": {},
   "outputs": [
    {
     "name": "stderr",
     "output_type": "stream",
     "text": [
      "100%|██████████████████████████████████████████████████████████████████████████████| 1001/1001 [18:57<00:00,  1.14s/it]\n"
     ]
    }
   ],
   "source": [
    "from tqdm import tqdm\n",
    "for j in tqdm(df['Urls'][2002:3003]):\n",
    "    driver.get(j)\n",
    "    time.sleep(0.5)\n",
    "    \n",
    "      # Extracting Seating capacity via xpath\n",
    "    try :\n",
    "        seats_2 = driver.find_element(By.XPATH, '//*[text()=\"Seats\"]/following-sibling::span')\n",
    "        Seats_2.append(seats_2.text)\n",
    "        \n",
    "    except NoSuchElementException:\n",
    "        Seats.append('-')"
   ]
  },
  {
   "cell_type": "code",
   "execution_count": 118,
   "id": "0b3d81a4",
   "metadata": {},
   "outputs": [
    {
     "name": "stderr",
     "output_type": "stream",
     "text": [
      "100%|██████████████████████████████████████████████████████████████████████████████| 1001/1001 [19:05<00:00,  1.14s/it]\n"
     ]
    }
   ],
   "source": [
    "from tqdm import tqdm\n",
    "for j in tqdm(df['Urls'][3004:4005]):\n",
    "    driver.get(j)\n",
    "    time.sleep(0.5)\n",
    "    \n",
    "      # Extracting Seating capacity via xpath\n",
    "    try :\n",
    "        seats_3 = driver.find_element(By.XPATH, '//*[text()=\"Seats\"]/following-sibling::span')\n",
    "        Seats_3.append(seats_3.text)\n",
    "        \n",
    "    except NoSuchElementException:\n",
    "        Seats.append('-')"
   ]
  },
  {
   "cell_type": "code",
   "execution_count": 119,
   "id": "8ee02a50",
   "metadata": {},
   "outputs": [
    {
     "name": "stderr",
     "output_type": "stream",
     "text": [
      "100%|██████████████████████████████████████████████████████████████████████████████| 1001/1001 [19:17<00:00,  1.16s/it]\n"
     ]
    }
   ],
   "source": [
    "from tqdm import tqdm\n",
    "for j in tqdm(df['Urls'][4006:5007]):\n",
    "    driver.get(j)\n",
    "    time.sleep(0.5)\n",
    "    \n",
    "      # Extracting Seating capacity via xpath\n",
    "    try :\n",
    "        seats_4 = driver.find_element(By.XPATH, '//*[text()=\"Seats\"]/following-sibling::span')\n",
    "        Seats_4.append(seats_4.text)\n",
    "        \n",
    "    except NoSuchElementException:\n",
    "        Seats.append('-')"
   ]
  },
  {
   "cell_type": "code",
   "execution_count": 120,
   "id": "0ad74e25",
   "metadata": {},
   "outputs": [
    {
     "name": "stderr",
     "output_type": "stream",
     "text": [
      "100%|██████████████████████████████████████████████████████████████████████████████| 1000/1000 [18:55<00:00,  1.14s/it]\n"
     ]
    }
   ],
   "source": [
    "from tqdm import tqdm\n",
    "for j in tqdm(df['Urls'][6001:7001]):\n",
    "    driver.get(j)\n",
    "    time.sleep(0.5)\n",
    "    \n",
    "      # Extracting Seating capacity via xpath\n",
    "    try :\n",
    "        seats_5 = driver.find_element(By.XPATH, '//*[text()=\"Seats\"]/following-sibling::span')\n",
    "        Seats_5.append(seats_5.text)\n",
    "        \n",
    "    except NoSuchElementException:\n",
    "        Seats.append('-')"
   ]
  },
  {
   "cell_type": "code",
   "execution_count": 121,
   "id": "3638fe5a",
   "metadata": {},
   "outputs": [
    {
     "name": "stdout",
     "output_type": "stream",
     "text": [
      "1674 870 869 878 825 887\n"
     ]
    }
   ],
   "source": [
    "print(len(Seats), len(Seats_1), len(Seats_2), len(Seats_3), len(Seats_4), len(Seats_5) )"
   ]
  },
  {
   "cell_type": "code",
   "execution_count": 122,
   "id": "0ccf274c",
   "metadata": {},
   "outputs": [],
   "source": [
    "Car_seat=[]"
   ]
  },
  {
   "cell_type": "code",
   "execution_count": 123,
   "id": "c86d7b81",
   "metadata": {},
   "outputs": [],
   "source": [
    "Car_seat = Seats + Seats_1 + Seats_2 + Seats_3 + Seats_4 + Seats_5"
   ]
  },
  {
   "cell_type": "code",
   "execution_count": 124,
   "id": "c4b76d1a",
   "metadata": {},
   "outputs": [
    {
     "data": {
      "text/plain": [
       "6003"
      ]
     },
     "execution_count": 124,
     "metadata": {},
     "output_type": "execute_result"
    }
   ],
   "source": [
    "len(Car_seat)"
   ]
  },
  {
   "cell_type": "code",
   "execution_count": null,
   "id": "6c68ad02",
   "metadata": {},
   "outputs": [],
   "source": [
    "#Car_seat"
   ]
  },
  {
   "cell_type": "code",
   "execution_count": null,
   "id": "56a0334c",
   "metadata": {},
   "outputs": [],
   "source": []
  },
  {
   "cell_type": "code",
   "execution_count": null,
   "id": "2a6b7d28",
   "metadata": {},
   "outputs": [],
   "source": []
  },
  {
   "cell_type": "code",
   "execution_count": null,
   "id": "698160b0",
   "metadata": {},
   "outputs": [],
   "source": []
  },
  {
   "cell_type": "code",
   "execution_count": null,
   "id": "09585759",
   "metadata": {},
   "outputs": [],
   "source": []
  },
  {
   "cell_type": "markdown",
   "id": "7256f474",
   "metadata": {},
   "source": [
    "# CAR Engine Displacement DATA"
   ]
  },
  {
   "cell_type": "code",
   "execution_count": null,
   "id": "1b4f9bad",
   "metadata": {},
   "outputs": [],
   "source": []
  },
  {
   "cell_type": "code",
   "execution_count": 126,
   "id": "eab53015",
   "metadata": {},
   "outputs": [],
   "source": [
    "Eng_disp=[]\n",
    "Eng_disp_1=[]\n",
    "Eng_disp_2=[]\n",
    "Eng_disp_3=[]\n",
    "Eng_disp_4=[]\n",
    "Eng_disp_5=[]"
   ]
  },
  {
   "cell_type": "code",
   "execution_count": null,
   "id": "b5376b7d",
   "metadata": {},
   "outputs": [],
   "source": []
  },
  {
   "cell_type": "code",
   "execution_count": 127,
   "id": "321cba84",
   "metadata": {},
   "outputs": [
    {
     "name": "stderr",
     "output_type": "stream",
     "text": [
      "100%|██████████████████████████████████████████████████████████████████████████████| 1000/1000 [17:45<00:00,  1.07s/it]\n"
     ]
    }
   ],
   "source": [
    "from tqdm import tqdm\n",
    "for j in tqdm(df['Urls'][0:1000]):\n",
    "    driver.get(j)\n",
    "    time.sleep(0.5)\n",
    "    \n",
    "      \n",
    "    try :\n",
    "        engine = driver.find_element(By.XPATH, '//*[text()=\"Engine Displacement\"]/following-sibling::span')\n",
    "        Eng_disp.append(engine.text.replace('cc', ''))\n",
    "        \n",
    "    except NoSuchElementException:\n",
    "        pass"
   ]
  },
  {
   "cell_type": "code",
   "execution_count": 128,
   "id": "b77fd822",
   "metadata": {},
   "outputs": [
    {
     "data": {
      "text/plain": [
       "904"
      ]
     },
     "execution_count": 128,
     "metadata": {},
     "output_type": "execute_result"
    }
   ],
   "source": [
    "len(Eng_disp)"
   ]
  },
  {
   "cell_type": "code",
   "execution_count": 130,
   "id": "5ef8ddf8",
   "metadata": {},
   "outputs": [],
   "source": [
    "#Eng_disp"
   ]
  },
  {
   "cell_type": "code",
   "execution_count": 133,
   "id": "2b12c0d3",
   "metadata": {},
   "outputs": [
    {
     "name": "stderr",
     "output_type": "stream",
     "text": [
      "100%|██████████████████████████████████████████████████████████████████████████████| 1000/1000 [18:35<00:00,  1.12s/it]\n"
     ]
    }
   ],
   "source": [
    "from tqdm import tqdm\n",
    "for j in tqdm(df['Urls'][1001:2001]):\n",
    "    driver.get(j)\n",
    "    time.sleep(0.5)\n",
    "    \n",
    "      \n",
    "    try :\n",
    "        engine_1 = driver.find_element(By.XPATH, '//*[text()=\"Engine Displacement\"]/following-sibling::span')\n",
    "        Eng_disp_1.append(engine_1.text.replace('cc', ''))\n",
    "        \n",
    "    except NoSuchElementException:\n",
    "        pass"
   ]
  },
  {
   "cell_type": "code",
   "execution_count": 134,
   "id": "62299e4d",
   "metadata": {},
   "outputs": [
    {
     "name": "stderr",
     "output_type": "stream",
     "text": [
      "100%|██████████████████████████████████████████████████████████████████████████████| 1001/1001 [18:24<00:00,  1.10s/it]\n"
     ]
    }
   ],
   "source": [
    "from tqdm import tqdm\n",
    "for j in tqdm(df['Urls'][2002:3003]):\n",
    "    driver.get(j)\n",
    "    time.sleep(0.5)\n",
    "    \n",
    "      \n",
    "    try :\n",
    "        engine_2 = driver.find_element(By.XPATH, '//*[text()=\"Engine Displacement\"]/following-sibling::span')\n",
    "        Eng_disp_2.append(engine_2.text.replace('cc', ''))\n",
    "        \n",
    "    except NoSuchElementException:\n",
    "        pass"
   ]
  },
  {
   "cell_type": "code",
   "execution_count": 137,
   "id": "ef7bdc16",
   "metadata": {},
   "outputs": [
    {
     "data": {
      "text/plain": [
       "861"
      ]
     },
     "execution_count": 137,
     "metadata": {},
     "output_type": "execute_result"
    }
   ],
   "source": [
    "len(Eng_disp_2)"
   ]
  },
  {
   "cell_type": "code",
   "execution_count": 140,
   "id": "cb45c411",
   "metadata": {},
   "outputs": [
    {
     "name": "stderr",
     "output_type": "stream",
     "text": [
      "100%|██████████████████████████████████████████████████████████████████████████████| 1001/1001 [19:08<00:00,  1.15s/it]\n"
     ]
    }
   ],
   "source": [
    "from tqdm import tqdm\n",
    "for j in tqdm(df['Urls'][3004:4005]):\n",
    "    driver.get(j)\n",
    "    time.sleep(0.5)\n",
    "    \n",
    "      \n",
    "    try :\n",
    "        engine_3 = driver.find_element(By.XPATH, '//*[text()=\"Engine Displacement\"]/following-sibling::span')\n",
    "        Eng_disp_3.append(engine_3.text.replace('cc', ''))\n",
    "        \n",
    "    except NoSuchElementException:\n",
    "        pass"
   ]
  },
  {
   "cell_type": "code",
   "execution_count": 141,
   "id": "ad8f6644",
   "metadata": {},
   "outputs": [
    {
     "name": "stderr",
     "output_type": "stream",
     "text": [
      "100%|██████████████████████████████████████████████████████████████████████████████| 1001/1001 [18:12<00:00,  1.09s/it]\n"
     ]
    }
   ],
   "source": [
    "from tqdm import tqdm\n",
    "for j in tqdm(df['Urls'][4006:5007]):\n",
    "    driver.get(j)\n",
    "    time.sleep(0.5)\n",
    "    \n",
    "      \n",
    "    try :\n",
    "        engine_4 = driver.find_element(By.XPATH, '//*[text()=\"Engine Displacement\"]/following-sibling::span')\n",
    "        Eng_disp_4.append(engine_4.text.replace('cc', ''))\n",
    "        \n",
    "    except NoSuchElementException:\n",
    "        pass"
   ]
  },
  {
   "cell_type": "code",
   "execution_count": 142,
   "id": "2e3598cf",
   "metadata": {},
   "outputs": [
    {
     "name": "stderr",
     "output_type": "stream",
     "text": [
      "100%|██████████████████████████████████████████████████████████████████████████████| 1000/1000 [17:31<00:00,  1.05s/it]\n"
     ]
    }
   ],
   "source": [
    "from tqdm import tqdm\n",
    "for j in tqdm(df['Urls'][6001:7001]):\n",
    "    driver.get(j)\n",
    "    time.sleep(0.5)\n",
    "    \n",
    "      \n",
    "    try :\n",
    "        engine_5 = driver.find_element(By.XPATH, '//*[text()=\"Engine Displacement\"]/following-sibling::span')\n",
    "        Eng_disp_5.append(engine_5.text.replace('cc', ''))\n",
    "        \n",
    "    except NoSuchElementException:\n",
    "        pass"
   ]
  },
  {
   "cell_type": "code",
   "execution_count": 143,
   "id": "85b99f66",
   "metadata": {},
   "outputs": [
    {
     "name": "stdout",
     "output_type": "stream",
     "text": [
      "904 869 861 872 822 887\n"
     ]
    }
   ],
   "source": [
    "print(len(Eng_disp), len(Eng_disp_1), len(Eng_disp_2), len(Eng_disp_3), len(Eng_disp_4), len(Eng_disp_5))"
   ]
  },
  {
   "cell_type": "code",
   "execution_count": 144,
   "id": "6b058cc0",
   "metadata": {},
   "outputs": [],
   "source": [
    "Eng_Displacement=[]"
   ]
  },
  {
   "cell_type": "code",
   "execution_count": 145,
   "id": "8ab0378b",
   "metadata": {},
   "outputs": [],
   "source": [
    "Eng_Displacement = Eng_disp + Eng_disp_1 + Eng_disp_2 + Eng_disp_3 + Eng_disp_4 + Eng_disp_5"
   ]
  },
  {
   "cell_type": "code",
   "execution_count": 146,
   "id": "af7b5597",
   "metadata": {},
   "outputs": [
    {
     "data": {
      "text/plain": [
       "5215"
      ]
     },
     "execution_count": 146,
     "metadata": {},
     "output_type": "execute_result"
    }
   ],
   "source": [
    "len(Eng_Displacement)"
   ]
  },
  {
   "cell_type": "markdown",
   "id": "340c8db8",
   "metadata": {},
   "source": [
    "# Car Mileage Data"
   ]
  },
  {
   "cell_type": "code",
   "execution_count": 156,
   "id": "91189325",
   "metadata": {},
   "outputs": [],
   "source": [
    "Mileage=[]\n",
    "Mileage_1=[]\n",
    "Mileage_2=[]\n",
    "Mileage_3=[]\n",
    "Mileage_4=[]\n",
    "Mileage_5=[]"
   ]
  },
  {
   "cell_type": "code",
   "execution_count": 157,
   "id": "d18c926f",
   "metadata": {},
   "outputs": [
    {
     "name": "stderr",
     "output_type": "stream",
     "text": [
      "100%|██████████████████████████████████████████████████████████████████████████████| 1000/1000 [20:47<00:00,  1.25s/it]\n"
     ]
    }
   ],
   "source": [
    "from tqdm import tqdm\n",
    "for j in tqdm(df['Urls'][0:1000]):\n",
    "    driver.get(j)\n",
    "    time.sleep(0.5)\n",
    "    \n",
    "      \n",
    "    try :\n",
    "        mileage = driver.find_element(By.XPATH, '//*[text()=\"Mileage\"]/following-sibling::span')\n",
    "        Mileage.append(mileage.text.replace('kmpl', ''))\n",
    "        \n",
    "    except NoSuchElementException:\n",
    "        pass"
   ]
  },
  {
   "cell_type": "code",
   "execution_count": 158,
   "id": "2582d655",
   "metadata": {},
   "outputs": [
    {
     "data": {
      "text/plain": [
       "885"
      ]
     },
     "execution_count": 158,
     "metadata": {},
     "output_type": "execute_result"
    }
   ],
   "source": [
    "len(Mileage)"
   ]
  },
  {
   "cell_type": "code",
   "execution_count": 155,
   "id": "79f0a215",
   "metadata": {},
   "outputs": [],
   "source": [
    "#Mileage"
   ]
  },
  {
   "cell_type": "code",
   "execution_count": 159,
   "id": "f3fd0457",
   "metadata": {},
   "outputs": [
    {
     "name": "stderr",
     "output_type": "stream",
     "text": [
      "100%|██████████████████████████████████████████████████████████████████████████████| 1000/1000 [17:52<00:00,  1.07s/it]\n"
     ]
    }
   ],
   "source": [
    "from tqdm import tqdm\n",
    "for j in tqdm(df['Urls'][1001:2001]):\n",
    "    driver.get(j)\n",
    "    time.sleep(0.5)\n",
    "    \n",
    "      \n",
    "    try :\n",
    "        mileage_1 = driver.find_element(By.XPATH, '//*[text()=\"Mileage\"]/following-sibling::span')\n",
    "        Mileage_1.append(mileage_1.text.replace('kmpl', ''))\n",
    "        \n",
    "    except NoSuchElementException:\n",
    "        pass"
   ]
  },
  {
   "cell_type": "code",
   "execution_count": 160,
   "id": "e1484ca4",
   "metadata": {},
   "outputs": [
    {
     "name": "stderr",
     "output_type": "stream",
     "text": [
      "100%|██████████████████████████████████████████████████████████████████████████████| 1001/1001 [17:52<00:00,  1.07s/it]\n"
     ]
    }
   ],
   "source": [
    "from tqdm import tqdm\n",
    "for j in tqdm(df['Urls'][2002:3003]):\n",
    "    driver.get(j)\n",
    "    time.sleep(0.5)\n",
    "    \n",
    "      \n",
    "    try :\n",
    "        mileage_2 = driver.find_element(By.XPATH, '//*[text()=\"Mileage\"]/following-sibling::span')\n",
    "        Mileage_2.append(mileage_2.text.replace('kmpl', ''))\n",
    "        \n",
    "    except NoSuchElementException:\n",
    "        pass"
   ]
  },
  {
   "cell_type": "code",
   "execution_count": 161,
   "id": "1526f4be",
   "metadata": {},
   "outputs": [
    {
     "data": {
      "text/plain": [
       "832"
      ]
     },
     "execution_count": 161,
     "metadata": {},
     "output_type": "execute_result"
    }
   ],
   "source": [
    "len(Mileage_2)"
   ]
  },
  {
   "cell_type": "code",
   "execution_count": 162,
   "id": "498bed6d",
   "metadata": {},
   "outputs": [
    {
     "name": "stderr",
     "output_type": "stream",
     "text": [
      "100%|██████████████████████████████████████████████████████████████████████████████| 1001/1001 [17:31<00:00,  1.05s/it]\n"
     ]
    }
   ],
   "source": [
    "from tqdm import tqdm\n",
    "for j in tqdm(df['Urls'][3004:4005]):\n",
    "    driver.get(j)\n",
    "    time.sleep(0.5)\n",
    "    \n",
    "      \n",
    "    try :\n",
    "        mileage_3 = driver.find_element(By.XPATH, '//*[text()=\"Mileage\"]/following-sibling::span')\n",
    "        Mileage_3.append(mileage_3.text.replace('kmpl', ''))\n",
    "        \n",
    "    except NoSuchElementException:\n",
    "        pass"
   ]
  },
  {
   "cell_type": "code",
   "execution_count": 165,
   "id": "27dab5cd",
   "metadata": {},
   "outputs": [
    {
     "data": {
      "text/plain": [
       "848"
      ]
     },
     "execution_count": 165,
     "metadata": {},
     "output_type": "execute_result"
    }
   ],
   "source": [
    "len(Mileage_3)"
   ]
  },
  {
   "cell_type": "code",
   "execution_count": 163,
   "id": "80c10380",
   "metadata": {},
   "outputs": [
    {
     "name": "stderr",
     "output_type": "stream",
     "text": [
      "100%|██████████████████████████████████████████████████████████████████████████████| 1001/1001 [17:41<00:00,  1.06s/it]\n"
     ]
    }
   ],
   "source": [
    "from tqdm import tqdm\n",
    "for j in tqdm(df['Urls'][4006:5007]):\n",
    "    driver.get(j)\n",
    "    time.sleep(0.5)\n",
    "    \n",
    "      \n",
    "    try :\n",
    "        mileage_4 = driver.find_element(By.XPATH, '//*[text()=\"Mileage\"]/following-sibling::span')\n",
    "        Mileage_4.append(mileage_4.text.replace('kmpl', ''))\n",
    "        \n",
    "    except NoSuchElementException:\n",
    "        pass"
   ]
  },
  {
   "cell_type": "code",
   "execution_count": 164,
   "id": "a0cd8c3e",
   "metadata": {},
   "outputs": [
    {
     "data": {
      "text/plain": [
       "796"
      ]
     },
     "execution_count": 164,
     "metadata": {},
     "output_type": "execute_result"
    }
   ],
   "source": [
    "len(Mileage_4)"
   ]
  },
  {
   "cell_type": "code",
   "execution_count": 166,
   "id": "790441de",
   "metadata": {},
   "outputs": [
    {
     "name": "stderr",
     "output_type": "stream",
     "text": [
      "100%|██████████████████████████████████████████████████████████████████████████████| 1199/1199 [20:30<00:00,  1.03s/it]\n"
     ]
    }
   ],
   "source": [
    "from tqdm import tqdm\n",
    "for j in tqdm(df['Urls'][6001:7200]):\n",
    "    driver.get(j)\n",
    "    time.sleep(0.5)\n",
    "    \n",
    "      \n",
    "    try :\n",
    "        mileage_5 = driver.find_element(By.XPATH, '//*[text()=\"Mileage\"]/following-sibling::span')\n",
    "        Mileage_5.append(mileage_5.text.replace('kmpl', ''))\n",
    "        \n",
    "    except NoSuchElementException:\n",
    "        pass"
   ]
  },
  {
   "cell_type": "code",
   "execution_count": 167,
   "id": "6b4b8843",
   "metadata": {},
   "outputs": [
    {
     "name": "stdout",
     "output_type": "stream",
     "text": [
      "885 847 832 848 796 1052\n"
     ]
    }
   ],
   "source": [
    "print(len(Mileage), len(Mileage_1), len(Mileage_2), len(Mileage_3), len(Mileage_4), len(Mileage_5))"
   ]
  },
  {
   "cell_type": "code",
   "execution_count": 168,
   "id": "631614c0",
   "metadata": {},
   "outputs": [],
   "source": [
    "Car_Mileage=[]"
   ]
  },
  {
   "cell_type": "code",
   "execution_count": 169,
   "id": "9609c4b0",
   "metadata": {},
   "outputs": [],
   "source": [
    "Car_Mileage= Mileage + Mileage_1 + Mileage_2 + Mileage_3 + Mileage_4 + Mileage_5"
   ]
  },
  {
   "cell_type": "code",
   "execution_count": 170,
   "id": "39d23bdd",
   "metadata": {},
   "outputs": [
    {
     "data": {
      "text/plain": [
       "5260"
      ]
     },
     "execution_count": 170,
     "metadata": {},
     "output_type": "execute_result"
    }
   ],
   "source": [
    "len(Car_Mileage)"
   ]
  },
  {
   "cell_type": "code",
   "execution_count": 171,
   "id": "c6959200",
   "metadata": {},
   "outputs": [],
   "source": [
    "car_data_3=pd.DataFrame({'SEATING_CAPACITY':Car_seat[0:5100], 'ENGINE_DISPLACEMENT(CC)':Eng_Displacement[0:5100], 'MILEAGE(kmpl)':Car_Mileage[0:5100]})\n"
   ]
  },
  {
   "cell_type": "code",
   "execution_count": 182,
   "id": "bc0d3fb9",
   "metadata": {},
   "outputs": [
    {
     "data": {
      "text/html": [
       "<div>\n",
       "<style scoped>\n",
       "    .dataframe tbody tr th:only-of-type {\n",
       "        vertical-align: middle;\n",
       "    }\n",
       "\n",
       "    .dataframe tbody tr th {\n",
       "        vertical-align: top;\n",
       "    }\n",
       "\n",
       "    .dataframe thead th {\n",
       "        text-align: right;\n",
       "    }\n",
       "</style>\n",
       "<table border=\"1\" class=\"dataframe\">\n",
       "  <thead>\n",
       "    <tr style=\"text-align: right;\">\n",
       "      <th></th>\n",
       "      <th>SEATING_CAPACITY</th>\n",
       "      <th>ENGINE_DISPLACEMENT(CC)</th>\n",
       "      <th>MILEAGE(kmpl)</th>\n",
       "    </tr>\n",
       "  </thead>\n",
       "  <tbody>\n",
       "    <tr>\n",
       "      <th>0</th>\n",
       "      <td>5</td>\n",
       "      <td>998</td>\n",
       "      <td>18.15</td>\n",
       "    </tr>\n",
       "    <tr>\n",
       "      <th>1</th>\n",
       "      <td>7</td>\n",
       "      <td>2999</td>\n",
       "      <td>13.8</td>\n",
       "    </tr>\n",
       "    <tr>\n",
       "      <th>2</th>\n",
       "      <td>5</td>\n",
       "      <td>1198</td>\n",
       "      <td>18</td>\n",
       "    </tr>\n",
       "    <tr>\n",
       "      <th>3</th>\n",
       "      <td>5</td>\n",
       "      <td>814</td>\n",
       "      <td>21.1</td>\n",
       "    </tr>\n",
       "    <tr>\n",
       "      <th>4</th>\n",
       "      <td>5</td>\n",
       "      <td>1197</td>\n",
       "      <td>21.21</td>\n",
       "    </tr>\n",
       "    <tr>\n",
       "      <th>...</th>\n",
       "      <td>...</td>\n",
       "      <td>...</td>\n",
       "      <td>...</td>\n",
       "    </tr>\n",
       "    <tr>\n",
       "      <th>5095</th>\n",
       "      <td>5 Seats</td>\n",
       "      <td>1197</td>\n",
       "      <td>18.9</td>\n",
       "    </tr>\n",
       "    <tr>\n",
       "      <th>5096</th>\n",
       "      <td>5 Seats</td>\n",
       "      <td>1061</td>\n",
       "      <td>14.08</td>\n",
       "    </tr>\n",
       "    <tr>\n",
       "      <th>5097</th>\n",
       "      <td>5 Seats</td>\n",
       "      <td>1197</td>\n",
       "      <td>12</td>\n",
       "    </tr>\n",
       "    <tr>\n",
       "      <th>5098</th>\n",
       "      <td>5 Seats</td>\n",
       "      <td>1086</td>\n",
       "      <td>15.56</td>\n",
       "    </tr>\n",
       "    <tr>\n",
       "      <th>5099</th>\n",
       "      <td>5 Seats</td>\n",
       "      <td>1798</td>\n",
       "      <td>21.21</td>\n",
       "    </tr>\n",
       "  </tbody>\n",
       "</table>\n",
       "<p>5100 rows × 3 columns</p>\n",
       "</div>"
      ],
      "text/plain": [
       "     SEATING_CAPACITY ENGINE_DISPLACEMENT(CC) MILEAGE(kmpl)\n",
       "0                  5                     998         18.15 \n",
       "1                  7                    2999          13.8 \n",
       "2                  5                    1198            18 \n",
       "3                  5                     814          21.1 \n",
       "4                  5                    1197         21.21 \n",
       "...               ...                     ...           ...\n",
       "5095          5 Seats                   1197          18.9 \n",
       "5096          5 Seats                   1061         14.08 \n",
       "5097          5 Seats                   1197            12 \n",
       "5098          5 Seats                   1086         15.56 \n",
       "5099          5 Seats                   1798         21.21 \n",
       "\n",
       "[5100 rows x 3 columns]"
      ]
     },
     "execution_count": 182,
     "metadata": {},
     "output_type": "execute_result"
    }
   ],
   "source": [
    "car_data_3"
   ]
  },
  {
   "cell_type": "code",
   "execution_count": 183,
   "id": "61a0ec85",
   "metadata": {},
   "outputs": [],
   "source": [
    "car_data_3['SEATING_CAPACITY'] = car_data_3['SEATING_CAPACITY'].str.replace('Seats', '')"
   ]
  },
  {
   "cell_type": "code",
   "execution_count": 184,
   "id": "e90d8f2c",
   "metadata": {},
   "outputs": [
    {
     "data": {
      "text/html": [
       "<div>\n",
       "<style scoped>\n",
       "    .dataframe tbody tr th:only-of-type {\n",
       "        vertical-align: middle;\n",
       "    }\n",
       "\n",
       "    .dataframe tbody tr th {\n",
       "        vertical-align: top;\n",
       "    }\n",
       "\n",
       "    .dataframe thead th {\n",
       "        text-align: right;\n",
       "    }\n",
       "</style>\n",
       "<table border=\"1\" class=\"dataframe\">\n",
       "  <thead>\n",
       "    <tr style=\"text-align: right;\">\n",
       "      <th></th>\n",
       "      <th>SEATING_CAPACITY</th>\n",
       "      <th>ENGINE_DISPLACEMENT(CC)</th>\n",
       "      <th>MILEAGE(kmpl)</th>\n",
       "    </tr>\n",
       "  </thead>\n",
       "  <tbody>\n",
       "    <tr>\n",
       "      <th>0</th>\n",
       "      <td>5</td>\n",
       "      <td>998</td>\n",
       "      <td>18.15</td>\n",
       "    </tr>\n",
       "    <tr>\n",
       "      <th>1</th>\n",
       "      <td>7</td>\n",
       "      <td>2999</td>\n",
       "      <td>13.8</td>\n",
       "    </tr>\n",
       "    <tr>\n",
       "      <th>2</th>\n",
       "      <td>5</td>\n",
       "      <td>1198</td>\n",
       "      <td>18</td>\n",
       "    </tr>\n",
       "    <tr>\n",
       "      <th>3</th>\n",
       "      <td>5</td>\n",
       "      <td>814</td>\n",
       "      <td>21.1</td>\n",
       "    </tr>\n",
       "    <tr>\n",
       "      <th>4</th>\n",
       "      <td>5</td>\n",
       "      <td>1197</td>\n",
       "      <td>21.21</td>\n",
       "    </tr>\n",
       "    <tr>\n",
       "      <th>...</th>\n",
       "      <td>...</td>\n",
       "      <td>...</td>\n",
       "      <td>...</td>\n",
       "    </tr>\n",
       "    <tr>\n",
       "      <th>5095</th>\n",
       "      <td>5</td>\n",
       "      <td>1197</td>\n",
       "      <td>18.9</td>\n",
       "    </tr>\n",
       "    <tr>\n",
       "      <th>5096</th>\n",
       "      <td>5</td>\n",
       "      <td>1061</td>\n",
       "      <td>14.08</td>\n",
       "    </tr>\n",
       "    <tr>\n",
       "      <th>5097</th>\n",
       "      <td>5</td>\n",
       "      <td>1197</td>\n",
       "      <td>12</td>\n",
       "    </tr>\n",
       "    <tr>\n",
       "      <th>5098</th>\n",
       "      <td>5</td>\n",
       "      <td>1086</td>\n",
       "      <td>15.56</td>\n",
       "    </tr>\n",
       "    <tr>\n",
       "      <th>5099</th>\n",
       "      <td>5</td>\n",
       "      <td>1798</td>\n",
       "      <td>21.21</td>\n",
       "    </tr>\n",
       "  </tbody>\n",
       "</table>\n",
       "<p>5100 rows × 3 columns</p>\n",
       "</div>"
      ],
      "text/plain": [
       "     SEATING_CAPACITY ENGINE_DISPLACEMENT(CC) MILEAGE(kmpl)\n",
       "0                  5                     998         18.15 \n",
       "1                  7                    2999          13.8 \n",
       "2                  5                    1198            18 \n",
       "3                  5                     814          21.1 \n",
       "4                  5                    1197         21.21 \n",
       "...               ...                     ...           ...\n",
       "5095               5                    1197          18.9 \n",
       "5096               5                    1061         14.08 \n",
       "5097               5                    1197            12 \n",
       "5098               5                    1086         15.56 \n",
       "5099               5                    1798         21.21 \n",
       "\n",
       "[5100 rows x 3 columns]"
      ]
     },
     "execution_count": 184,
     "metadata": {},
     "output_type": "execute_result"
    }
   ],
   "source": [
    "car_data_3"
   ]
  },
  {
   "cell_type": "code",
   "execution_count": 185,
   "id": "ae2e1392",
   "metadata": {},
   "outputs": [],
   "source": [
    "car_data_3.to_excel('Col_5_Car_data.xlsx', index=False)"
   ]
  },
  {
   "cell_type": "code",
   "execution_count": 23,
   "id": "3863f0ff",
   "metadata": {},
   "outputs": [],
   "source": [
    "df_car =pd.read_excel('Col_5_Car_data.xlsx')"
   ]
  },
  {
   "cell_type": "code",
   "execution_count": 24,
   "id": "46d1143e",
   "metadata": {},
   "outputs": [
    {
     "data": {
      "text/html": [
       "<div>\n",
       "<style scoped>\n",
       "    .dataframe tbody tr th:only-of-type {\n",
       "        vertical-align: middle;\n",
       "    }\n",
       "\n",
       "    .dataframe tbody tr th {\n",
       "        vertical-align: top;\n",
       "    }\n",
       "\n",
       "    .dataframe thead th {\n",
       "        text-align: right;\n",
       "    }\n",
       "</style>\n",
       "<table border=\"1\" class=\"dataframe\">\n",
       "  <thead>\n",
       "    <tr style=\"text-align: right;\">\n",
       "      <th></th>\n",
       "      <th>SEATING_CAPACITY</th>\n",
       "      <th>ENGINE_DISPLACEMENT(CC)</th>\n",
       "      <th>MILEAGE(kmpl)</th>\n",
       "    </tr>\n",
       "  </thead>\n",
       "  <tbody>\n",
       "    <tr>\n",
       "      <th>0</th>\n",
       "      <td>5</td>\n",
       "      <td>998</td>\n",
       "      <td>18.15</td>\n",
       "    </tr>\n",
       "    <tr>\n",
       "      <th>1</th>\n",
       "      <td>7</td>\n",
       "      <td>2999</td>\n",
       "      <td>13.8</td>\n",
       "    </tr>\n",
       "    <tr>\n",
       "      <th>2</th>\n",
       "      <td>5</td>\n",
       "      <td>1198</td>\n",
       "      <td>18</td>\n",
       "    </tr>\n",
       "    <tr>\n",
       "      <th>3</th>\n",
       "      <td>5</td>\n",
       "      <td>814</td>\n",
       "      <td>21.1</td>\n",
       "    </tr>\n",
       "    <tr>\n",
       "      <th>4</th>\n",
       "      <td>5</td>\n",
       "      <td>1197</td>\n",
       "      <td>21.21</td>\n",
       "    </tr>\n",
       "    <tr>\n",
       "      <th>...</th>\n",
       "      <td>...</td>\n",
       "      <td>...</td>\n",
       "      <td>...</td>\n",
       "    </tr>\n",
       "    <tr>\n",
       "      <th>5095</th>\n",
       "      <td>5</td>\n",
       "      <td>1197</td>\n",
       "      <td>18.9</td>\n",
       "    </tr>\n",
       "    <tr>\n",
       "      <th>5096</th>\n",
       "      <td>5</td>\n",
       "      <td>1061</td>\n",
       "      <td>14.08</td>\n",
       "    </tr>\n",
       "    <tr>\n",
       "      <th>5097</th>\n",
       "      <td>5</td>\n",
       "      <td>1197</td>\n",
       "      <td>12</td>\n",
       "    </tr>\n",
       "    <tr>\n",
       "      <th>5098</th>\n",
       "      <td>5</td>\n",
       "      <td>1086</td>\n",
       "      <td>15.56</td>\n",
       "    </tr>\n",
       "    <tr>\n",
       "      <th>5099</th>\n",
       "      <td>5</td>\n",
       "      <td>1798</td>\n",
       "      <td>21.21</td>\n",
       "    </tr>\n",
       "  </tbody>\n",
       "</table>\n",
       "<p>5100 rows × 3 columns</p>\n",
       "</div>"
      ],
      "text/plain": [
       "     SEATING_CAPACITY  ENGINE_DISPLACEMENT(CC) MILEAGE(kmpl)\n",
       "0                  5                       998        18.15 \n",
       "1                  7                      2999         13.8 \n",
       "2                  5                      1198           18 \n",
       "3                  5                       814         21.1 \n",
       "4                  5                      1197        21.21 \n",
       "...               ...                      ...           ...\n",
       "5095               5                      1197         18.9 \n",
       "5096               5                      1061        14.08 \n",
       "5097               5                      1197           12 \n",
       "5098               5                      1086        15.56 \n",
       "5099               5                      1798        21.21 \n",
       "\n",
       "[5100 rows x 3 columns]"
      ]
     },
     "execution_count": 24,
     "metadata": {},
     "output_type": "execute_result"
    }
   ],
   "source": [
    "df_car"
   ]
  },
  {
   "cell_type": "code",
   "execution_count": 25,
   "id": "57ed1f47",
   "metadata": {},
   "outputs": [
    {
     "data": {
      "text/plain": [
       "SEATING_CAPACITY           object\n",
       "ENGINE_DISPLACEMENT(CC)     int64\n",
       "MILEAGE(kmpl)              object\n",
       "dtype: object"
      ]
     },
     "execution_count": 25,
     "metadata": {},
     "output_type": "execute_result"
    }
   ],
   "source": [
    "df_car.dtypes"
   ]
  },
  {
   "cell_type": "markdown",
   "id": "2b5460f8",
   "metadata": {},
   "source": [
    "**Clean Unwanted Data And Convert In To Float Type Data**"
   ]
  },
  {
   "cell_type": "code",
   "execution_count": 26,
   "id": "f0576594",
   "metadata": {},
   "outputs": [],
   "source": [
    "df_car['MILEAGE(kmpl)'] = df_car['MILEAGE(kmpl)'].map(lambda x : x.replace('km/kg',''))"
   ]
  },
  {
   "cell_type": "code",
   "execution_count": 27,
   "id": "63702da6",
   "metadata": {},
   "outputs": [],
   "source": [
    "df_car['MILEAGE(kmpl)'] = df_car['MILEAGE(kmpl)'].map(lambda x : x.replace('-',''))"
   ]
  },
  {
   "cell_type": "code",
   "execution_count": 28,
   "id": "3f298385",
   "metadata": {},
   "outputs": [],
   "source": [
    "df_car['MILEAGE(kmpl)'] = df_car['MILEAGE(kmpl)'].map(lambda x : x.replace('km/hr',''))"
   ]
  },
  {
   "cell_type": "code",
   "execution_count": 29,
   "id": "4a5c2e47",
   "metadata": {},
   "outputs": [],
   "source": [
    "df_car['MILEAGE(kmpl)'] = df_car['MILEAGE(kmpl)'].map(lambda x : x.replace(\"'\",\"\"))"
   ]
  },
  {
   "cell_type": "code",
   "execution_count": 30,
   "id": "0b4f0f82",
   "metadata": {},
   "outputs": [],
   "source": [
    "df_car['MILEAGE(kmpl)'] = pd.to_numeric(df_car['MILEAGE(kmpl)'])"
   ]
  },
  {
   "cell_type": "code",
   "execution_count": 31,
   "id": "0b180005",
   "metadata": {},
   "outputs": [
    {
     "data": {
      "text/plain": [
       "dtype('float64')"
      ]
     },
     "execution_count": 31,
     "metadata": {},
     "output_type": "execute_result"
    }
   ],
   "source": [
    "df_car['MILEAGE(kmpl)'].dtypes"
   ]
  },
  {
   "cell_type": "code",
   "execution_count": 32,
   "id": "7d565445",
   "metadata": {},
   "outputs": [],
   "source": [
    "df_car['SEATING_CAPACITY'] = df_car['SEATING_CAPACITY'].str.replace('-', '')\n",
    "df_car['SEATING_CAPACITY'] = df_car['SEATING_CAPACITY'].str.replace(\"'\", \"\")\n",
    "df_car['SEATING_CAPACITY'] = df_car['SEATING_CAPACITY'].str.replace(',', '')\n",
    "df_car['SEATING_CAPACITY'] = df_car['SEATING_CAPACITY'].str.replace(' ', '')\n"
   ]
  },
  {
   "cell_type": "code",
   "execution_count": 33,
   "id": "46a7a71f",
   "metadata": {},
   "outputs": [],
   "source": [
    "df_car['SEATING_CAPACITY'] = pd.to_numeric(df_car['SEATING_CAPACITY'])"
   ]
  },
  {
   "cell_type": "code",
   "execution_count": 34,
   "id": "1343dd2d",
   "metadata": {},
   "outputs": [
    {
     "data": {
      "text/plain": [
       "dtype('float64')"
      ]
     },
     "execution_count": 34,
     "metadata": {},
     "output_type": "execute_result"
    }
   ],
   "source": [
    "df_car['SEATING_CAPACITY'].dtypes"
   ]
  },
  {
   "cell_type": "code",
   "execution_count": 35,
   "id": "82363667",
   "metadata": {},
   "outputs": [
    {
     "data": {
      "text/plain": [
       "SEATING_CAPACITY           float64\n",
       "ENGINE_DISPLACEMENT(CC)      int64\n",
       "MILEAGE(kmpl)              float64\n",
       "dtype: object"
      ]
     },
     "execution_count": 35,
     "metadata": {},
     "output_type": "execute_result"
    }
   ],
   "source": [
    "df_car.dtypes"
   ]
  },
  {
   "cell_type": "markdown",
   "id": "b606043d",
   "metadata": {},
   "source": [
    "**Final Excel File**"
   ]
  },
  {
   "cell_type": "code",
   "execution_count": 36,
   "id": "246429dd",
   "metadata": {},
   "outputs": [],
   "source": [
    "df_car.to_excel('Col_5_Car_data.xlsx', index=False)"
   ]
  },
  {
   "cell_type": "code",
   "execution_count": 52,
   "id": "fdf9d84c",
   "metadata": {},
   "outputs": [
    {
     "data": {
      "text/html": [
       "<div>\n",
       "<style scoped>\n",
       "    .dataframe tbody tr th:only-of-type {\n",
       "        vertical-align: middle;\n",
       "    }\n",
       "\n",
       "    .dataframe tbody tr th {\n",
       "        vertical-align: top;\n",
       "    }\n",
       "\n",
       "    .dataframe thead th {\n",
       "        text-align: right;\n",
       "    }\n",
       "</style>\n",
       "<table border=\"1\" class=\"dataframe\">\n",
       "  <thead>\n",
       "    <tr style=\"text-align: right;\">\n",
       "      <th></th>\n",
       "      <th>SEATING_CAPACITY</th>\n",
       "      <th>ENGINE_DISPLACEMENT(CC)</th>\n",
       "      <th>MILEAGE(kmpl)</th>\n",
       "    </tr>\n",
       "  </thead>\n",
       "  <tbody>\n",
       "    <tr>\n",
       "      <th>0</th>\n",
       "      <td>5.0</td>\n",
       "      <td>998</td>\n",
       "      <td>18.15</td>\n",
       "    </tr>\n",
       "    <tr>\n",
       "      <th>1</th>\n",
       "      <td>7.0</td>\n",
       "      <td>2999</td>\n",
       "      <td>13.80</td>\n",
       "    </tr>\n",
       "    <tr>\n",
       "      <th>2</th>\n",
       "      <td>5.0</td>\n",
       "      <td>1198</td>\n",
       "      <td>18.00</td>\n",
       "    </tr>\n",
       "    <tr>\n",
       "      <th>3</th>\n",
       "      <td>5.0</td>\n",
       "      <td>814</td>\n",
       "      <td>21.10</td>\n",
       "    </tr>\n",
       "    <tr>\n",
       "      <th>4</th>\n",
       "      <td>5.0</td>\n",
       "      <td>1197</td>\n",
       "      <td>21.21</td>\n",
       "    </tr>\n",
       "    <tr>\n",
       "      <th>...</th>\n",
       "      <td>...</td>\n",
       "      <td>...</td>\n",
       "      <td>...</td>\n",
       "    </tr>\n",
       "    <tr>\n",
       "      <th>5095</th>\n",
       "      <td>5.0</td>\n",
       "      <td>1197</td>\n",
       "      <td>18.90</td>\n",
       "    </tr>\n",
       "    <tr>\n",
       "      <th>5096</th>\n",
       "      <td>5.0</td>\n",
       "      <td>1061</td>\n",
       "      <td>14.08</td>\n",
       "    </tr>\n",
       "    <tr>\n",
       "      <th>5097</th>\n",
       "      <td>5.0</td>\n",
       "      <td>1197</td>\n",
       "      <td>12.00</td>\n",
       "    </tr>\n",
       "    <tr>\n",
       "      <th>5098</th>\n",
       "      <td>5.0</td>\n",
       "      <td>1086</td>\n",
       "      <td>15.56</td>\n",
       "    </tr>\n",
       "    <tr>\n",
       "      <th>5099</th>\n",
       "      <td>5.0</td>\n",
       "      <td>1798</td>\n",
       "      <td>21.21</td>\n",
       "    </tr>\n",
       "  </tbody>\n",
       "</table>\n",
       "<p>5100 rows × 3 columns</p>\n",
       "</div>"
      ],
      "text/plain": [
       "      SEATING_CAPACITY  ENGINE_DISPLACEMENT(CC)  MILEAGE(kmpl)\n",
       "0                  5.0                      998          18.15\n",
       "1                  7.0                     2999          13.80\n",
       "2                  5.0                     1198          18.00\n",
       "3                  5.0                      814          21.10\n",
       "4                  5.0                     1197          21.21\n",
       "...                ...                      ...            ...\n",
       "5095               5.0                     1197          18.90\n",
       "5096               5.0                     1061          14.08\n",
       "5097               5.0                     1197          12.00\n",
       "5098               5.0                     1086          15.56\n",
       "5099               5.0                     1798          21.21\n",
       "\n",
       "[5100 rows x 3 columns]"
      ]
     },
     "execution_count": 52,
     "metadata": {},
     "output_type": "execute_result"
    }
   ],
   "source": [
    "df_car1=pd.read_excel('Col_5_Car_data.xlsx')\n",
    "df_car1"
   ]
  },
  {
   "cell_type": "code",
   "execution_count": 53,
   "id": "639299b1",
   "metadata": {},
   "outputs": [
    {
     "data": {
      "text/plain": [
       "SEATING_CAPACITY           float64\n",
       "ENGINE_DISPLACEMENT(CC)      int64\n",
       "MILEAGE(kmpl)              float64\n",
       "dtype: object"
      ]
     },
     "execution_count": 53,
     "metadata": {},
     "output_type": "execute_result"
    }
   ],
   "source": [
    "df_car1.dtypes"
   ]
  },
  {
   "cell_type": "code",
   "execution_count": 54,
   "id": "468a9263",
   "metadata": {},
   "outputs": [
    {
     "data": {
      "text/html": [
       "<div>\n",
       "<style scoped>\n",
       "    .dataframe tbody tr th:only-of-type {\n",
       "        vertical-align: middle;\n",
       "    }\n",
       "\n",
       "    .dataframe tbody tr th {\n",
       "        vertical-align: top;\n",
       "    }\n",
       "\n",
       "    .dataframe thead th {\n",
       "        text-align: right;\n",
       "    }\n",
       "</style>\n",
       "<table border=\"1\" class=\"dataframe\">\n",
       "  <thead>\n",
       "    <tr style=\"text-align: right;\">\n",
       "      <th></th>\n",
       "      <th>CAR_MODEL</th>\n",
       "      <th>CAR_AGE</th>\n",
       "    </tr>\n",
       "  </thead>\n",
       "  <tbody>\n",
       "    <tr>\n",
       "      <th>0</th>\n",
       "      <td>Hyundai Venue SX Plus Turbo DCT BSIV</td>\n",
       "      <td>2019</td>\n",
       "    </tr>\n",
       "    <tr>\n",
       "      <th>1</th>\n",
       "      <td>Isuzu MUX 2WD</td>\n",
       "      <td>2017</td>\n",
       "    </tr>\n",
       "    <tr>\n",
       "      <th>2</th>\n",
       "      <td>Honda Amaze S iVtech</td>\n",
       "      <td>2015</td>\n",
       "    </tr>\n",
       "    <tr>\n",
       "      <th>3</th>\n",
       "      <td>Hyundai EON D Lite</td>\n",
       "      <td>2013</td>\n",
       "    </tr>\n",
       "    <tr>\n",
       "      <th>4</th>\n",
       "      <td>Maruti Swift VXI</td>\n",
       "      <td>2020</td>\n",
       "    </tr>\n",
       "    <tr>\n",
       "      <th>...</th>\n",
       "      <td>...</td>\n",
       "      <td>...</td>\n",
       "    </tr>\n",
       "    <tr>\n",
       "      <th>5095</th>\n",
       "      <td>Honda City i VTEC CVT VX</td>\n",
       "      <td>2017</td>\n",
       "    </tr>\n",
       "    <tr>\n",
       "      <th>5096</th>\n",
       "      <td>Maruti Alto LXi BSIII</td>\n",
       "      <td>2015</td>\n",
       "    </tr>\n",
       "    <tr>\n",
       "      <th>5097</th>\n",
       "      <td>Maruti Ertiga SHVS VDI</td>\n",
       "      <td>2015</td>\n",
       "    </tr>\n",
       "    <tr>\n",
       "      <th>5098</th>\n",
       "      <td>Hyundai Xcent 1.2 VTVT SX Option</td>\n",
       "      <td>2020</td>\n",
       "    </tr>\n",
       "    <tr>\n",
       "      <th>5099</th>\n",
       "      <td>Maruti Swift 1.3 LXI</td>\n",
       "      <td>2014</td>\n",
       "    </tr>\n",
       "  </tbody>\n",
       "</table>\n",
       "<p>5100 rows × 2 columns</p>\n",
       "</div>"
      ],
      "text/plain": [
       "                                 CAR_MODEL  CAR_AGE\n",
       "0     Hyundai Venue SX Plus Turbo DCT BSIV     2019\n",
       "1                            Isuzu MUX 2WD     2017\n",
       "2                     Honda Amaze S iVtech     2015\n",
       "3                       Hyundai EON D Lite     2013\n",
       "4                         Maruti Swift VXI     2020\n",
       "...                                    ...      ...\n",
       "5095              Honda City i VTEC CVT VX     2017\n",
       "5096                 Maruti Alto LXi BSIII     2015\n",
       "5097                Maruti Ertiga SHVS VDI     2015\n",
       "5098      Hyundai Xcent 1.2 VTVT SX Option     2020\n",
       "5099                  Maruti Swift 1.3 LXI     2014\n",
       "\n",
       "[5100 rows x 2 columns]"
      ]
     },
     "execution_count": 54,
     "metadata": {},
     "output_type": "execute_result"
    }
   ],
   "source": [
    "df_car2=pd.read_excel('col_2_Car_Data.xlsx')\n",
    "df_car2"
   ]
  },
  {
   "cell_type": "code",
   "execution_count": 55,
   "id": "d9aa9261",
   "metadata": {},
   "outputs": [
    {
     "data": {
      "text/plain": [
       "CAR_MODEL    object\n",
       "CAR_AGE       int64\n",
       "dtype: object"
      ]
     },
     "execution_count": 55,
     "metadata": {},
     "output_type": "execute_result"
    }
   ],
   "source": [
    "df_car2.dtypes"
   ]
  },
  {
   "cell_type": "code",
   "execution_count": 56,
   "id": "1061d482",
   "metadata": {},
   "outputs": [
    {
     "data": {
      "text/html": [
       "<div>\n",
       "<style scoped>\n",
       "    .dataframe tbody tr th:only-of-type {\n",
       "        vertical-align: middle;\n",
       "    }\n",
       "\n",
       "    .dataframe tbody tr th {\n",
       "        vertical-align: top;\n",
       "    }\n",
       "\n",
       "    .dataframe thead th {\n",
       "        text-align: right;\n",
       "    }\n",
       "</style>\n",
       "<table border=\"1\" class=\"dataframe\">\n",
       "  <thead>\n",
       "    <tr style=\"text-align: right;\">\n",
       "      <th></th>\n",
       "      <th>CAR_KMS</th>\n",
       "      <th>TRANSMISSION</th>\n",
       "      <th>FUEL_TYPE</th>\n",
       "      <th>CAR_OWNERS</th>\n",
       "    </tr>\n",
       "  </thead>\n",
       "  <tbody>\n",
       "    <tr>\n",
       "      <th>0</th>\n",
       "      <td>32000</td>\n",
       "      <td>Automatic</td>\n",
       "      <td>Petrol</td>\n",
       "      <td>1</td>\n",
       "    </tr>\n",
       "    <tr>\n",
       "      <th>1</th>\n",
       "      <td>139000</td>\n",
       "      <td>Automatic</td>\n",
       "      <td>Diesel</td>\n",
       "      <td>1</td>\n",
       "    </tr>\n",
       "    <tr>\n",
       "      <th>2</th>\n",
       "      <td>59534</td>\n",
       "      <td>Manual</td>\n",
       "      <td>Petrol</td>\n",
       "      <td>2</td>\n",
       "    </tr>\n",
       "    <tr>\n",
       "      <th>3</th>\n",
       "      <td>13000</td>\n",
       "      <td>Manual</td>\n",
       "      <td>Petrol</td>\n",
       "      <td>1</td>\n",
       "    </tr>\n",
       "    <tr>\n",
       "      <th>4</th>\n",
       "      <td>50000</td>\n",
       "      <td>Manual</td>\n",
       "      <td>Petrol</td>\n",
       "      <td>1</td>\n",
       "    </tr>\n",
       "    <tr>\n",
       "      <th>...</th>\n",
       "      <td>...</td>\n",
       "      <td>...</td>\n",
       "      <td>...</td>\n",
       "      <td>...</td>\n",
       "    </tr>\n",
       "    <tr>\n",
       "      <th>5095</th>\n",
       "      <td>19979</td>\n",
       "      <td>Manual</td>\n",
       "      <td>Diesel</td>\n",
       "      <td>1</td>\n",
       "    </tr>\n",
       "    <tr>\n",
       "      <th>5096</th>\n",
       "      <td>111000</td>\n",
       "      <td>Manual</td>\n",
       "      <td>Petrol</td>\n",
       "      <td>1</td>\n",
       "    </tr>\n",
       "    <tr>\n",
       "      <th>5097</th>\n",
       "      <td>55000</td>\n",
       "      <td>Manual</td>\n",
       "      <td>Petrol</td>\n",
       "      <td>1</td>\n",
       "    </tr>\n",
       "    <tr>\n",
       "      <th>5098</th>\n",
       "      <td>41900</td>\n",
       "      <td>Automatic</td>\n",
       "      <td>Petrol</td>\n",
       "      <td>1</td>\n",
       "    </tr>\n",
       "    <tr>\n",
       "      <th>5099</th>\n",
       "      <td>46000</td>\n",
       "      <td>Manual</td>\n",
       "      <td>Diesel</td>\n",
       "      <td>1</td>\n",
       "    </tr>\n",
       "  </tbody>\n",
       "</table>\n",
       "<p>5100 rows × 4 columns</p>\n",
       "</div>"
      ],
      "text/plain": [
       "      CAR_KMS TRANSMISSION FUEL_TYPE  CAR_OWNERS\n",
       "0       32000    Automatic    Petrol           1\n",
       "1      139000    Automatic    Diesel           1\n",
       "2       59534       Manual    Petrol           2\n",
       "3       13000       Manual    Petrol           1\n",
       "4       50000       Manual    Petrol           1\n",
       "...       ...          ...       ...         ...\n",
       "5095    19979       Manual    Diesel           1\n",
       "5096   111000       Manual    Petrol           1\n",
       "5097    55000       Manual    Petrol           1\n",
       "5098    41900    Automatic    Petrol           1\n",
       "5099    46000       Manual    Diesel           1\n",
       "\n",
       "[5100 rows x 4 columns]"
      ]
     },
     "execution_count": 56,
     "metadata": {},
     "output_type": "execute_result"
    }
   ],
   "source": [
    "df_car3=pd.read_excel('col_4_car_data.xlsx')\n",
    "df_car3"
   ]
  },
  {
   "cell_type": "code",
   "execution_count": 57,
   "id": "6ada3558",
   "metadata": {},
   "outputs": [
    {
     "data": {
      "text/html": [
       "<div>\n",
       "<style scoped>\n",
       "    .dataframe tbody tr th:only-of-type {\n",
       "        vertical-align: middle;\n",
       "    }\n",
       "\n",
       "    .dataframe tbody tr th {\n",
       "        vertical-align: top;\n",
       "    }\n",
       "\n",
       "    .dataframe thead th {\n",
       "        text-align: right;\n",
       "    }\n",
       "</style>\n",
       "<table border=\"1\" class=\"dataframe\">\n",
       "  <thead>\n",
       "    <tr style=\"text-align: right;\">\n",
       "      <th></th>\n",
       "      <th>CAR_PRICE(RS.)</th>\n",
       "    </tr>\n",
       "  </thead>\n",
       "  <tbody>\n",
       "    <tr>\n",
       "      <th>0</th>\n",
       "      <td>1095000.0</td>\n",
       "    </tr>\n",
       "    <tr>\n",
       "      <th>1</th>\n",
       "      <td>1750000.0</td>\n",
       "    </tr>\n",
       "    <tr>\n",
       "      <th>2</th>\n",
       "      <td>440000.0</td>\n",
       "    </tr>\n",
       "    <tr>\n",
       "      <th>3</th>\n",
       "      <td>310000.0</td>\n",
       "    </tr>\n",
       "    <tr>\n",
       "      <th>4</th>\n",
       "      <td>700000.0</td>\n",
       "    </tr>\n",
       "    <tr>\n",
       "      <th>...</th>\n",
       "      <td>...</td>\n",
       "    </tr>\n",
       "    <tr>\n",
       "      <th>5095</th>\n",
       "      <td>430000.0</td>\n",
       "    </tr>\n",
       "    <tr>\n",
       "      <th>5096</th>\n",
       "      <td>450000.0</td>\n",
       "    </tr>\n",
       "    <tr>\n",
       "      <th>5097</th>\n",
       "      <td>335000.0</td>\n",
       "    </tr>\n",
       "    <tr>\n",
       "      <th>5098</th>\n",
       "      <td>975000.0</td>\n",
       "    </tr>\n",
       "    <tr>\n",
       "      <th>5099</th>\n",
       "      <td>235000.0</td>\n",
       "    </tr>\n",
       "  </tbody>\n",
       "</table>\n",
       "<p>5100 rows × 1 columns</p>\n",
       "</div>"
      ],
      "text/plain": [
       "      CAR_PRICE(RS.)\n",
       "0          1095000.0\n",
       "1          1750000.0\n",
       "2           440000.0\n",
       "3           310000.0\n",
       "4           700000.0\n",
       "...              ...\n",
       "5095        430000.0\n",
       "5096        450000.0\n",
       "5097        335000.0\n",
       "5098        975000.0\n",
       "5099        235000.0\n",
       "\n",
       "[5100 rows x 1 columns]"
      ]
     },
     "execution_count": 57,
     "metadata": {},
     "output_type": "execute_result"
    }
   ],
   "source": [
    "df_car4=pd.read_excel('final_car_price.xlsx')\n",
    "df_car4"
   ]
  },
  {
   "cell_type": "markdown",
   "id": "47525fdf",
   "metadata": {},
   "source": [
    "# Merge All Excel File To Complete Car Data"
   ]
  },
  {
   "cell_type": "code",
   "execution_count": 79,
   "id": "cf8aca73",
   "metadata": {},
   "outputs": [],
   "source": [
    "import glob\n",
    "import pandas as pd"
   ]
  },
  {
   "cell_type": "code",
   "execution_count": 76,
   "id": "9edcfd29",
   "metadata": {},
   "outputs": [],
   "source": [
    "# specifying the path to csv files\n",
    "path = \"D:\\\\Used Car Data Excel\"\n",
    "file_list = glob.glob(path + \"/*.xlsx\")\n",
    "excl_list = []\n",
    "for file in file_list:\n",
    "    excl_list.append(pd.read_excel(file))\n",
    "    \n",
    "    \n",
    "excl_merged=pd.concat(excl_list, axis=0)\n",
    "    \n",
    "\n",
    "    \n",
    "excl_merged.to_excel('car_final.xlsx', index=False)\n",
    "    "
   ]
  },
  {
   "cell_type": "code",
   "execution_count": 81,
   "id": "bad1b416",
   "metadata": {},
   "outputs": [],
   "source": [
    "import os\n",
    "import pandas as pd"
   ]
  },
  {
   "cell_type": "code",
   "execution_count": 93,
   "id": "01f0d05c",
   "metadata": {},
   "outputs": [
    {
     "name": "stdout",
     "output_type": "stream",
     "text": [
      "Loding File col_2_Car_Data.xlsx...\n",
      "Loding File Col_4_Car_data.xlsx...\n",
      "Loding File Col_5_Car_data.xlsx...\n",
      "Loding File final_car_price.xlsx...\n"
     ]
    }
   ],
   "source": [
    "data_file_folder='D:\\\\Used Car Data Excel'\n",
    "\n",
    "dfe=[]\n",
    "for file in os.listdir(data_file_folder):\n",
    "    if file.endswith('.xlsx'):\n",
    "        print('Loding File {0}...'.format(file))\n",
    "        dfe.append(pd.read_excel(os.path.join(data_file_folder, file), sheet_name='Sheet1'))\n",
    "        \n",
    "df_m=pd.concat(dfe, axis=1)\n",
    "\n",
    "df_m.to_excel('used_car_final.xlsx', index=False)\n",
    "\n"
   ]
  },
  {
   "cell_type": "code",
   "execution_count": 94,
   "id": "832036e9",
   "metadata": {},
   "outputs": [],
   "source": [
    "df_rd=pd.read_excel('used_car_final.xlsx')"
   ]
  },
  {
   "cell_type": "code",
   "execution_count": 95,
   "id": "726b59e8",
   "metadata": {},
   "outputs": [
    {
     "data": {
      "text/html": [
       "<div>\n",
       "<style scoped>\n",
       "    .dataframe tbody tr th:only-of-type {\n",
       "        vertical-align: middle;\n",
       "    }\n",
       "\n",
       "    .dataframe tbody tr th {\n",
       "        vertical-align: top;\n",
       "    }\n",
       "\n",
       "    .dataframe thead th {\n",
       "        text-align: right;\n",
       "    }\n",
       "</style>\n",
       "<table border=\"1\" class=\"dataframe\">\n",
       "  <thead>\n",
       "    <tr style=\"text-align: right;\">\n",
       "      <th></th>\n",
       "      <th>CAR_MODEL</th>\n",
       "      <th>CAR_AGE</th>\n",
       "      <th>CAR_KMS</th>\n",
       "      <th>TRANSMISSION</th>\n",
       "      <th>FUEL_TYPE</th>\n",
       "      <th>CAR_OWNERS</th>\n",
       "      <th>SEATING_CAPACITY</th>\n",
       "      <th>ENGINE_DISPLACEMENT(CC)</th>\n",
       "      <th>MILEAGE(kmpl)</th>\n",
       "      <th>CAR_PRICE(RS.)</th>\n",
       "    </tr>\n",
       "  </thead>\n",
       "  <tbody>\n",
       "    <tr>\n",
       "      <th>0</th>\n",
       "      <td>Hyundai Venue SX Plus Turbo DCT BSIV</td>\n",
       "      <td>2019</td>\n",
       "      <td>32000</td>\n",
       "      <td>Automatic</td>\n",
       "      <td>Petrol</td>\n",
       "      <td>1</td>\n",
       "      <td>5.0</td>\n",
       "      <td>998</td>\n",
       "      <td>18.15</td>\n",
       "      <td>1095000.0</td>\n",
       "    </tr>\n",
       "    <tr>\n",
       "      <th>1</th>\n",
       "      <td>Isuzu MUX 2WD</td>\n",
       "      <td>2017</td>\n",
       "      <td>139000</td>\n",
       "      <td>Automatic</td>\n",
       "      <td>Diesel</td>\n",
       "      <td>1</td>\n",
       "      <td>7.0</td>\n",
       "      <td>2999</td>\n",
       "      <td>13.80</td>\n",
       "      <td>1750000.0</td>\n",
       "    </tr>\n",
       "    <tr>\n",
       "      <th>2</th>\n",
       "      <td>Honda Amaze S iVtech</td>\n",
       "      <td>2015</td>\n",
       "      <td>59534</td>\n",
       "      <td>Manual</td>\n",
       "      <td>Petrol</td>\n",
       "      <td>2</td>\n",
       "      <td>5.0</td>\n",
       "      <td>1198</td>\n",
       "      <td>18.00</td>\n",
       "      <td>440000.0</td>\n",
       "    </tr>\n",
       "    <tr>\n",
       "      <th>3</th>\n",
       "      <td>Hyundai EON D Lite</td>\n",
       "      <td>2013</td>\n",
       "      <td>13000</td>\n",
       "      <td>Manual</td>\n",
       "      <td>Petrol</td>\n",
       "      <td>1</td>\n",
       "      <td>5.0</td>\n",
       "      <td>814</td>\n",
       "      <td>21.10</td>\n",
       "      <td>310000.0</td>\n",
       "    </tr>\n",
       "    <tr>\n",
       "      <th>4</th>\n",
       "      <td>Maruti Swift VXI</td>\n",
       "      <td>2020</td>\n",
       "      <td>50000</td>\n",
       "      <td>Manual</td>\n",
       "      <td>Petrol</td>\n",
       "      <td>1</td>\n",
       "      <td>5.0</td>\n",
       "      <td>1197</td>\n",
       "      <td>21.21</td>\n",
       "      <td>700000.0</td>\n",
       "    </tr>\n",
       "    <tr>\n",
       "      <th>...</th>\n",
       "      <td>...</td>\n",
       "      <td>...</td>\n",
       "      <td>...</td>\n",
       "      <td>...</td>\n",
       "      <td>...</td>\n",
       "      <td>...</td>\n",
       "      <td>...</td>\n",
       "      <td>...</td>\n",
       "      <td>...</td>\n",
       "      <td>...</td>\n",
       "    </tr>\n",
       "    <tr>\n",
       "      <th>5095</th>\n",
       "      <td>Honda City i VTEC CVT VX</td>\n",
       "      <td>2017</td>\n",
       "      <td>19979</td>\n",
       "      <td>Manual</td>\n",
       "      <td>Diesel</td>\n",
       "      <td>1</td>\n",
       "      <td>5.0</td>\n",
       "      <td>1197</td>\n",
       "      <td>18.90</td>\n",
       "      <td>430000.0</td>\n",
       "    </tr>\n",
       "    <tr>\n",
       "      <th>5096</th>\n",
       "      <td>Maruti Alto LXi BSIII</td>\n",
       "      <td>2015</td>\n",
       "      <td>111000</td>\n",
       "      <td>Manual</td>\n",
       "      <td>Petrol</td>\n",
       "      <td>1</td>\n",
       "      <td>5.0</td>\n",
       "      <td>1061</td>\n",
       "      <td>14.08</td>\n",
       "      <td>450000.0</td>\n",
       "    </tr>\n",
       "    <tr>\n",
       "      <th>5097</th>\n",
       "      <td>Maruti Ertiga SHVS VDI</td>\n",
       "      <td>2015</td>\n",
       "      <td>55000</td>\n",
       "      <td>Manual</td>\n",
       "      <td>Petrol</td>\n",
       "      <td>1</td>\n",
       "      <td>5.0</td>\n",
       "      <td>1197</td>\n",
       "      <td>12.00</td>\n",
       "      <td>335000.0</td>\n",
       "    </tr>\n",
       "    <tr>\n",
       "      <th>5098</th>\n",
       "      <td>Hyundai Xcent 1.2 VTVT SX Option</td>\n",
       "      <td>2020</td>\n",
       "      <td>41900</td>\n",
       "      <td>Automatic</td>\n",
       "      <td>Petrol</td>\n",
       "      <td>1</td>\n",
       "      <td>5.0</td>\n",
       "      <td>1086</td>\n",
       "      <td>15.56</td>\n",
       "      <td>975000.0</td>\n",
       "    </tr>\n",
       "    <tr>\n",
       "      <th>5099</th>\n",
       "      <td>Maruti Swift 1.3 LXI</td>\n",
       "      <td>2014</td>\n",
       "      <td>46000</td>\n",
       "      <td>Manual</td>\n",
       "      <td>Diesel</td>\n",
       "      <td>1</td>\n",
       "      <td>5.0</td>\n",
       "      <td>1798</td>\n",
       "      <td>21.21</td>\n",
       "      <td>235000.0</td>\n",
       "    </tr>\n",
       "  </tbody>\n",
       "</table>\n",
       "<p>5100 rows × 10 columns</p>\n",
       "</div>"
      ],
      "text/plain": [
       "                                 CAR_MODEL  CAR_AGE  CAR_KMS TRANSMISSION  \\\n",
       "0     Hyundai Venue SX Plus Turbo DCT BSIV     2019    32000    Automatic   \n",
       "1                            Isuzu MUX 2WD     2017   139000    Automatic   \n",
       "2                     Honda Amaze S iVtech     2015    59534       Manual   \n",
       "3                       Hyundai EON D Lite     2013    13000       Manual   \n",
       "4                         Maruti Swift VXI     2020    50000       Manual   \n",
       "...                                    ...      ...      ...          ...   \n",
       "5095              Honda City i VTEC CVT VX     2017    19979       Manual   \n",
       "5096                 Maruti Alto LXi BSIII     2015   111000       Manual   \n",
       "5097                Maruti Ertiga SHVS VDI     2015    55000       Manual   \n",
       "5098      Hyundai Xcent 1.2 VTVT SX Option     2020    41900    Automatic   \n",
       "5099                  Maruti Swift 1.3 LXI     2014    46000       Manual   \n",
       "\n",
       "     FUEL_TYPE  CAR_OWNERS  SEATING_CAPACITY  ENGINE_DISPLACEMENT(CC)  \\\n",
       "0       Petrol           1               5.0                      998   \n",
       "1       Diesel           1               7.0                     2999   \n",
       "2       Petrol           2               5.0                     1198   \n",
       "3       Petrol           1               5.0                      814   \n",
       "4       Petrol           1               5.0                     1197   \n",
       "...        ...         ...               ...                      ...   \n",
       "5095    Diesel           1               5.0                     1197   \n",
       "5096    Petrol           1               5.0                     1061   \n",
       "5097    Petrol           1               5.0                     1197   \n",
       "5098    Petrol           1               5.0                     1086   \n",
       "5099    Diesel           1               5.0                     1798   \n",
       "\n",
       "      MILEAGE(kmpl)  CAR_PRICE(RS.)  \n",
       "0             18.15       1095000.0  \n",
       "1             13.80       1750000.0  \n",
       "2             18.00        440000.0  \n",
       "3             21.10        310000.0  \n",
       "4             21.21        700000.0  \n",
       "...             ...             ...  \n",
       "5095          18.90        430000.0  \n",
       "5096          14.08        450000.0  \n",
       "5097          12.00        335000.0  \n",
       "5098          15.56        975000.0  \n",
       "5099          21.21        235000.0  \n",
       "\n",
       "[5100 rows x 10 columns]"
      ]
     },
     "execution_count": 95,
     "metadata": {},
     "output_type": "execute_result"
    }
   ],
   "source": [
    "df_rd"
   ]
  },
  {
   "cell_type": "code",
   "execution_count": 96,
   "id": "a8e5e96a",
   "metadata": {},
   "outputs": [
    {
     "data": {
      "text/plain": [
       "CAR_MODEL                   object\n",
       "CAR_AGE                      int64\n",
       "CAR_KMS                      int64\n",
       "TRANSMISSION                object\n",
       "FUEL_TYPE                   object\n",
       "CAR_OWNERS                   int64\n",
       "SEATING_CAPACITY           float64\n",
       "ENGINE_DISPLACEMENT(CC)      int64\n",
       "MILEAGE(kmpl)              float64\n",
       "CAR_PRICE(RS.)             float64\n",
       "dtype: object"
      ]
     },
     "execution_count": 96,
     "metadata": {},
     "output_type": "execute_result"
    }
   ],
   "source": [
    "df_rd.dtypes"
   ]
  },
  {
   "cell_type": "markdown",
   "id": "1e3a4c5c",
   "metadata": {},
   "source": [
    "# More Data Scraping"
   ]
  },
  {
   "cell_type": "code",
   "execution_count": 7,
   "id": "2c82b5f2",
   "metadata": {},
   "outputs": [],
   "source": [
    "driver=webdriver.Chrome(\"chromedriver.exe\")\n",
    "driver.maximize_window()"
   ]
  },
  {
   "cell_type": "code",
   "execution_count": 15,
   "id": "b187b376",
   "metadata": {},
   "outputs": [],
   "source": [
    "Max_power=[]"
   ]
  },
  {
   "cell_type": "code",
   "execution_count": 16,
   "id": "a768196e",
   "metadata": {},
   "outputs": [
    {
     "name": "stderr",
     "output_type": "stream",
     "text": [
      "100%|████████████████████████████████████████████████████████████████████████████| 3000/3000 [1:16:55<00:00,  1.54s/it]\n"
     ]
    }
   ],
   "source": [
    "from tqdm import tqdm\n",
    "for j in tqdm(df['Urls'][0:3000]):\n",
    "    driver.get(j)\n",
    "    time.sleep(0.5)\n",
    "    \n",
    "      \n",
    "    try :\n",
    "        power = driver.find_element(By.XPATH, '//*[text()=\"Max Power\"]/following-sibling::span')\n",
    "        Max_power.append(power.text.replace('bhp', ''))\n",
    "        \n",
    "    except NoSuchElementException:\n",
    "        pass"
   ]
  },
  {
   "cell_type": "code",
   "execution_count": 24,
   "id": "3dc71d9c",
   "metadata": {},
   "outputs": [
    {
     "data": {
      "text/plain": [
       "5072"
      ]
     },
     "execution_count": 24,
     "metadata": {},
     "output_type": "execute_result"
    }
   ],
   "source": [
    "len(Max_power)"
   ]
  },
  {
   "cell_type": "code",
   "execution_count": 6,
   "id": "f32ac3ea",
   "metadata": {},
   "outputs": [],
   "source": [
    "#Max_power"
   ]
  },
  {
   "cell_type": "code",
   "execution_count": 28,
   "id": "b7a8cf5a",
   "metadata": {},
   "outputs": [],
   "source": [
    "Max_power_1=[]"
   ]
  },
  {
   "cell_type": "code",
   "execution_count": 29,
   "id": "b270fab7",
   "metadata": {},
   "outputs": [
    {
     "name": "stderr",
     "output_type": "stream",
     "text": [
      "100%|██████████████████████████████████████████████████████████████████████████████| 1498/1498 [31:24<00:00,  1.26s/it]\n"
     ]
    }
   ],
   "source": [
    "from tqdm import tqdm\n",
    "for j in tqdm(df['Urls'][6002:7500]):\n",
    "    driver.get(j)\n",
    "    time.sleep(0.5)\n",
    "    \n",
    "      \n",
    "    try :\n",
    "        power_1 = driver.find_element(By.XPATH, '//*[text()=\"Max Power\"]/following-sibling::span')\n",
    "        Max_power_1.append(power_1.text.replace('bhp', ''))\n",
    "        \n",
    "    except NoSuchElementException:\n",
    "        pass"
   ]
  },
  {
   "cell_type": "code",
   "execution_count": 37,
   "id": "f9866947",
   "metadata": {},
   "outputs": [],
   "source": [
    "Car_Mx_pwr=[]"
   ]
  },
  {
   "cell_type": "code",
   "execution_count": 38,
   "id": "de804c7f",
   "metadata": {},
   "outputs": [],
   "source": [
    "Car_Mx_pwr= Max_power + Max_power_1"
   ]
  },
  {
   "cell_type": "code",
   "execution_count": 39,
   "id": "e2a8cf61",
   "metadata": {},
   "outputs": [
    {
     "data": {
      "text/plain": [
       "6384"
      ]
     },
     "execution_count": 39,
     "metadata": {},
     "output_type": "execute_result"
    }
   ],
   "source": [
    "len(Car_Mx_pwr)"
   ]
  },
  {
   "cell_type": "code",
   "execution_count": 5,
   "id": "07fb000f",
   "metadata": {},
   "outputs": [],
   "source": [
    "#Car_Mx_pwr"
   ]
  },
  {
   "cell_type": "code",
   "execution_count": 1,
   "id": "71b86c75",
   "metadata": {},
   "outputs": [],
   "source": [
    "#d=pd.DataFrame({'CAR_MAX_PWR':Car_Mx_pwr[0:5100]})"
   ]
  },
  {
   "cell_type": "code",
   "execution_count": 42,
   "id": "d0a944f7",
   "metadata": {},
   "outputs": [],
   "source": [
    "pd=pd[0:5100]"
   ]
  },
  {
   "cell_type": "code",
   "execution_count": 43,
   "id": "33693ee4",
   "metadata": {},
   "outputs": [
    {
     "data": {
      "text/html": [
       "<div>\n",
       "<style scoped>\n",
       "    .dataframe tbody tr th:only-of-type {\n",
       "        vertical-align: middle;\n",
       "    }\n",
       "\n",
       "    .dataframe tbody tr th {\n",
       "        vertical-align: top;\n",
       "    }\n",
       "\n",
       "    .dataframe thead th {\n",
       "        text-align: right;\n",
       "    }\n",
       "</style>\n",
       "<table border=\"1\" class=\"dataframe\">\n",
       "  <thead>\n",
       "    <tr style=\"text-align: right;\">\n",
       "      <th></th>\n",
       "      <th>CAR_MAX_PWR</th>\n",
       "    </tr>\n",
       "  </thead>\n",
       "  <tbody>\n",
       "    <tr>\n",
       "      <th>0</th>\n",
       "      <td>118.35</td>\n",
       "    </tr>\n",
       "    <tr>\n",
       "      <th>1</th>\n",
       "      <td>174.57</td>\n",
       "    </tr>\n",
       "    <tr>\n",
       "      <th>2</th>\n",
       "      <td>86.7</td>\n",
       "    </tr>\n",
       "    <tr>\n",
       "      <th>3</th>\n",
       "      <td>55.2</td>\n",
       "    </tr>\n",
       "    <tr>\n",
       "      <th>4</th>\n",
       "      <td>81.80</td>\n",
       "    </tr>\n",
       "    <tr>\n",
       "      <th>...</th>\n",
       "      <td>...</td>\n",
       "    </tr>\n",
       "    <tr>\n",
       "      <th>5095</th>\n",
       "      <td>121.36</td>\n",
       "    </tr>\n",
       "    <tr>\n",
       "      <th>5096</th>\n",
       "      <td>147.5</td>\n",
       "    </tr>\n",
       "    <tr>\n",
       "      <th>5097</th>\n",
       "      <td>194.4</td>\n",
       "    </tr>\n",
       "    <tr>\n",
       "      <th>5098</th>\n",
       "      <td>83.8</td>\n",
       "    </tr>\n",
       "    <tr>\n",
       "      <th>5099</th>\n",
       "      <td>132 PS</td>\n",
       "    </tr>\n",
       "  </tbody>\n",
       "</table>\n",
       "<p>5100 rows × 1 columns</p>\n",
       "</div>"
      ],
      "text/plain": [
       "     CAR_MAX_PWR\n",
       "0         118.35\n",
       "1         174.57\n",
       "2           86.7\n",
       "3           55.2\n",
       "4          81.80\n",
       "...          ...\n",
       "5095      121.36\n",
       "5096       147.5\n",
       "5097       194.4\n",
       "5098        83.8\n",
       "5099      132 PS\n",
       "\n",
       "[5100 rows x 1 columns]"
      ]
     },
     "execution_count": 43,
     "metadata": {},
     "output_type": "execute_result"
    }
   ],
   "source": [
    "pd"
   ]
  },
  {
   "cell_type": "code",
   "execution_count": 44,
   "id": "6311bbe9",
   "metadata": {},
   "outputs": [],
   "source": [
    "pd.to_excel('car_mx_pwr.xlsx', index=False)"
   ]
  },
  {
   "cell_type": "code",
   "execution_count": 64,
   "id": "d60eaee5",
   "metadata": {},
   "outputs": [],
   "source": [
    "driver=webdriver.Chrome(\"chromedriver.exe\")\n",
    "driver.maximize_window()"
   ]
  },
  {
   "cell_type": "code",
   "execution_count": 61,
   "id": "3bb972d7",
   "metadata": {},
   "outputs": [],
   "source": [
    "Torque=[]"
   ]
  },
  {
   "cell_type": "code",
   "execution_count": 65,
   "id": "d074ab65",
   "metadata": {},
   "outputs": [
    {
     "name": "stderr",
     "output_type": "stream",
     "text": [
      "100%|██████████████████████████████████████████████████████████████████████████████| 1232/1232 [25:59<00:00,  1.27s/it]\n"
     ]
    }
   ],
   "source": [
    "from tqdm import tqdm\n",
    "for j in tqdm(d_f['Urls'][1768:3000]):\n",
    "    driver.get(j)\n",
    "    time.sleep(0.5)\n",
    "    \n",
    "      \n",
    "    try :\n",
    "        trq = driver.find_element(By.XPATH, '//*[text()=\"Torque\"]/following-sibling::span')\n",
    "        Torque.append(trq.text.replace('Nm', ''))\n",
    "        \n",
    "    except NoSuchElementException:\n",
    "        pass"
   ]
  },
  {
   "cell_type": "code",
   "execution_count": 66,
   "id": "5859739a",
   "metadata": {},
   "outputs": [
    {
     "data": {
      "text/plain": [
       "2439"
      ]
     },
     "execution_count": 66,
     "metadata": {},
     "output_type": "execute_result"
    }
   ],
   "source": [
    "len(Torque)"
   ]
  },
  {
   "cell_type": "code",
   "execution_count": 22,
   "id": "bdb17e65",
   "metadata": {},
   "outputs": [],
   "source": [
    "#Torque"
   ]
  },
  {
   "cell_type": "code",
   "execution_count": 67,
   "id": "e8854959",
   "metadata": {},
   "outputs": [],
   "source": [
    "Torque_1=[]"
   ]
  },
  {
   "cell_type": "code",
   "execution_count": 68,
   "id": "415b31ef",
   "metadata": {},
   "outputs": [
    {
     "name": "stderr",
     "output_type": "stream",
     "text": [
      "100%|████████████████████████████████████████████████████████████████████████████| 3000/3000 [1:00:15<00:00,  1.21s/it]\n"
     ]
    }
   ],
   "source": [
    "from tqdm import tqdm\n",
    "for j in tqdm(d_f['Urls'][3001:6001]):\n",
    "    driver.get(j)\n",
    "    time.sleep(0.5)\n",
    "    \n",
    "      \n",
    "    try :\n",
    "        trq_1 = driver.find_element(By.XPATH, '//*[text()=\"Torque\"]/following-sibling::span')\n",
    "        Torque_1.append(trq_1.text.replace('Nm', ''))\n",
    "        \n",
    "    except NoSuchElementException:\n",
    "        pass"
   ]
  },
  {
   "cell_type": "code",
   "execution_count": 69,
   "id": "e79ac7d4",
   "metadata": {},
   "outputs": [
    {
     "data": {
      "text/plain": [
       "2257"
      ]
     },
     "execution_count": 69,
     "metadata": {},
     "output_type": "execute_result"
    }
   ],
   "source": [
    "len(Torque_1)"
   ]
  },
  {
   "cell_type": "code",
   "execution_count": 27,
   "id": "66ee3b5a",
   "metadata": {},
   "outputs": [],
   "source": [
    "#Torque_2"
   ]
  },
  {
   "cell_type": "code",
   "execution_count": 70,
   "id": "6ac9dd6b",
   "metadata": {},
   "outputs": [],
   "source": [
    "Torque_2=[]"
   ]
  },
  {
   "cell_type": "code",
   "execution_count": 71,
   "id": "c64355ea",
   "metadata": {},
   "outputs": [
    {
     "name": "stderr",
     "output_type": "stream",
     "text": [
      "100%|██████████████████████████████████████████████████████████████████████████████| 1798/1798 [34:20<00:00,  1.15s/it]\n"
     ]
    }
   ],
   "source": [
    "from tqdm import tqdm\n",
    "for j in tqdm(d_f['Urls'][6002:7800]):\n",
    "    driver.get(j)\n",
    "    time.sleep(0.5)\n",
    "    \n",
    "      \n",
    "    try :\n",
    "        trq_2 = driver.find_element(By.XPATH, '//*[text()=\"Torque\"]/following-sibling::span')\n",
    "        Torque_2.append(trq_2.text.replace('Nm', ''))\n",
    "        \n",
    "    except NoSuchElementException:\n",
    "        pass"
   ]
  },
  {
   "cell_type": "code",
   "execution_count": 72,
   "id": "0f0045dd",
   "metadata": {},
   "outputs": [
    {
     "data": {
      "text/plain": [
       "1465"
      ]
     },
     "execution_count": 72,
     "metadata": {},
     "output_type": "execute_result"
    }
   ],
   "source": [
    "len(Torque_2)"
   ]
  },
  {
   "cell_type": "code",
   "execution_count": 73,
   "id": "2d0c0164",
   "metadata": {},
   "outputs": [],
   "source": [
    "Car_Torque=[]"
   ]
  },
  {
   "cell_type": "code",
   "execution_count": 74,
   "id": "ebeb7e45",
   "metadata": {},
   "outputs": [],
   "source": [
    "Car_Torque= Torque+Torque_1+Torque_2"
   ]
  },
  {
   "cell_type": "code",
   "execution_count": 75,
   "id": "b8bc3dcb",
   "metadata": {},
   "outputs": [
    {
     "data": {
      "text/plain": [
       "6161"
      ]
     },
     "execution_count": 75,
     "metadata": {},
     "output_type": "execute_result"
    }
   ],
   "source": [
    "len(Car_Torque)"
   ]
  },
  {
   "cell_type": "code",
   "execution_count": 76,
   "id": "0b5ad35f",
   "metadata": {},
   "outputs": [],
   "source": [
    "Wheel_size=[]"
   ]
  },
  {
   "cell_type": "code",
   "execution_count": 77,
   "id": "13e025c7",
   "metadata": {},
   "outputs": [
    {
     "name": "stderr",
     "output_type": "stream",
     "text": [
      "100%|██████████████████████████████████████████████████████████████████████████████| 3000/3000 [58:08<00:00,  1.16s/it]\n"
     ]
    }
   ],
   "source": [
    "from tqdm import tqdm\n",
    "for j in tqdm(d_f['Urls'][0:3000]):\n",
    "    driver.get(j)\n",
    "    time.sleep(0.5)\n",
    "    \n",
    "      \n",
    "    try :\n",
    "        wheel = driver.find_element(By.XPATH, '//*[text()=\"Wheel Size\"]/following-sibling::span')\n",
    "        Wheel_size.append(wheel.text.replace('R', ''))\n",
    "        \n",
    "    except NoSuchElementException:\n",
    "        Wheel_size.append('-')"
   ]
  },
  {
   "cell_type": "code",
   "execution_count": 78,
   "id": "b8dcf6fb",
   "metadata": {},
   "outputs": [
    {
     "data": {
      "text/plain": [
       "3000"
      ]
     },
     "execution_count": 78,
     "metadata": {},
     "output_type": "execute_result"
    }
   ],
   "source": [
    "len(Wheel_size)"
   ]
  },
  {
   "cell_type": "code",
   "execution_count": 79,
   "id": "0c0141ca",
   "metadata": {},
   "outputs": [],
   "source": [
    "Wheel_size_1=[]"
   ]
  },
  {
   "cell_type": "code",
   "execution_count": 80,
   "id": "47a7eb5f",
   "metadata": {},
   "outputs": [
    {
     "name": "stderr",
     "output_type": "stream",
     "text": [
      "100%|████████████████████████████████████████████████████████████████████████████| 3000/3000 [1:06:21<00:00,  1.33s/it]\n"
     ]
    }
   ],
   "source": [
    "from tqdm import tqdm\n",
    "for j in tqdm(d_f['Urls'][3001:6001]):\n",
    "    driver.get(j)\n",
    "    time.sleep(0.5)\n",
    "    \n",
    "      \n",
    "    try :\n",
    "        wheel_1 = driver.find_element(By.XPATH, '//*[text()=\"Wheel Size\"]/following-sibling::span')\n",
    "        Wheel_size_1.append(wheel_1.text.replace('R', ''))\n",
    "        \n",
    "    except NoSuchElementException:\n",
    "        Wheel_size_1.append('-')"
   ]
  },
  {
   "cell_type": "code",
   "execution_count": 81,
   "id": "f42ef0e5",
   "metadata": {},
   "outputs": [
    {
     "data": {
      "text/plain": [
       "3000"
      ]
     },
     "execution_count": 81,
     "metadata": {},
     "output_type": "execute_result"
    }
   ],
   "source": [
    "len(Wheel_size_1)"
   ]
  },
  {
   "cell_type": "code",
   "execution_count": 82,
   "id": "042ced18",
   "metadata": {},
   "outputs": [],
   "source": [
    "Wheel_size_2=[]"
   ]
  },
  {
   "cell_type": "code",
   "execution_count": 84,
   "id": "8808bd4b",
   "metadata": {},
   "outputs": [
    {
     "name": "stderr",
     "output_type": "stream",
     "text": [
      "100%|████████████████████████████████████████████████████████████████████████████████| 500/500 [09:33<00:00,  1.15s/it]\n"
     ]
    }
   ],
   "source": [
    "from tqdm import tqdm\n",
    "for j in tqdm(d_f['Urls'][6002:6502]):\n",
    "    driver.get(j)\n",
    "    time.sleep(0.5)\n",
    "    \n",
    "      \n",
    "    try :\n",
    "        wheel_2 = driver.find_element(By.XPATH, '//*[text()=\"Wheel Size\"]/following-sibling::span')\n",
    "        Wheel_size_2.append(wheel_2.text.replace('R', ''))\n",
    "        \n",
    "    except NoSuchElementException:\n",
    "        Wheel_size_2.append('-')"
   ]
  },
  {
   "cell_type": "code",
   "execution_count": 85,
   "id": "f8e58f16",
   "metadata": {},
   "outputs": [
    {
     "data": {
      "text/plain": [
       "500"
      ]
     },
     "execution_count": 85,
     "metadata": {},
     "output_type": "execute_result"
    }
   ],
   "source": [
    "len(Wheel_size_2)"
   ]
  },
  {
   "cell_type": "code",
   "execution_count": 86,
   "id": "f99dde71",
   "metadata": {},
   "outputs": [],
   "source": [
    "Carwheel_size=[]"
   ]
  },
  {
   "cell_type": "code",
   "execution_count": 87,
   "id": "806cd7a1",
   "metadata": {},
   "outputs": [],
   "source": [
    "Carwheel_size = Wheel_size+Wheel_size_1+Wheel_size_2"
   ]
  },
  {
   "cell_type": "code",
   "execution_count": 88,
   "id": "75a8c540",
   "metadata": {},
   "outputs": [
    {
     "data": {
      "text/plain": [
       "6500"
      ]
     },
     "execution_count": 88,
     "metadata": {},
     "output_type": "execute_result"
    }
   ],
   "source": [
    "len(Carwheel_size)"
   ]
  },
  {
   "cell_type": "code",
   "execution_count": 94,
   "id": "49d35885",
   "metadata": {},
   "outputs": [],
   "source": [
    "car_data_5=pd.DataFrame({'TORQUE(NM)':Car_Torque[0:5100], 'WHEEL_SIZE':Carwheel_size[0:5100]})\n"
   ]
  },
  {
   "cell_type": "code",
   "execution_count": 95,
   "id": "5acdc198",
   "metadata": {},
   "outputs": [
    {
     "data": {
      "text/html": [
       "<div>\n",
       "<style scoped>\n",
       "    .dataframe tbody tr th:only-of-type {\n",
       "        vertical-align: middle;\n",
       "    }\n",
       "\n",
       "    .dataframe tbody tr th {\n",
       "        vertical-align: top;\n",
       "    }\n",
       "\n",
       "    .dataframe thead th {\n",
       "        text-align: right;\n",
       "    }\n",
       "</style>\n",
       "<table border=\"1\" class=\"dataframe\">\n",
       "  <thead>\n",
       "    <tr style=\"text-align: right;\">\n",
       "      <th></th>\n",
       "      <th>TORQUE(NM)</th>\n",
       "      <th>WHEEL_SIZE</th>\n",
       "    </tr>\n",
       "  </thead>\n",
       "  <tbody>\n",
       "    <tr>\n",
       "      <th>0</th>\n",
       "      <td>171.6</td>\n",
       "      <td>16</td>\n",
       "    </tr>\n",
       "    <tr>\n",
       "      <th>1</th>\n",
       "      <td>380NM</td>\n",
       "      <td>18</td>\n",
       "    </tr>\n",
       "    <tr>\n",
       "      <th>2</th>\n",
       "      <td>109</td>\n",
       "      <td>-</td>\n",
       "    </tr>\n",
       "    <tr>\n",
       "      <th>3</th>\n",
       "      <td>74.5</td>\n",
       "      <td>-</td>\n",
       "    </tr>\n",
       "    <tr>\n",
       "      <th>4</th>\n",
       "      <td>113</td>\n",
       "      <td>-</td>\n",
       "    </tr>\n",
       "    <tr>\n",
       "      <th>...</th>\n",
       "      <td>...</td>\n",
       "      <td>...</td>\n",
       "    </tr>\n",
       "    <tr>\n",
       "      <th>5095</th>\n",
       "      <td>90</td>\n",
       "      <td>-</td>\n",
       "    </tr>\n",
       "    <tr>\n",
       "      <th>5096</th>\n",
       "      <td>138nm</td>\n",
       "      <td>-</td>\n",
       "    </tr>\n",
       "    <tr>\n",
       "      <th>5097</th>\n",
       "      <td>172</td>\n",
       "      <td>-</td>\n",
       "    </tr>\n",
       "    <tr>\n",
       "      <th>5098</th>\n",
       "      <td>242nm</td>\n",
       "      <td>16</td>\n",
       "    </tr>\n",
       "    <tr>\n",
       "      <th>5099</th>\n",
       "      <td>90</td>\n",
       "      <td>17</td>\n",
       "    </tr>\n",
       "  </tbody>\n",
       "</table>\n",
       "<p>5100 rows × 2 columns</p>\n",
       "</div>"
      ],
      "text/plain": [
       "     TORQUE(NM) WHEEL_SIZE\n",
       "0         171.6         16\n",
       "1         380NM         18\n",
       "2           109          -\n",
       "3          74.5          -\n",
       "4           113          -\n",
       "...         ...        ...\n",
       "5095         90          -\n",
       "5096      138nm          -\n",
       "5097        172          -\n",
       "5098      242nm         16\n",
       "5099         90         17\n",
       "\n",
       "[5100 rows x 2 columns]"
      ]
     },
     "execution_count": 95,
     "metadata": {},
     "output_type": "execute_result"
    }
   ],
   "source": [
    "car_data_5"
   ]
  },
  {
   "cell_type": "code",
   "execution_count": 96,
   "id": "120ea9e0",
   "metadata": {},
   "outputs": [],
   "source": [
    "car_data_5.to_excel('new_col_1.xlsx', index=False)"
   ]
  },
  {
   "cell_type": "code",
   "execution_count": 3,
   "id": "839e7cd7",
   "metadata": {},
   "outputs": [
    {
     "data": {
      "text/html": [
       "<div>\n",
       "<style scoped>\n",
       "    .dataframe tbody tr th:only-of-type {\n",
       "        vertical-align: middle;\n",
       "    }\n",
       "\n",
       "    .dataframe tbody tr th {\n",
       "        vertical-align: top;\n",
       "    }\n",
       "\n",
       "    .dataframe thead th {\n",
       "        text-align: right;\n",
       "    }\n",
       "</style>\n",
       "<table border=\"1\" class=\"dataframe\">\n",
       "  <thead>\n",
       "    <tr style=\"text-align: right;\">\n",
       "      <th></th>\n",
       "      <th>CAR_MAX_PWR</th>\n",
       "    </tr>\n",
       "  </thead>\n",
       "  <tbody>\n",
       "    <tr>\n",
       "      <th>0</th>\n",
       "      <td>118.35</td>\n",
       "    </tr>\n",
       "    <tr>\n",
       "      <th>1</th>\n",
       "      <td>174.57</td>\n",
       "    </tr>\n",
       "    <tr>\n",
       "      <th>2</th>\n",
       "      <td>86.7</td>\n",
       "    </tr>\n",
       "    <tr>\n",
       "      <th>3</th>\n",
       "      <td>55.2</td>\n",
       "    </tr>\n",
       "    <tr>\n",
       "      <th>4</th>\n",
       "      <td>81.80</td>\n",
       "    </tr>\n",
       "    <tr>\n",
       "      <th>...</th>\n",
       "      <td>...</td>\n",
       "    </tr>\n",
       "    <tr>\n",
       "      <th>5095</th>\n",
       "      <td>121.36</td>\n",
       "    </tr>\n",
       "    <tr>\n",
       "      <th>5096</th>\n",
       "      <td>147.5</td>\n",
       "    </tr>\n",
       "    <tr>\n",
       "      <th>5097</th>\n",
       "      <td>194.4</td>\n",
       "    </tr>\n",
       "    <tr>\n",
       "      <th>5098</th>\n",
       "      <td>83.8</td>\n",
       "    </tr>\n",
       "    <tr>\n",
       "      <th>5099</th>\n",
       "      <td>132 PS</td>\n",
       "    </tr>\n",
       "  </tbody>\n",
       "</table>\n",
       "<p>5100 rows × 1 columns</p>\n",
       "</div>"
      ],
      "text/plain": [
       "     CAR_MAX_PWR\n",
       "0         118.35\n",
       "1         174.57\n",
       "2           86.7\n",
       "3           55.2\n",
       "4          81.80\n",
       "...          ...\n",
       "5095      121.36\n",
       "5096       147.5\n",
       "5097       194.4\n",
       "5098        83.8\n",
       "5099      132 PS\n",
       "\n",
       "[5100 rows x 1 columns]"
      ]
     },
     "execution_count": 3,
     "metadata": {},
     "output_type": "execute_result"
    }
   ],
   "source": [
    "df"
   ]
  },
  {
   "cell_type": "markdown",
   "id": "ac76718a",
   "metadata": {},
   "source": [
    "# Data Cleaning And Replace Unwanted Data"
   ]
  },
  {
   "cell_type": "code",
   "execution_count": 6,
   "id": "5a5f343c",
   "metadata": {},
   "outputs": [],
   "source": [
    "df['CAR_MAX_PWR'] = df['CAR_MAX_PWR'].str.replace('[','')\n",
    "df['CAR_MAX_PWR'] = df['CAR_MAX_PWR'].str.replace(']','')\n",
    "df['CAR_MAX_PWR'] = df['CAR_MAX_PWR'].str.replace(\"'\",\"\")\n",
    "df['CAR_MAX_PWR'] = df['CAR_MAX_PWR'].str.replace('PS','')\n",
    "df['CAR_MAX_PWR'] = df['CAR_MAX_PWR'].str.replace('ps','')"
   ]
  },
  {
   "cell_type": "code",
   "execution_count": 44,
   "id": "85fe9626",
   "metadata": {},
   "outputs": [],
   "source": [
    "df['CAR_MAX_PWR'] = df['CAR_MAX_PWR'].str.replace('at 5200 rpm','')\n",
    "df['CAR_MAX_PWR'] = df['CAR_MAX_PWR'].str.replace('/4000-6000','')\n",
    "df['CAR_MAX_PWR'] = df['CAR_MAX_PWR'].str.replace('at 6,600 rpm','')\n",
    "df['CAR_MAX_PWR'] = df['CAR_MAX_PWR'].str.replace('-','')\n",
    "df['CAR_MAX_PWR'] = df['CAR_MAX_PWR'].str.replace('\"','')\n",
    "df['CAR_MAX_PWR'] = df['CAR_MAX_PWR'].str.replace('Bhp','')\n",
    "df['CAR_MAX_PWR'] = df['CAR_MAX_PWR'].str.replace('at','')\n",
    "df['CAR_MAX_PWR'] = df['CAR_MAX_PWR'].str.replace('4000rpm','')\n",
    "df['CAR_MAX_PWR'] = df['CAR_MAX_PWR'].str.replace('(66)','')\n",
    "df['CAR_MAX_PWR'] = df['CAR_MAX_PWR'].str.replace('(','')\n",
    "df['CAR_MAX_PWR'] = df['CAR_MAX_PWR'].str.replace(')','')\n",
    "df['CAR_MAX_PWR'] = df['CAR_MAX_PWR'].str.replace('4000 rpm','')\n",
    "df['CAR_MAX_PWR'] = df['CAR_MAX_PWR'].str.replace('4000','')\n",
    "df['CAR_MAX_PWR'] = df['CAR_MAX_PWR'].str.replace('rpm','')\n",
    "df['CAR_MAX_PWR'] = df['CAR_MAX_PWR'].str.replace('Ps','')\n",
    "df['CAR_MAX_PWR'] = df['CAR_MAX_PWR'].str.replace('  5,500','')\n",
    "df['CAR_MAX_PWR'] = df['CAR_MAX_PWR'].str.replace('   5400 ','')\n",
    "df['CAR_MAX_PWR'] = df['CAR_MAX_PWR'].str.replace(' HP  3200 ','')\n",
    "df['CAR_MAX_PWR'] = df['CAR_MAX_PWR'].str.replace('  3800 ','')\n",
    "df['CAR_MAX_PWR'] = df['CAR_MAX_PWR'].str.replace('.6hbp','')\n",
    "df['CAR_MAX_PWR'] = df['CAR_MAX_PWR'].str.replace(' ','')\n",
    "df['CAR_MAX_PWR'] = df['CAR_MAX_PWR'].str.replace('3800','')\n",
    "df['CAR_MAX_PWR'] = df['CAR_MAX_PWR'].str.replace('224','') \n",
    "df['CAR_MAX_PWR'] = df['CAR_MAX_PWR'].str.replace('kW6300','')\n",
    "df['CAR_MAX_PWR'] = df['CAR_MAX_PWR'].str.replace('hp','')\n",
    "df['CAR_MAX_PWR'] = df['CAR_MAX_PWR'].str.replace('Hp','')\n",
    "df['CAR_MAX_PWR'] = df['CAR_MAX_PWR'].str.replace('HP','')\n",
    "df['CAR_MAX_PWR'] = df['CAR_MAX_PWR'].str.replace('RPM','')\n",
    "df['CAR_MAX_PWR'] = df['CAR_MAX_PWR'].str.replace('.','')"
   ]
  },
  {
   "cell_type": "code",
   "execution_count": 45,
   "id": "850c3608",
   "metadata": {},
   "outputs": [],
   "source": [
    "df['CAR_MAX_PWR'] = pd.to_numeric(df['CAR_MAX_PWR'])\n"
   ]
  },
  {
   "cell_type": "code",
   "execution_count": 46,
   "id": "5281372e",
   "metadata": {},
   "outputs": [
    {
     "data": {
      "text/plain": [
       "dtype('int64')"
      ]
     },
     "execution_count": 46,
     "metadata": {},
     "output_type": "execute_result"
    }
   ],
   "source": [
    "df['CAR_MAX_PWR'].dtypes"
   ]
  },
  {
   "cell_type": "code",
   "execution_count": 47,
   "id": "11daa18d",
   "metadata": {},
   "outputs": [],
   "source": [
    "df.to_excel('new_col.xlsx', index=False)"
   ]
  },
  {
   "cell_type": "code",
   "execution_count": 48,
   "id": "ba0d5a0c",
   "metadata": {},
   "outputs": [],
   "source": [
    "d=pd.read_excel('new_col.xlsx')"
   ]
  },
  {
   "cell_type": "code",
   "execution_count": 49,
   "id": "3a6093b8",
   "metadata": {},
   "outputs": [
    {
     "data": {
      "text/html": [
       "<div>\n",
       "<style scoped>\n",
       "    .dataframe tbody tr th:only-of-type {\n",
       "        vertical-align: middle;\n",
       "    }\n",
       "\n",
       "    .dataframe tbody tr th {\n",
       "        vertical-align: top;\n",
       "    }\n",
       "\n",
       "    .dataframe thead th {\n",
       "        text-align: right;\n",
       "    }\n",
       "</style>\n",
       "<table border=\"1\" class=\"dataframe\">\n",
       "  <thead>\n",
       "    <tr style=\"text-align: right;\">\n",
       "      <th></th>\n",
       "      <th>CAR_MAX_PWR</th>\n",
       "    </tr>\n",
       "  </thead>\n",
       "  <tbody>\n",
       "    <tr>\n",
       "      <th>0</th>\n",
       "      <td>11835</td>\n",
       "    </tr>\n",
       "    <tr>\n",
       "      <th>1</th>\n",
       "      <td>17457</td>\n",
       "    </tr>\n",
       "    <tr>\n",
       "      <th>2</th>\n",
       "      <td>867</td>\n",
       "    </tr>\n",
       "    <tr>\n",
       "      <th>3</th>\n",
       "      <td>552</td>\n",
       "    </tr>\n",
       "    <tr>\n",
       "      <th>4</th>\n",
       "      <td>8180</td>\n",
       "    </tr>\n",
       "    <tr>\n",
       "      <th>...</th>\n",
       "      <td>...</td>\n",
       "    </tr>\n",
       "    <tr>\n",
       "      <th>5095</th>\n",
       "      <td>12136</td>\n",
       "    </tr>\n",
       "    <tr>\n",
       "      <th>5096</th>\n",
       "      <td>1475</td>\n",
       "    </tr>\n",
       "    <tr>\n",
       "      <th>5097</th>\n",
       "      <td>1944</td>\n",
       "    </tr>\n",
       "    <tr>\n",
       "      <th>5098</th>\n",
       "      <td>838</td>\n",
       "    </tr>\n",
       "    <tr>\n",
       "      <th>5099</th>\n",
       "      <td>132</td>\n",
       "    </tr>\n",
       "  </tbody>\n",
       "</table>\n",
       "<p>5100 rows × 1 columns</p>\n",
       "</div>"
      ],
      "text/plain": [
       "      CAR_MAX_PWR\n",
       "0           11835\n",
       "1           17457\n",
       "2             867\n",
       "3             552\n",
       "4            8180\n",
       "...           ...\n",
       "5095        12136\n",
       "5096         1475\n",
       "5097         1944\n",
       "5098          838\n",
       "5099          132\n",
       "\n",
       "[5100 rows x 1 columns]"
      ]
     },
     "execution_count": 49,
     "metadata": {},
     "output_type": "execute_result"
    }
   ],
   "source": [
    "d"
   ]
  },
  {
   "cell_type": "code",
   "execution_count": 51,
   "id": "3e9056a4",
   "metadata": {},
   "outputs": [
    {
     "data": {
      "text/plain": [
       "dtype('int64')"
      ]
     },
     "execution_count": 51,
     "metadata": {},
     "output_type": "execute_result"
    }
   ],
   "source": [
    "d['CAR_MAX_PWR'].dtypes"
   ]
  },
  {
   "cell_type": "code",
   "execution_count": 97,
   "id": "133d1ffe",
   "metadata": {},
   "outputs": [
    {
     "data": {
      "text/html": [
       "<div>\n",
       "<style scoped>\n",
       "    .dataframe tbody tr th:only-of-type {\n",
       "        vertical-align: middle;\n",
       "    }\n",
       "\n",
       "    .dataframe tbody tr th {\n",
       "        vertical-align: top;\n",
       "    }\n",
       "\n",
       "    .dataframe thead th {\n",
       "        text-align: right;\n",
       "    }\n",
       "</style>\n",
       "<table border=\"1\" class=\"dataframe\">\n",
       "  <thead>\n",
       "    <tr style=\"text-align: right;\">\n",
       "      <th></th>\n",
       "      <th>TORQUE(NM)</th>\n",
       "      <th>WHEEL_SIZE</th>\n",
       "    </tr>\n",
       "  </thead>\n",
       "  <tbody>\n",
       "    <tr>\n",
       "      <th>0</th>\n",
       "      <td>171.6</td>\n",
       "      <td>16</td>\n",
       "    </tr>\n",
       "    <tr>\n",
       "      <th>1</th>\n",
       "      <td>380NM</td>\n",
       "      <td>18</td>\n",
       "    </tr>\n",
       "    <tr>\n",
       "      <th>2</th>\n",
       "      <td>109</td>\n",
       "      <td>-</td>\n",
       "    </tr>\n",
       "    <tr>\n",
       "      <th>3</th>\n",
       "      <td>74.5</td>\n",
       "      <td>-</td>\n",
       "    </tr>\n",
       "    <tr>\n",
       "      <th>4</th>\n",
       "      <td>113</td>\n",
       "      <td>-</td>\n",
       "    </tr>\n",
       "    <tr>\n",
       "      <th>...</th>\n",
       "      <td>...</td>\n",
       "      <td>...</td>\n",
       "    </tr>\n",
       "    <tr>\n",
       "      <th>5095</th>\n",
       "      <td>90</td>\n",
       "      <td>-</td>\n",
       "    </tr>\n",
       "    <tr>\n",
       "      <th>5096</th>\n",
       "      <td>138nm</td>\n",
       "      <td>-</td>\n",
       "    </tr>\n",
       "    <tr>\n",
       "      <th>5097</th>\n",
       "      <td>172</td>\n",
       "      <td>-</td>\n",
       "    </tr>\n",
       "    <tr>\n",
       "      <th>5098</th>\n",
       "      <td>242nm</td>\n",
       "      <td>16</td>\n",
       "    </tr>\n",
       "    <tr>\n",
       "      <th>5099</th>\n",
       "      <td>90</td>\n",
       "      <td>17</td>\n",
       "    </tr>\n",
       "  </tbody>\n",
       "</table>\n",
       "<p>5100 rows × 2 columns</p>\n",
       "</div>"
      ],
      "text/plain": [
       "     TORQUE(NM) WHEEL_SIZE\n",
       "0         171.6         16\n",
       "1         380NM         18\n",
       "2           109          -\n",
       "3          74.5          -\n",
       "4           113          -\n",
       "...         ...        ...\n",
       "5095         90          -\n",
       "5096      138nm          -\n",
       "5097        172          -\n",
       "5098      242nm         16\n",
       "5099         90         17\n",
       "\n",
       "[5100 rows x 2 columns]"
      ]
     },
     "execution_count": 97,
     "metadata": {},
     "output_type": "execute_result"
    }
   ],
   "source": [
    "df1=pd.read_excel('new_col_1.xlsx')\n",
    "df1"
   ]
  },
  {
   "cell_type": "code",
   "execution_count": 99,
   "id": "23566389",
   "metadata": {},
   "outputs": [],
   "source": [
    "df1['TORQUE(NM)'] = df1['TORQUE(NM)'].map(lambda x : x.split('@')[0])\n",
    "df1['TORQUE(NM)'] = df1['TORQUE(NM)'].map(lambda x : x.rstrip('nm'))\n",
    "df1['TORQUE(NM)'] = df1['TORQUE(NM)'].map(lambda x : x.rstrip('NM'))\n",
    "df1['TORQUE(NM)'] = df1['TORQUE(NM)'].map(lambda x : x.rstrip('at'))\n",
    "df1['TORQUE(NM)'] = df1['TORQUE(NM)'].map(lambda x : x.split('at')[0])\n",
    "df1['TORQUE(NM)'] = df1['TORQUE(NM)'].map(lambda x : x.rstrip('(11.2)'))"
   ]
  },
  {
   "cell_type": "code",
   "execution_count": 119,
   "id": "4ba4de79",
   "metadata": {},
   "outputs": [],
   "source": [
    "df1['TORQUE(NM)'] = df1['TORQUE(NM)'].replace('13.9 kgm at 4200 rp','136.32')\n",
    "df1['TORQUE(NM)'] = df1['TORQUE(NM)'].replace('-','')\n",
    "df1['TORQUE(NM)'] = df1['TORQUE(NM)'].replace('22.4 kgm at 1750-2750rp','219.66')\n",
    "df1['TORQUE(NM)'] = df1['TORQUE(NM)'].replace('260  at 1800-2200 rp','260')\n",
    "df1['TORQUE(NM)'] = df1['TORQUE(NM)'].replace('180  at 1440-1500rp','180')\n",
    "df1['TORQUE(NM)'] = df1['TORQUE(NM)'].replace('146 at 4800 rp','146')\n",
    "df1['TORQUE(NM)'] = df1['TORQUE(NM)'].replace('90.3 at 4,200 rp','90.3')\n",
    "df1['TORQUE(NM)'] = df1['TORQUE(NM)'].replace('12.5kg','122.58')\n",
    "df1['TORQUE(NM)'] = df1['TORQUE(NM)'].replace('11.4 kgm at 4,000 rp','111.79')\n",
    "df1['TORQUE(NM)'] = df1['TORQUE(NM)'].replace('153  at 3800 rp','153')\n",
    "df1['TORQUE(NM)'] = df1['TORQUE(NM)'].replace('24 KGM at 1900-2750 RP','235.36')\n",
    "df1['TORQUE(NM)'] = df1['TORQUE(NM)'].replace('190  at 1750 rp','190')\n",
    "df1['TORQUE(NM)'] = df1['TORQUE(NM)'].replace('13.1kg','128.46')"
   ]
  },
  {
   "cell_type": "code",
   "execution_count": 130,
   "id": "8186bd67",
   "metadata": {},
   "outputs": [],
   "source": [
    "df1['TORQUE(NM)'] = df1['TORQUE(NM)'].replace('11.4 kgm ','111.79')\n",
    "df1['TORQUE(NM)'] = df1['TORQUE(NM)'].replace(\"'\",\"\")\n",
    "df1['TORQUE(NM)'] = df1['TORQUE(NM)'].replace('\"','')\n",
    "df1['TORQUE(NM)'] = df1['TORQUE(NM)'].replace('320/1500â??3900','320')\n",
    "df1['TORQUE(NM)'] = df1['TORQUE(NM)'].replace('11.3 kg','110.81')\n",
    "df1['TORQUE(NM)'] = df1['TORQUE(NM)'].replace('210 / 1900','210')\n",
    "df1['TORQUE(NM)'] = df1['TORQUE(NM)'].replace('6.1kg','59.82')\n",
    "df1['TORQUE(NM)'] = df1['TORQUE(NM)'].replace('6.1 kg','59.85')\n",
    "df1['TORQUE(NM)'] = df1['TORQUE(NM)'].replace('18.5kg-','181.42')\n",
    "df1['TORQUE(NM)'] = df1['TORQUE(NM)'].replace('400  /2000 rp','400')\n",
    "df1['TORQUE(NM)'] = df1['TORQUE(NM)'].replace('14.9 KGM ','146.12')\n",
    "df1['TORQUE(NM)'] = df1['TORQUE(NM)'].replace('22.4 kgm ','219.66')\n",
    "df1['TORQUE(NM)'] = df1['TORQUE(NM)'].replace('13.9 kgm ','136.2')\n",
    "df1['TORQUE(NM)'] = df1['TORQUE(NM)'].replace('13.1 kg','130.2')\n",
    "df1['TORQUE(NM)'] = df1['TORQUE(NM)'].replace('13.5 kg','130.5')\n",
    "df1['TORQUE(NM)'] = df1['TORQUE(NM)'].replace('18.5 kg-','180.5')\n"
   ]
  },
  {
   "cell_type": "code",
   "execution_count": 132,
   "id": "30941be1",
   "metadata": {},
   "outputs": [],
   "source": [
    "df1['TORQUE(NM)'] = pd.to_numeric(df1['TORQUE(NM)'])"
   ]
  },
  {
   "cell_type": "code",
   "execution_count": 133,
   "id": "55ef56f2",
   "metadata": {},
   "outputs": [
    {
     "data": {
      "text/plain": [
       "dtype('float64')"
      ]
     },
     "execution_count": 133,
     "metadata": {},
     "output_type": "execute_result"
    }
   ],
   "source": [
    "df1['TORQUE(NM)'].dtypes"
   ]
  },
  {
   "cell_type": "code",
   "execution_count": 139,
   "id": "5b77cd2c",
   "metadata": {},
   "outputs": [],
   "source": [
    "df1['WHEEL_SIZE'] = df1['WHEEL_SIZE'].replace('-','')\n",
    "df1['WHEEL_SIZE'] = df1['WHEEL_SIZE'].replace('np.nan','')"
   ]
  },
  {
   "cell_type": "code",
   "execution_count": null,
   "id": "aba1a225",
   "metadata": {},
   "outputs": [],
   "source": []
  },
  {
   "cell_type": "code",
   "execution_count": 140,
   "id": "c6543cbb",
   "metadata": {},
   "outputs": [],
   "source": [
    "df1['WHEEL_SIZE'] = pd.to_numeric(df1['WHEEL_SIZE'])"
   ]
  },
  {
   "cell_type": "code",
   "execution_count": 141,
   "id": "9161b8c9",
   "metadata": {},
   "outputs": [
    {
     "data": {
      "text/plain": [
       "dtype('float64')"
      ]
     },
     "execution_count": 141,
     "metadata": {},
     "output_type": "execute_result"
    }
   ],
   "source": [
    "df1['WHEEL_SIZE'].dtypes"
   ]
  },
  {
   "cell_type": "code",
   "execution_count": 143,
   "id": "5fa97467",
   "metadata": {},
   "outputs": [],
   "source": [
    "df1.to_excel('new_col_1.xlsx', index=False)"
   ]
  },
  {
   "cell_type": "code",
   "execution_count": 144,
   "id": "5d91e4f4",
   "metadata": {},
   "outputs": [],
   "source": [
    "a= pd.read_excel('new_col_1.xlsx')"
   ]
  },
  {
   "cell_type": "code",
   "execution_count": 145,
   "id": "4d79adce",
   "metadata": {},
   "outputs": [
    {
     "data": {
      "text/html": [
       "<div>\n",
       "<style scoped>\n",
       "    .dataframe tbody tr th:only-of-type {\n",
       "        vertical-align: middle;\n",
       "    }\n",
       "\n",
       "    .dataframe tbody tr th {\n",
       "        vertical-align: top;\n",
       "    }\n",
       "\n",
       "    .dataframe thead th {\n",
       "        text-align: right;\n",
       "    }\n",
       "</style>\n",
       "<table border=\"1\" class=\"dataframe\">\n",
       "  <thead>\n",
       "    <tr style=\"text-align: right;\">\n",
       "      <th></th>\n",
       "      <th>TORQUE(NM)</th>\n",
       "      <th>WHEEL_SIZE</th>\n",
       "    </tr>\n",
       "  </thead>\n",
       "  <tbody>\n",
       "    <tr>\n",
       "      <th>0</th>\n",
       "      <td>171.6</td>\n",
       "      <td>16.0</td>\n",
       "    </tr>\n",
       "    <tr>\n",
       "      <th>1</th>\n",
       "      <td>380.0</td>\n",
       "      <td>18.0</td>\n",
       "    </tr>\n",
       "    <tr>\n",
       "      <th>2</th>\n",
       "      <td>109.0</td>\n",
       "      <td>NaN</td>\n",
       "    </tr>\n",
       "    <tr>\n",
       "      <th>3</th>\n",
       "      <td>74.5</td>\n",
       "      <td>NaN</td>\n",
       "    </tr>\n",
       "    <tr>\n",
       "      <th>4</th>\n",
       "      <td>113.0</td>\n",
       "      <td>NaN</td>\n",
       "    </tr>\n",
       "    <tr>\n",
       "      <th>...</th>\n",
       "      <td>...</td>\n",
       "      <td>...</td>\n",
       "    </tr>\n",
       "    <tr>\n",
       "      <th>5095</th>\n",
       "      <td>90.0</td>\n",
       "      <td>NaN</td>\n",
       "    </tr>\n",
       "    <tr>\n",
       "      <th>5096</th>\n",
       "      <td>138.0</td>\n",
       "      <td>NaN</td>\n",
       "    </tr>\n",
       "    <tr>\n",
       "      <th>5097</th>\n",
       "      <td>17.0</td>\n",
       "      <td>NaN</td>\n",
       "    </tr>\n",
       "    <tr>\n",
       "      <th>5098</th>\n",
       "      <td>24.0</td>\n",
       "      <td>16.0</td>\n",
       "    </tr>\n",
       "    <tr>\n",
       "      <th>5099</th>\n",
       "      <td>90.0</td>\n",
       "      <td>17.0</td>\n",
       "    </tr>\n",
       "  </tbody>\n",
       "</table>\n",
       "<p>5100 rows × 2 columns</p>\n",
       "</div>"
      ],
      "text/plain": [
       "      TORQUE(NM)  WHEEL_SIZE\n",
       "0          171.6        16.0\n",
       "1          380.0        18.0\n",
       "2          109.0         NaN\n",
       "3           74.5         NaN\n",
       "4          113.0         NaN\n",
       "...          ...         ...\n",
       "5095        90.0         NaN\n",
       "5096       138.0         NaN\n",
       "5097        17.0         NaN\n",
       "5098        24.0        16.0\n",
       "5099        90.0        17.0\n",
       "\n",
       "[5100 rows x 2 columns]"
      ]
     },
     "execution_count": 145,
     "metadata": {},
     "output_type": "execute_result"
    }
   ],
   "source": [
    "a"
   ]
  },
  {
   "cell_type": "code",
   "execution_count": 146,
   "id": "73c5e706",
   "metadata": {},
   "outputs": [
    {
     "data": {
      "text/plain": [
       "TORQUE(NM)      20\n",
       "WHEEL_SIZE    2305\n",
       "dtype: int64"
      ]
     },
     "execution_count": 146,
     "metadata": {},
     "output_type": "execute_result"
    }
   ],
   "source": [
    "a.isnull().sum()"
   ]
  },
  {
   "cell_type": "code",
   "execution_count": 151,
   "id": "e5336978",
   "metadata": {},
   "outputs": [],
   "source": []
  },
  {
   "cell_type": "code",
   "execution_count": 152,
   "id": "b0baff65",
   "metadata": {},
   "outputs": [
    {
     "data": {
      "text/html": [
       "<div>\n",
       "<style scoped>\n",
       "    .dataframe tbody tr th:only-of-type {\n",
       "        vertical-align: middle;\n",
       "    }\n",
       "\n",
       "    .dataframe tbody tr th {\n",
       "        vertical-align: top;\n",
       "    }\n",
       "\n",
       "    .dataframe thead th {\n",
       "        text-align: right;\n",
       "    }\n",
       "</style>\n",
       "<table border=\"1\" class=\"dataframe\">\n",
       "  <thead>\n",
       "    <tr style=\"text-align: right;\">\n",
       "      <th></th>\n",
       "      <th>CAR_MODEL</th>\n",
       "      <th>CAR_AGE</th>\n",
       "      <th>CAR_KMS</th>\n",
       "      <th>TRANSMISSION</th>\n",
       "      <th>FUEL_TYPE</th>\n",
       "      <th>CAR_OWNERS</th>\n",
       "      <th>SEATING_CAPACITY</th>\n",
       "      <th>ENGINE_DISPLACEMENT(CC)</th>\n",
       "      <th>MILEAGE(kmpl)</th>\n",
       "      <th>CAR_MAX_PWR</th>\n",
       "      <th>TORQUE(NM)</th>\n",
       "      <th>WHEEL_SIZE</th>\n",
       "      <th>CAR_PRICE(RS.)</th>\n",
       "    </tr>\n",
       "  </thead>\n",
       "  <tbody>\n",
       "    <tr>\n",
       "      <th>0</th>\n",
       "      <td>Hyundai Venue SX Plus Turbo DCT BSIV</td>\n",
       "      <td>2019</td>\n",
       "      <td>32000</td>\n",
       "      <td>Automatic</td>\n",
       "      <td>Petrol</td>\n",
       "      <td>1</td>\n",
       "      <td>5.0</td>\n",
       "      <td>998</td>\n",
       "      <td>18.15</td>\n",
       "      <td>11835</td>\n",
       "      <td>171.6</td>\n",
       "      <td>16.0</td>\n",
       "      <td>1095000.0</td>\n",
       "    </tr>\n",
       "    <tr>\n",
       "      <th>1</th>\n",
       "      <td>Isuzu MUX 2WD</td>\n",
       "      <td>2017</td>\n",
       "      <td>139000</td>\n",
       "      <td>Automatic</td>\n",
       "      <td>Diesel</td>\n",
       "      <td>1</td>\n",
       "      <td>7.0</td>\n",
       "      <td>2999</td>\n",
       "      <td>13.80</td>\n",
       "      <td>17457</td>\n",
       "      <td>380.0</td>\n",
       "      <td>18.0</td>\n",
       "      <td>1750000.0</td>\n",
       "    </tr>\n",
       "    <tr>\n",
       "      <th>2</th>\n",
       "      <td>Honda Amaze S iVtech</td>\n",
       "      <td>2015</td>\n",
       "      <td>59534</td>\n",
       "      <td>Manual</td>\n",
       "      <td>Petrol</td>\n",
       "      <td>2</td>\n",
       "      <td>5.0</td>\n",
       "      <td>1198</td>\n",
       "      <td>18.00</td>\n",
       "      <td>867</td>\n",
       "      <td>109.0</td>\n",
       "      <td>NaN</td>\n",
       "      <td>440000.0</td>\n",
       "    </tr>\n",
       "    <tr>\n",
       "      <th>3</th>\n",
       "      <td>Hyundai EON D Lite</td>\n",
       "      <td>2013</td>\n",
       "      <td>13000</td>\n",
       "      <td>Manual</td>\n",
       "      <td>Petrol</td>\n",
       "      <td>1</td>\n",
       "      <td>5.0</td>\n",
       "      <td>814</td>\n",
       "      <td>21.10</td>\n",
       "      <td>552</td>\n",
       "      <td>74.5</td>\n",
       "      <td>NaN</td>\n",
       "      <td>310000.0</td>\n",
       "    </tr>\n",
       "    <tr>\n",
       "      <th>4</th>\n",
       "      <td>Maruti Swift VXI</td>\n",
       "      <td>2020</td>\n",
       "      <td>50000</td>\n",
       "      <td>Manual</td>\n",
       "      <td>Petrol</td>\n",
       "      <td>1</td>\n",
       "      <td>5.0</td>\n",
       "      <td>1197</td>\n",
       "      <td>21.21</td>\n",
       "      <td>8180</td>\n",
       "      <td>113.0</td>\n",
       "      <td>NaN</td>\n",
       "      <td>700000.0</td>\n",
       "    </tr>\n",
       "    <tr>\n",
       "      <th>...</th>\n",
       "      <td>...</td>\n",
       "      <td>...</td>\n",
       "      <td>...</td>\n",
       "      <td>...</td>\n",
       "      <td>...</td>\n",
       "      <td>...</td>\n",
       "      <td>...</td>\n",
       "      <td>...</td>\n",
       "      <td>...</td>\n",
       "      <td>...</td>\n",
       "      <td>...</td>\n",
       "      <td>...</td>\n",
       "      <td>...</td>\n",
       "    </tr>\n",
       "    <tr>\n",
       "      <th>5095</th>\n",
       "      <td>Honda City i VTEC CVT VX</td>\n",
       "      <td>2017</td>\n",
       "      <td>19979</td>\n",
       "      <td>Manual</td>\n",
       "      <td>Diesel</td>\n",
       "      <td>1</td>\n",
       "      <td>5.0</td>\n",
       "      <td>1197</td>\n",
       "      <td>18.90</td>\n",
       "      <td>12136</td>\n",
       "      <td>90.0</td>\n",
       "      <td>NaN</td>\n",
       "      <td>430000.0</td>\n",
       "    </tr>\n",
       "    <tr>\n",
       "      <th>5096</th>\n",
       "      <td>Maruti Alto LXi BSIII</td>\n",
       "      <td>2015</td>\n",
       "      <td>111000</td>\n",
       "      <td>Manual</td>\n",
       "      <td>Petrol</td>\n",
       "      <td>1</td>\n",
       "      <td>5.0</td>\n",
       "      <td>1061</td>\n",
       "      <td>14.08</td>\n",
       "      <td>1475</td>\n",
       "      <td>138.0</td>\n",
       "      <td>NaN</td>\n",
       "      <td>450000.0</td>\n",
       "    </tr>\n",
       "    <tr>\n",
       "      <th>5097</th>\n",
       "      <td>Maruti Ertiga SHVS VDI</td>\n",
       "      <td>2015</td>\n",
       "      <td>55000</td>\n",
       "      <td>Manual</td>\n",
       "      <td>Petrol</td>\n",
       "      <td>1</td>\n",
       "      <td>5.0</td>\n",
       "      <td>1197</td>\n",
       "      <td>12.00</td>\n",
       "      <td>1944</td>\n",
       "      <td>17.0</td>\n",
       "      <td>NaN</td>\n",
       "      <td>335000.0</td>\n",
       "    </tr>\n",
       "    <tr>\n",
       "      <th>5098</th>\n",
       "      <td>Hyundai Xcent 1.2 VTVT SX Option</td>\n",
       "      <td>2020</td>\n",
       "      <td>41900</td>\n",
       "      <td>Automatic</td>\n",
       "      <td>Petrol</td>\n",
       "      <td>1</td>\n",
       "      <td>5.0</td>\n",
       "      <td>1086</td>\n",
       "      <td>15.56</td>\n",
       "      <td>838</td>\n",
       "      <td>24.0</td>\n",
       "      <td>16.0</td>\n",
       "      <td>975000.0</td>\n",
       "    </tr>\n",
       "    <tr>\n",
       "      <th>5099</th>\n",
       "      <td>Maruti Swift 1.3 LXI</td>\n",
       "      <td>2014</td>\n",
       "      <td>46000</td>\n",
       "      <td>Manual</td>\n",
       "      <td>Diesel</td>\n",
       "      <td>1</td>\n",
       "      <td>5.0</td>\n",
       "      <td>1798</td>\n",
       "      <td>21.21</td>\n",
       "      <td>132</td>\n",
       "      <td>90.0</td>\n",
       "      <td>17.0</td>\n",
       "      <td>235000.0</td>\n",
       "    </tr>\n",
       "  </tbody>\n",
       "</table>\n",
       "<p>5100 rows × 13 columns</p>\n",
       "</div>"
      ],
      "text/plain": [
       "                                 CAR_MODEL  CAR_AGE  CAR_KMS TRANSMISSION  \\\n",
       "0     Hyundai Venue SX Plus Turbo DCT BSIV     2019    32000    Automatic   \n",
       "1                            Isuzu MUX 2WD     2017   139000    Automatic   \n",
       "2                     Honda Amaze S iVtech     2015    59534       Manual   \n",
       "3                       Hyundai EON D Lite     2013    13000       Manual   \n",
       "4                         Maruti Swift VXI     2020    50000       Manual   \n",
       "...                                    ...      ...      ...          ...   \n",
       "5095              Honda City i VTEC CVT VX     2017    19979       Manual   \n",
       "5096                 Maruti Alto LXi BSIII     2015   111000       Manual   \n",
       "5097                Maruti Ertiga SHVS VDI     2015    55000       Manual   \n",
       "5098      Hyundai Xcent 1.2 VTVT SX Option     2020    41900    Automatic   \n",
       "5099                  Maruti Swift 1.3 LXI     2014    46000       Manual   \n",
       "\n",
       "     FUEL_TYPE  CAR_OWNERS  SEATING_CAPACITY  ENGINE_DISPLACEMENT(CC)  \\\n",
       "0       Petrol           1               5.0                      998   \n",
       "1       Diesel           1               7.0                     2999   \n",
       "2       Petrol           2               5.0                     1198   \n",
       "3       Petrol           1               5.0                      814   \n",
       "4       Petrol           1               5.0                     1197   \n",
       "...        ...         ...               ...                      ...   \n",
       "5095    Diesel           1               5.0                     1197   \n",
       "5096    Petrol           1               5.0                     1061   \n",
       "5097    Petrol           1               5.0                     1197   \n",
       "5098    Petrol           1               5.0                     1086   \n",
       "5099    Diesel           1               5.0                     1798   \n",
       "\n",
       "      MILEAGE(kmpl)  CAR_MAX_PWR  TORQUE(NM)  WHEEL_SIZE  CAR_PRICE(RS.)  \n",
       "0             18.15        11835       171.6        16.0       1095000.0  \n",
       "1             13.80        17457       380.0        18.0       1750000.0  \n",
       "2             18.00          867       109.0         NaN        440000.0  \n",
       "3             21.10          552        74.5         NaN        310000.0  \n",
       "4             21.21         8180       113.0         NaN        700000.0  \n",
       "...             ...          ...         ...         ...             ...  \n",
       "5095          18.90        12136        90.0         NaN        430000.0  \n",
       "5096          14.08         1475       138.0         NaN        450000.0  \n",
       "5097          12.00         1944        17.0         NaN        335000.0  \n",
       "5098          15.56          838        24.0        16.0        975000.0  \n",
       "5099          21.21          132        90.0        17.0        235000.0  \n",
       "\n",
       "[5100 rows x 13 columns]"
      ]
     },
     "execution_count": 152,
     "metadata": {},
     "output_type": "execute_result"
    }
   ],
   "source": [
    "df_rd"
   ]
  },
  {
   "cell_type": "code",
   "execution_count": 153,
   "id": "3099aeb8",
   "metadata": {},
   "outputs": [],
   "source": [
    "df_rd['CAR_MAX_PWR'] = df_rd['CAR_MAX_PWR'].astype(float)"
   ]
  },
  {
   "cell_type": "code",
   "execution_count": 154,
   "id": "6a0156b7",
   "metadata": {},
   "outputs": [
    {
     "data": {
      "text/plain": [
       "dtype('float64')"
      ]
     },
     "execution_count": 154,
     "metadata": {},
     "output_type": "execute_result"
    }
   ],
   "source": [
    "df_rd['CAR_MAX_PWR'].dtypes"
   ]
  },
  {
   "cell_type": "code",
   "execution_count": 157,
   "id": "5b8e50a9",
   "metadata": {},
   "outputs": [
    {
     "data": {
      "text/plain": [
       "dtype('float64')"
      ]
     },
     "execution_count": 157,
     "metadata": {},
     "output_type": "execute_result"
    }
   ],
   "source": [
    "df_rd['ENGINE_DISPLACEMENT(CC)'].dtypes"
   ]
  },
  {
   "cell_type": "code",
   "execution_count": 156,
   "id": "7a32f6a9",
   "metadata": {},
   "outputs": [],
   "source": [
    "df_rd['ENGINE_DISPLACEMENT(CC)']=df_rd['ENGINE_DISPLACEMENT(CC)'].astype(float)"
   ]
  },
  {
   "cell_type": "code",
   "execution_count": 160,
   "id": "de8729fe",
   "metadata": {},
   "outputs": [
    {
     "name": "stdout",
     "output_type": "stream",
     "text": [
      "Mean : 5.221735117674204\n",
      "Median : 5.0\n"
     ]
    }
   ],
   "source": [
    "print(\"Mean :\", df_rd['SEATING_CAPACITY'].mean())\n",
    "print(\"Median :\", df_rd['SEATING_CAPACITY'].median())"
   ]
  },
  {
   "cell_type": "code",
   "execution_count": 161,
   "id": "0a80b6a7",
   "metadata": {},
   "outputs": [],
   "source": [
    "df_rd['SEATING_CAPACITY'].fillna(df_rd['SEATING_CAPACITY'].median(), inplace=True)"
   ]
  },
  {
   "cell_type": "code",
   "execution_count": 162,
   "id": "b4195ff2",
   "metadata": {},
   "outputs": [],
   "source": [
    "df_rd['SEATING_CAPACITY']=df_rd['SEATING_CAPACITY'].astype(int)"
   ]
  },
  {
   "cell_type": "code",
   "execution_count": 163,
   "id": "7f07d485",
   "metadata": {},
   "outputs": [
    {
     "data": {
      "text/plain": [
       "dtype('int32')"
      ]
     },
     "execution_count": 163,
     "metadata": {},
     "output_type": "execute_result"
    }
   ],
   "source": [
    "df_rd['SEATING_CAPACITY'].dtypes"
   ]
  },
  {
   "cell_type": "code",
   "execution_count": 164,
   "id": "17dd361d",
   "metadata": {},
   "outputs": [
    {
     "data": {
      "text/plain": [
       "dtype('float64')"
      ]
     },
     "execution_count": 164,
     "metadata": {},
     "output_type": "execute_result"
    }
   ],
   "source": [
    "df_rd['WHEEL_SIZE'].dtypes"
   ]
  },
  {
   "cell_type": "code",
   "execution_count": 165,
   "id": "da67902e",
   "metadata": {},
   "outputs": [
    {
     "name": "stdout",
     "output_type": "stream",
     "text": [
      "Mean : 15.711627906976744\n",
      "Median : 16.0\n"
     ]
    }
   ],
   "source": [
    "print(\"Mean :\", df_rd['WHEEL_SIZE'].mean())\n",
    "print(\"Median :\", df_rd['WHEEL_SIZE'].median())"
   ]
  },
  {
   "cell_type": "code",
   "execution_count": 166,
   "id": "ff3aea34",
   "metadata": {},
   "outputs": [],
   "source": [
    "df_rd['WHEEL_SIZE'].fillna(df_rd['WHEEL_SIZE'].mean(), inplace=True)"
   ]
  },
  {
   "cell_type": "code",
   "execution_count": 167,
   "id": "301ef62c",
   "metadata": {},
   "outputs": [],
   "source": [
    "df_rd['WHEEL_SIZE']=(df_rd['WHEEL_SIZE'].astype(int))"
   ]
  },
  {
   "cell_type": "code",
   "execution_count": 168,
   "id": "fa314396",
   "metadata": {},
   "outputs": [
    {
     "data": {
      "text/plain": [
       "dtype('int32')"
      ]
     },
     "execution_count": 168,
     "metadata": {},
     "output_type": "execute_result"
    }
   ],
   "source": [
    "df_rd['WHEEL_SIZE'].dtypes"
   ]
  },
  {
   "cell_type": "code",
   "execution_count": 172,
   "id": "fa61e4ad",
   "metadata": {},
   "outputs": [
    {
     "data": {
      "text/plain": [
       "dtype('float64')"
      ]
     },
     "execution_count": 172,
     "metadata": {},
     "output_type": "execute_result"
    }
   ],
   "source": [
    "df_rd['CAR_KMS'].dtypes"
   ]
  },
  {
   "cell_type": "code",
   "execution_count": 171,
   "id": "56a4c12e",
   "metadata": {},
   "outputs": [],
   "source": [
    "df_rd['CAR_KMS']=df_rd['CAR_KMS'].astype(float)"
   ]
  },
  {
   "cell_type": "code",
   "execution_count": null,
   "id": "1e9c6d5f",
   "metadata": {},
   "outputs": [],
   "source": []
  },
  {
   "cell_type": "code",
   "execution_count": 178,
   "id": "c082436d",
   "metadata": {},
   "outputs": [
    {
     "data": {
      "text/html": [
       "<div>\n",
       "<style scoped>\n",
       "    .dataframe tbody tr th:only-of-type {\n",
       "        vertical-align: middle;\n",
       "    }\n",
       "\n",
       "    .dataframe tbody tr th {\n",
       "        vertical-align: top;\n",
       "    }\n",
       "\n",
       "    .dataframe thead th {\n",
       "        text-align: right;\n",
       "    }\n",
       "</style>\n",
       "<table border=\"1\" class=\"dataframe\">\n",
       "  <thead>\n",
       "    <tr style=\"text-align: right;\">\n",
       "      <th></th>\n",
       "      <th>CAR_MODEL</th>\n",
       "      <th>CAR_AGE</th>\n",
       "      <th>CAR_KMS</th>\n",
       "      <th>TRANSMISSION</th>\n",
       "      <th>FUEL_TYPE</th>\n",
       "      <th>CAR_OWNERS</th>\n",
       "      <th>SEATING_CAPACITY</th>\n",
       "      <th>ENGINE_DISPLACEMENT(CC)</th>\n",
       "      <th>MILEAGE(kmpl)</th>\n",
       "      <th>CAR_MAX_PWR</th>\n",
       "      <th>TORQUE(NM)</th>\n",
       "      <th>WHEEL_SIZE</th>\n",
       "      <th>CAR_PRICE(RS.)</th>\n",
       "    </tr>\n",
       "  </thead>\n",
       "  <tbody>\n",
       "    <tr>\n",
       "      <th>0</th>\n",
       "      <td>Hyundai Venue SX Plus Turbo DCT BSIV</td>\n",
       "      <td>2019</td>\n",
       "      <td>32000.0</td>\n",
       "      <td>Automatic</td>\n",
       "      <td>Petrol</td>\n",
       "      <td>1</td>\n",
       "      <td>5</td>\n",
       "      <td>998.0</td>\n",
       "      <td>18.15</td>\n",
       "      <td>11835.0</td>\n",
       "      <td>171.6</td>\n",
       "      <td>16</td>\n",
       "      <td>1095000.0</td>\n",
       "    </tr>\n",
       "    <tr>\n",
       "      <th>1</th>\n",
       "      <td>Isuzu MUX 2WD</td>\n",
       "      <td>2017</td>\n",
       "      <td>139000.0</td>\n",
       "      <td>Automatic</td>\n",
       "      <td>Diesel</td>\n",
       "      <td>1</td>\n",
       "      <td>7</td>\n",
       "      <td>2999.0</td>\n",
       "      <td>13.80</td>\n",
       "      <td>17457.0</td>\n",
       "      <td>380.0</td>\n",
       "      <td>18</td>\n",
       "      <td>1750000.0</td>\n",
       "    </tr>\n",
       "    <tr>\n",
       "      <th>2</th>\n",
       "      <td>Honda Amaze S iVtech</td>\n",
       "      <td>2015</td>\n",
       "      <td>59534.0</td>\n",
       "      <td>Manual</td>\n",
       "      <td>Petrol</td>\n",
       "      <td>2</td>\n",
       "      <td>5</td>\n",
       "      <td>1198.0</td>\n",
       "      <td>18.00</td>\n",
       "      <td>867.0</td>\n",
       "      <td>109.0</td>\n",
       "      <td>15</td>\n",
       "      <td>440000.0</td>\n",
       "    </tr>\n",
       "    <tr>\n",
       "      <th>3</th>\n",
       "      <td>Hyundai EON D Lite</td>\n",
       "      <td>2013</td>\n",
       "      <td>13000.0</td>\n",
       "      <td>Manual</td>\n",
       "      <td>Petrol</td>\n",
       "      <td>1</td>\n",
       "      <td>5</td>\n",
       "      <td>814.0</td>\n",
       "      <td>21.10</td>\n",
       "      <td>552.0</td>\n",
       "      <td>74.5</td>\n",
       "      <td>15</td>\n",
       "      <td>310000.0</td>\n",
       "    </tr>\n",
       "    <tr>\n",
       "      <th>4</th>\n",
       "      <td>Maruti Swift VXI</td>\n",
       "      <td>2020</td>\n",
       "      <td>50000.0</td>\n",
       "      <td>Manual</td>\n",
       "      <td>Petrol</td>\n",
       "      <td>1</td>\n",
       "      <td>5</td>\n",
       "      <td>1197.0</td>\n",
       "      <td>21.21</td>\n",
       "      <td>8180.0</td>\n",
       "      <td>113.0</td>\n",
       "      <td>15</td>\n",
       "      <td>700000.0</td>\n",
       "    </tr>\n",
       "    <tr>\n",
       "      <th>...</th>\n",
       "      <td>...</td>\n",
       "      <td>...</td>\n",
       "      <td>...</td>\n",
       "      <td>...</td>\n",
       "      <td>...</td>\n",
       "      <td>...</td>\n",
       "      <td>...</td>\n",
       "      <td>...</td>\n",
       "      <td>...</td>\n",
       "      <td>...</td>\n",
       "      <td>...</td>\n",
       "      <td>...</td>\n",
       "      <td>...</td>\n",
       "    </tr>\n",
       "    <tr>\n",
       "      <th>5095</th>\n",
       "      <td>Honda City i VTEC CVT VX</td>\n",
       "      <td>2017</td>\n",
       "      <td>19979.0</td>\n",
       "      <td>Manual</td>\n",
       "      <td>Diesel</td>\n",
       "      <td>1</td>\n",
       "      <td>5</td>\n",
       "      <td>1197.0</td>\n",
       "      <td>18.90</td>\n",
       "      <td>12136.0</td>\n",
       "      <td>90.0</td>\n",
       "      <td>15</td>\n",
       "      <td>430000.0</td>\n",
       "    </tr>\n",
       "    <tr>\n",
       "      <th>5096</th>\n",
       "      <td>Maruti Alto LXi BSIII</td>\n",
       "      <td>2015</td>\n",
       "      <td>111000.0</td>\n",
       "      <td>Manual</td>\n",
       "      <td>Petrol</td>\n",
       "      <td>1</td>\n",
       "      <td>5</td>\n",
       "      <td>1061.0</td>\n",
       "      <td>14.08</td>\n",
       "      <td>1475.0</td>\n",
       "      <td>138.0</td>\n",
       "      <td>15</td>\n",
       "      <td>450000.0</td>\n",
       "    </tr>\n",
       "    <tr>\n",
       "      <th>5097</th>\n",
       "      <td>Maruti Ertiga SHVS VDI</td>\n",
       "      <td>2015</td>\n",
       "      <td>55000.0</td>\n",
       "      <td>Manual</td>\n",
       "      <td>Petrol</td>\n",
       "      <td>1</td>\n",
       "      <td>5</td>\n",
       "      <td>1197.0</td>\n",
       "      <td>12.00</td>\n",
       "      <td>1944.0</td>\n",
       "      <td>17.0</td>\n",
       "      <td>15</td>\n",
       "      <td>335000.0</td>\n",
       "    </tr>\n",
       "    <tr>\n",
       "      <th>5098</th>\n",
       "      <td>Hyundai Xcent 1.2 VTVT SX Option</td>\n",
       "      <td>2020</td>\n",
       "      <td>41900.0</td>\n",
       "      <td>Automatic</td>\n",
       "      <td>Petrol</td>\n",
       "      <td>1</td>\n",
       "      <td>5</td>\n",
       "      <td>1086.0</td>\n",
       "      <td>15.56</td>\n",
       "      <td>838.0</td>\n",
       "      <td>24.0</td>\n",
       "      <td>16</td>\n",
       "      <td>975000.0</td>\n",
       "    </tr>\n",
       "    <tr>\n",
       "      <th>5099</th>\n",
       "      <td>Maruti Swift 1.3 LXI</td>\n",
       "      <td>2014</td>\n",
       "      <td>46000.0</td>\n",
       "      <td>Manual</td>\n",
       "      <td>Diesel</td>\n",
       "      <td>1</td>\n",
       "      <td>5</td>\n",
       "      <td>1798.0</td>\n",
       "      <td>21.21</td>\n",
       "      <td>132.0</td>\n",
       "      <td>90.0</td>\n",
       "      <td>17</td>\n",
       "      <td>235000.0</td>\n",
       "    </tr>\n",
       "  </tbody>\n",
       "</table>\n",
       "<p>5100 rows × 13 columns</p>\n",
       "</div>"
      ],
      "text/plain": [
       "                                 CAR_MODEL  CAR_AGE   CAR_KMS TRANSMISSION  \\\n",
       "0     Hyundai Venue SX Plus Turbo DCT BSIV     2019   32000.0    Automatic   \n",
       "1                            Isuzu MUX 2WD     2017  139000.0    Automatic   \n",
       "2                     Honda Amaze S iVtech     2015   59534.0       Manual   \n",
       "3                       Hyundai EON D Lite     2013   13000.0       Manual   \n",
       "4                         Maruti Swift VXI     2020   50000.0       Manual   \n",
       "...                                    ...      ...       ...          ...   \n",
       "5095              Honda City i VTEC CVT VX     2017   19979.0       Manual   \n",
       "5096                 Maruti Alto LXi BSIII     2015  111000.0       Manual   \n",
       "5097                Maruti Ertiga SHVS VDI     2015   55000.0       Manual   \n",
       "5098      Hyundai Xcent 1.2 VTVT SX Option     2020   41900.0    Automatic   \n",
       "5099                  Maruti Swift 1.3 LXI     2014   46000.0       Manual   \n",
       "\n",
       "     FUEL_TYPE  CAR_OWNERS  SEATING_CAPACITY  ENGINE_DISPLACEMENT(CC)  \\\n",
       "0       Petrol           1                 5                    998.0   \n",
       "1       Diesel           1                 7                   2999.0   \n",
       "2       Petrol           2                 5                   1198.0   \n",
       "3       Petrol           1                 5                    814.0   \n",
       "4       Petrol           1                 5                   1197.0   \n",
       "...        ...         ...               ...                      ...   \n",
       "5095    Diesel           1                 5                   1197.0   \n",
       "5096    Petrol           1                 5                   1061.0   \n",
       "5097    Petrol           1                 5                   1197.0   \n",
       "5098    Petrol           1                 5                   1086.0   \n",
       "5099    Diesel           1                 5                   1798.0   \n",
       "\n",
       "      MILEAGE(kmpl)  CAR_MAX_PWR  TORQUE(NM)  WHEEL_SIZE  CAR_PRICE(RS.)  \n",
       "0             18.15      11835.0       171.6          16       1095000.0  \n",
       "1             13.80      17457.0       380.0          18       1750000.0  \n",
       "2             18.00        867.0       109.0          15        440000.0  \n",
       "3             21.10        552.0        74.5          15        310000.0  \n",
       "4             21.21       8180.0       113.0          15        700000.0  \n",
       "...             ...          ...         ...         ...             ...  \n",
       "5095          18.90      12136.0        90.0          15        430000.0  \n",
       "5096          14.08       1475.0       138.0          15        450000.0  \n",
       "5097          12.00       1944.0        17.0          15        335000.0  \n",
       "5098          15.56        838.0        24.0          16        975000.0  \n",
       "5099          21.21        132.0        90.0          17        235000.0  \n",
       "\n",
       "[5100 rows x 13 columns]"
      ]
     },
     "execution_count": 178,
     "metadata": {},
     "output_type": "execute_result"
    }
   ],
   "source": [
    "df_rd"
   ]
  },
  {
   "cell_type": "code",
   "execution_count": 179,
   "id": "80bae459",
   "metadata": {},
   "outputs": [
    {
     "data": {
      "text/plain": [
       "CAR_MODEL                   object\n",
       "CAR_AGE                      int64\n",
       "CAR_KMS                    float64\n",
       "TRANSMISSION                object\n",
       "FUEL_TYPE                   object\n",
       "CAR_OWNERS                   int64\n",
       "SEATING_CAPACITY             int32\n",
       "ENGINE_DISPLACEMENT(CC)    float64\n",
       "MILEAGE(kmpl)              float64\n",
       "CAR_MAX_PWR                float64\n",
       "TORQUE(NM)                 float64\n",
       "WHEEL_SIZE                   int32\n",
       "CAR_PRICE(RS.)             float64\n",
       "dtype: object"
      ]
     },
     "execution_count": 179,
     "metadata": {},
     "output_type": "execute_result"
    }
   ],
   "source": [
    "df_rd.dtypes"
   ]
  },
  {
   "cell_type": "code",
   "execution_count": 180,
   "id": "f5c69fdc",
   "metadata": {},
   "outputs": [],
   "source": [
    "df_rd.to_excel('Main_used_car_data.xlsx', index=False)"
   ]
  },
  {
   "cell_type": "code",
   "execution_count": 181,
   "id": "01f4e87b",
   "metadata": {},
   "outputs": [
    {
     "data": {
      "text/html": [
       "<div>\n",
       "<style scoped>\n",
       "    .dataframe tbody tr th:only-of-type {\n",
       "        vertical-align: middle;\n",
       "    }\n",
       "\n",
       "    .dataframe tbody tr th {\n",
       "        vertical-align: top;\n",
       "    }\n",
       "\n",
       "    .dataframe thead th {\n",
       "        text-align: right;\n",
       "    }\n",
       "</style>\n",
       "<table border=\"1\" class=\"dataframe\">\n",
       "  <thead>\n",
       "    <tr style=\"text-align: right;\">\n",
       "      <th></th>\n",
       "      <th>CAR_MODEL</th>\n",
       "      <th>CAR_AGE</th>\n",
       "      <th>CAR_KMS</th>\n",
       "      <th>TRANSMISSION</th>\n",
       "      <th>FUEL_TYPE</th>\n",
       "      <th>CAR_OWNERS</th>\n",
       "      <th>SEATING_CAPACITY</th>\n",
       "      <th>ENGINE_DISPLACEMENT(CC)</th>\n",
       "      <th>MILEAGE(kmpl)</th>\n",
       "      <th>CAR_MAX_PWR</th>\n",
       "      <th>TORQUE(NM)</th>\n",
       "      <th>WHEEL_SIZE</th>\n",
       "      <th>CAR_PRICE(RS.)</th>\n",
       "    </tr>\n",
       "  </thead>\n",
       "  <tbody>\n",
       "    <tr>\n",
       "      <th>0</th>\n",
       "      <td>Hyundai Venue SX Plus Turbo DCT BSIV</td>\n",
       "      <td>2019</td>\n",
       "      <td>32000</td>\n",
       "      <td>Automatic</td>\n",
       "      <td>Petrol</td>\n",
       "      <td>1</td>\n",
       "      <td>5</td>\n",
       "      <td>998</td>\n",
       "      <td>18.15</td>\n",
       "      <td>11835</td>\n",
       "      <td>171.6</td>\n",
       "      <td>16</td>\n",
       "      <td>1095000.0</td>\n",
       "    </tr>\n",
       "    <tr>\n",
       "      <th>1</th>\n",
       "      <td>Isuzu MUX 2WD</td>\n",
       "      <td>2017</td>\n",
       "      <td>139000</td>\n",
       "      <td>Automatic</td>\n",
       "      <td>Diesel</td>\n",
       "      <td>1</td>\n",
       "      <td>7</td>\n",
       "      <td>2999</td>\n",
       "      <td>13.80</td>\n",
       "      <td>17457</td>\n",
       "      <td>380.0</td>\n",
       "      <td>18</td>\n",
       "      <td>1750000.0</td>\n",
       "    </tr>\n",
       "    <tr>\n",
       "      <th>2</th>\n",
       "      <td>Honda Amaze S iVtech</td>\n",
       "      <td>2015</td>\n",
       "      <td>59534</td>\n",
       "      <td>Manual</td>\n",
       "      <td>Petrol</td>\n",
       "      <td>2</td>\n",
       "      <td>5</td>\n",
       "      <td>1198</td>\n",
       "      <td>18.00</td>\n",
       "      <td>867</td>\n",
       "      <td>109.0</td>\n",
       "      <td>15</td>\n",
       "      <td>440000.0</td>\n",
       "    </tr>\n",
       "    <tr>\n",
       "      <th>3</th>\n",
       "      <td>Hyundai EON D Lite</td>\n",
       "      <td>2013</td>\n",
       "      <td>13000</td>\n",
       "      <td>Manual</td>\n",
       "      <td>Petrol</td>\n",
       "      <td>1</td>\n",
       "      <td>5</td>\n",
       "      <td>814</td>\n",
       "      <td>21.10</td>\n",
       "      <td>552</td>\n",
       "      <td>74.5</td>\n",
       "      <td>15</td>\n",
       "      <td>310000.0</td>\n",
       "    </tr>\n",
       "    <tr>\n",
       "      <th>4</th>\n",
       "      <td>Maruti Swift VXI</td>\n",
       "      <td>2020</td>\n",
       "      <td>50000</td>\n",
       "      <td>Manual</td>\n",
       "      <td>Petrol</td>\n",
       "      <td>1</td>\n",
       "      <td>5</td>\n",
       "      <td>1197</td>\n",
       "      <td>21.21</td>\n",
       "      <td>8180</td>\n",
       "      <td>113.0</td>\n",
       "      <td>15</td>\n",
       "      <td>700000.0</td>\n",
       "    </tr>\n",
       "    <tr>\n",
       "      <th>...</th>\n",
       "      <td>...</td>\n",
       "      <td>...</td>\n",
       "      <td>...</td>\n",
       "      <td>...</td>\n",
       "      <td>...</td>\n",
       "      <td>...</td>\n",
       "      <td>...</td>\n",
       "      <td>...</td>\n",
       "      <td>...</td>\n",
       "      <td>...</td>\n",
       "      <td>...</td>\n",
       "      <td>...</td>\n",
       "      <td>...</td>\n",
       "    </tr>\n",
       "    <tr>\n",
       "      <th>5095</th>\n",
       "      <td>Honda City i VTEC CVT VX</td>\n",
       "      <td>2017</td>\n",
       "      <td>19979</td>\n",
       "      <td>Manual</td>\n",
       "      <td>Diesel</td>\n",
       "      <td>1</td>\n",
       "      <td>5</td>\n",
       "      <td>1197</td>\n",
       "      <td>18.90</td>\n",
       "      <td>12136</td>\n",
       "      <td>90.0</td>\n",
       "      <td>15</td>\n",
       "      <td>430000.0</td>\n",
       "    </tr>\n",
       "    <tr>\n",
       "      <th>5096</th>\n",
       "      <td>Maruti Alto LXi BSIII</td>\n",
       "      <td>2015</td>\n",
       "      <td>111000</td>\n",
       "      <td>Manual</td>\n",
       "      <td>Petrol</td>\n",
       "      <td>1</td>\n",
       "      <td>5</td>\n",
       "      <td>1061</td>\n",
       "      <td>14.08</td>\n",
       "      <td>1475</td>\n",
       "      <td>138.0</td>\n",
       "      <td>15</td>\n",
       "      <td>450000.0</td>\n",
       "    </tr>\n",
       "    <tr>\n",
       "      <th>5097</th>\n",
       "      <td>Maruti Ertiga SHVS VDI</td>\n",
       "      <td>2015</td>\n",
       "      <td>55000</td>\n",
       "      <td>Manual</td>\n",
       "      <td>Petrol</td>\n",
       "      <td>1</td>\n",
       "      <td>5</td>\n",
       "      <td>1197</td>\n",
       "      <td>12.00</td>\n",
       "      <td>1944</td>\n",
       "      <td>17.0</td>\n",
       "      <td>15</td>\n",
       "      <td>335000.0</td>\n",
       "    </tr>\n",
       "    <tr>\n",
       "      <th>5098</th>\n",
       "      <td>Hyundai Xcent 1.2 VTVT SX Option</td>\n",
       "      <td>2020</td>\n",
       "      <td>41900</td>\n",
       "      <td>Automatic</td>\n",
       "      <td>Petrol</td>\n",
       "      <td>1</td>\n",
       "      <td>5</td>\n",
       "      <td>1086</td>\n",
       "      <td>15.56</td>\n",
       "      <td>838</td>\n",
       "      <td>24.0</td>\n",
       "      <td>16</td>\n",
       "      <td>975000.0</td>\n",
       "    </tr>\n",
       "    <tr>\n",
       "      <th>5099</th>\n",
       "      <td>Maruti Swift 1.3 LXI</td>\n",
       "      <td>2014</td>\n",
       "      <td>46000</td>\n",
       "      <td>Manual</td>\n",
       "      <td>Diesel</td>\n",
       "      <td>1</td>\n",
       "      <td>5</td>\n",
       "      <td>1798</td>\n",
       "      <td>21.21</td>\n",
       "      <td>132</td>\n",
       "      <td>90.0</td>\n",
       "      <td>17</td>\n",
       "      <td>235000.0</td>\n",
       "    </tr>\n",
       "  </tbody>\n",
       "</table>\n",
       "<p>5100 rows × 13 columns</p>\n",
       "</div>"
      ],
      "text/plain": [
       "                                 CAR_MODEL  CAR_AGE  CAR_KMS TRANSMISSION  \\\n",
       "0     Hyundai Venue SX Plus Turbo DCT BSIV     2019    32000    Automatic   \n",
       "1                            Isuzu MUX 2WD     2017   139000    Automatic   \n",
       "2                     Honda Amaze S iVtech     2015    59534       Manual   \n",
       "3                       Hyundai EON D Lite     2013    13000       Manual   \n",
       "4                         Maruti Swift VXI     2020    50000       Manual   \n",
       "...                                    ...      ...      ...          ...   \n",
       "5095              Honda City i VTEC CVT VX     2017    19979       Manual   \n",
       "5096                 Maruti Alto LXi BSIII     2015   111000       Manual   \n",
       "5097                Maruti Ertiga SHVS VDI     2015    55000       Manual   \n",
       "5098      Hyundai Xcent 1.2 VTVT SX Option     2020    41900    Automatic   \n",
       "5099                  Maruti Swift 1.3 LXI     2014    46000       Manual   \n",
       "\n",
       "     FUEL_TYPE  CAR_OWNERS  SEATING_CAPACITY  ENGINE_DISPLACEMENT(CC)  \\\n",
       "0       Petrol           1                 5                      998   \n",
       "1       Diesel           1                 7                     2999   \n",
       "2       Petrol           2                 5                     1198   \n",
       "3       Petrol           1                 5                      814   \n",
       "4       Petrol           1                 5                     1197   \n",
       "...        ...         ...               ...                      ...   \n",
       "5095    Diesel           1                 5                     1197   \n",
       "5096    Petrol           1                 5                     1061   \n",
       "5097    Petrol           1                 5                     1197   \n",
       "5098    Petrol           1                 5                     1086   \n",
       "5099    Diesel           1                 5                     1798   \n",
       "\n",
       "      MILEAGE(kmpl)  CAR_MAX_PWR  TORQUE(NM)  WHEEL_SIZE  CAR_PRICE(RS.)  \n",
       "0             18.15        11835       171.6          16       1095000.0  \n",
       "1             13.80        17457       380.0          18       1750000.0  \n",
       "2             18.00          867       109.0          15        440000.0  \n",
       "3             21.10          552        74.5          15        310000.0  \n",
       "4             21.21         8180       113.0          15        700000.0  \n",
       "...             ...          ...         ...         ...             ...  \n",
       "5095          18.90        12136        90.0          15        430000.0  \n",
       "5096          14.08         1475       138.0          15        450000.0  \n",
       "5097          12.00         1944        17.0          15        335000.0  \n",
       "5098          15.56          838        24.0          16        975000.0  \n",
       "5099          21.21          132        90.0          17        235000.0  \n",
       "\n",
       "[5100 rows x 13 columns]"
      ]
     },
     "execution_count": 181,
     "metadata": {},
     "output_type": "execute_result"
    }
   ],
   "source": [
    "rd=pd.read_excel('Main_used_car_data.xlsx')\n",
    "rd"
   ]
  },
  {
   "cell_type": "code",
   "execution_count": 183,
   "id": "44f4d018",
   "metadata": {},
   "outputs": [
    {
     "data": {
      "text/plain": [
       "CAR_MODEL                   object\n",
       "CAR_AGE                      int64\n",
       "CAR_KMS                      int64\n",
       "TRANSMISSION                object\n",
       "FUEL_TYPE                   object\n",
       "CAR_OWNERS                   int64\n",
       "SEATING_CAPACITY             int64\n",
       "ENGINE_DISPLACEMENT(CC)      int64\n",
       "MILEAGE(kmpl)              float64\n",
       "CAR_MAX_PWR                  int64\n",
       "TORQUE(NM)                 float64\n",
       "WHEEL_SIZE                   int64\n",
       "CAR_PRICE(RS.)             float64\n",
       "dtype: object"
      ]
     },
     "execution_count": 183,
     "metadata": {},
     "output_type": "execute_result"
    }
   ],
   "source": [
    "rd.dtypes"
   ]
  },
  {
   "cell_type": "code",
   "execution_count": null,
   "id": "8e63de52",
   "metadata": {},
   "outputs": [],
   "source": []
  }
 ],
 "metadata": {
  "kernelspec": {
   "display_name": "Python 3 (ipykernel)",
   "language": "python",
   "name": "python3"
  },
  "language_info": {
   "codemirror_mode": {
    "name": "ipython",
    "version": 3
   },
   "file_extension": ".py",
   "mimetype": "text/x-python",
   "name": "python",
   "nbconvert_exporter": "python",
   "pygments_lexer": "ipython3",
   "version": "3.9.13"
  }
 },
 "nbformat": 4,
 "nbformat_minor": 5
}
